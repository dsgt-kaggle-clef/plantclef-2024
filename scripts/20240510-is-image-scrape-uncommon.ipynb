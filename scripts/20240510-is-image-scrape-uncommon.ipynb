{
 "cells": [
  {
   "cell_type": "code",
   "execution_count": 5,
   "metadata": {},
   "outputs": [
    {
     "name": "stdout",
     "output_type": "stream",
     "text": [
      "Requirement already satisfied: selenium in /Library/Frameworks/Python.framework/Versions/3.11/lib/python3.11/site-packages (4.20.0)\n",
      "Requirement already satisfied: urllib3[socks]<3,>=1.26 in /Library/Frameworks/Python.framework/Versions/3.11/lib/python3.11/site-packages (from selenium) (2.2.1)\n",
      "Requirement already satisfied: trio~=0.17 in /Library/Frameworks/Python.framework/Versions/3.11/lib/python3.11/site-packages (from selenium) (0.25.0)\n",
      "Requirement already satisfied: trio-websocket~=0.9 in /Library/Frameworks/Python.framework/Versions/3.11/lib/python3.11/site-packages (from selenium) (0.11.1)\n",
      "Requirement already satisfied: certifi>=2021.10.8 in /Library/Frameworks/Python.framework/Versions/3.11/lib/python3.11/site-packages (from selenium) (2024.2.2)\n",
      "Requirement already satisfied: typing_extensions>=4.9.0 in /Library/Frameworks/Python.framework/Versions/3.11/lib/python3.11/site-packages (from selenium) (4.11.0)\n",
      "Requirement already satisfied: attrs>=23.2.0 in /Library/Frameworks/Python.framework/Versions/3.11/lib/python3.11/site-packages (from trio~=0.17->selenium) (23.2.0)\n",
      "Requirement already satisfied: sortedcontainers in /Library/Frameworks/Python.framework/Versions/3.11/lib/python3.11/site-packages (from trio~=0.17->selenium) (2.4.0)\n",
      "Requirement already satisfied: idna in /Library/Frameworks/Python.framework/Versions/3.11/lib/python3.11/site-packages (from trio~=0.17->selenium) (3.7)\n",
      "Requirement already satisfied: outcome in /Library/Frameworks/Python.framework/Versions/3.11/lib/python3.11/site-packages (from trio~=0.17->selenium) (1.3.0.post0)\n",
      "Requirement already satisfied: sniffio>=1.3.0 in /Library/Frameworks/Python.framework/Versions/3.11/lib/python3.11/site-packages (from trio~=0.17->selenium) (1.3.1)\n",
      "Requirement already satisfied: wsproto>=0.14 in /Library/Frameworks/Python.framework/Versions/3.11/lib/python3.11/site-packages (from trio-websocket~=0.9->selenium) (1.2.0)\n",
      "Requirement already satisfied: pysocks!=1.5.7,<2.0,>=1.5.6 in /Library/Frameworks/Python.framework/Versions/3.11/lib/python3.11/site-packages (from urllib3[socks]<3,>=1.26->selenium) (1.7.1)\n",
      "Requirement already satisfied: h11<1,>=0.9.0 in /Library/Frameworks/Python.framework/Versions/3.11/lib/python3.11/site-packages (from wsproto>=0.14->trio-websocket~=0.9->selenium) (0.14.0)\n",
      "\n",
      "\u001b[1m[\u001b[0m\u001b[34;49mnotice\u001b[0m\u001b[1;39;49m]\u001b[0m\u001b[39;49m A new release of pip is available: \u001b[0m\u001b[31;49m23.2.1\u001b[0m\u001b[39;49m -> \u001b[0m\u001b[32;49m24.0\u001b[0m\n",
      "\u001b[1m[\u001b[0m\u001b[34;49mnotice\u001b[0m\u001b[1;39;49m]\u001b[0m\u001b[39;49m To update, run: \u001b[0m\u001b[32;49mpython3.11 -m pip install --upgrade pip\u001b[0m\n",
      "Requirement already satisfied: chromedriver in /Library/Frameworks/Python.framework/Versions/3.11/lib/python3.11/site-packages (2.24.1)\n",
      "\n",
      "\u001b[1m[\u001b[0m\u001b[34;49mnotice\u001b[0m\u001b[1;39;49m]\u001b[0m\u001b[39;49m A new release of pip is available: \u001b[0m\u001b[31;49m23.2.1\u001b[0m\u001b[39;49m -> \u001b[0m\u001b[32;49m24.0\u001b[0m\n",
      "\u001b[1m[\u001b[0m\u001b[34;49mnotice\u001b[0m\u001b[1;39;49m]\u001b[0m\u001b[39;49m To update, run: \u001b[0m\u001b[32;49mpython3.11 -m pip install --upgrade pip\u001b[0m\n",
      "Collecting chromedriver_py\n",
      "  Obtaining dependency information for chromedriver_py from https://files.pythonhosted.org/packages/9c/10/4e2f2608218afe5f2d0113117bd620741c9696136850d4196a8b5fe949f8/chromedriver_py-124.0.6367.201-py3-none-any.whl.metadata\n",
      "  Downloading chromedriver_py-124.0.6367.201-py3-none-any.whl.metadata (1.8 kB)\n",
      "Downloading chromedriver_py-124.0.6367.201-py3-none-any.whl (42.9 MB)\n",
      "\u001b[2K   \u001b[90m━━━━━━━━━━━━━━━━━━━━━━━━━━━━━━━━━━━━━━━━\u001b[0m \u001b[32m42.9/42.9 MB\u001b[0m \u001b[31m965.1 kB/s\u001b[0m eta \u001b[36m0:00:00\u001b[0m:01\u001b[0m00:02\u001b[0m0m\n",
      "\u001b[?25hInstalling collected packages: chromedriver_py\n",
      "Successfully installed chromedriver_py-124.0.6367.201\n",
      "\n",
      "\u001b[1m[\u001b[0m\u001b[34;49mnotice\u001b[0m\u001b[1;39;49m]\u001b[0m\u001b[39;49m A new release of pip is available: \u001b[0m\u001b[31;49m23.2.1\u001b[0m\u001b[39;49m -> \u001b[0m\u001b[32;49m24.0\u001b[0m\n",
      "\u001b[1m[\u001b[0m\u001b[34;49mnotice\u001b[0m\u001b[1;39;49m]\u001b[0m\u001b[39;49m To update, run: \u001b[0m\u001b[32;49mpython3.11 -m pip install --upgrade pip\u001b[0m\n"
     ]
    }
   ],
   "source": [
    "!pip3 install selenium\n",
    "!pip3 install chromedriver\n",
    "!pip3 install chromedriver_py\n",
    "\n",
    "from selenium import webdriver\n",
    "from selenium.webdriver.chrome.service import Service\n",
    "from selenium.webdriver.common.keys import Keys\n",
    "from bs4 import BeautifulSoup\n",
    "import os\n",
    "import sys\n",
    "import requests\n",
    "import time\n",
    "from chromedriver_py import binary_path"
   ]
  },
  {
   "cell_type": "code",
   "execution_count": 6,
   "metadata": {},
   "outputs": [],
   "source": [
    "wordlist = [\"Pentanema\", \"Armeria\", \"cantabrica\", \"Boiss.\", \"Reut.\", \"Willk.\", \"Salix\", \"guinieri\", \"Chass.\", \"Goerz\", \"Saxifraga\", \"capitata\", \"Lapeyr.\", \"Taraxacum\", \"ciliare\", \"Soest\", \"Crocus\", \"clusii\", \"J.Gay\", \"Carex\", \"Anchusa\", \"puechii\", \"Valdés\", \"Carex\", \"fussii\", \"Simonk.\", \"Myosotis\", \"soleirolii\", \"Godr.\", \"Anthyllis\", \"Heracleum\", \"Melilotus\", \"infestus\", \"Guss.\", \"Delphinium\", \"bolosii\", \"C.Blanché\", \"Molero\", \"Galium\", \"Helianthemum\", \"papillare\", \"Boiss.\", \"Genista\", \"ancistrocarpa\", \"Spach\", \"Trisetaria\", \"macrochaeta\", \"(Boiss.)\", \"Maire\", \"Geum\", \"Galium\", \"valentinum\", \"Lange\", \"Crepis\", \"zacintha\", \"Loisel.\", \"Poa\", \"austrohercynica\", \"Wein\", \"Ranunculus\", \"demissus\", \"DC.\", \"Equisetum\", \"Limonium\", \"lucentinum\", \"Pignatti\",  \"Freitag\", \"Pilosella\", \"pilosellina\", \"(F.W.Schultz)\", \"F.W.Schultz\", \"Sch.Bip.\", \"ex\", \"Soják\", \"Salicornia\", \"disarticulata\", \"Moss\", \"Populus\", \"Avellinia\", \"festucoides\", \"(Link)\", \"Valdés\", \"H.Scholz\", \"Anchusa\", \"Verbascum\", \"kerneri\", \"Borbás\", \"Erythronium\", \"Apteranthes\", \"munbyana\", \"(Decne.)\", \"Meve\", \"&\", \"Liede\", \"Dactylorhiza\", \"gervasiana\", \"(Tod.)\", \"H.Baumann\", \"&\", \"Künkele\", \"Periballia\", \"involucrata\", \"(Cav.)\", \"Janka\", \"Ulmus\", \"Carex\", \"furva\", \"Webb\", \"Aster\", \"bellidiastrum\", \"(L.)\", \"Scop.\", \"Rubus\", \"caninitergi\", \"H.E.Weber\", \"Genista\", \"tribracteolata\", \"(Webb)\", \"Pau\", \"Butomus\", \"Festuca\", \"stenantha\", \"(Hack.)\", \"K.Richt.\", \"Thymus\", \"willkommii\", \"Ronniger\", \"Festuca\", \"clementei\", \"Boiss.\", \"Senecio\", \"eriopus\", \"Willk.\", \"Silene\", \"arghireica\", \"Vals.\", \"Linaria\", \"Romulea\", \"corsica\", \"Jord.\", \"&\", \"Fourr.\", \"Bivonaea\", \"lutea\", \"(Biv.)\", \"DC.\", \"Lonicera\", \"Agrostemma\", \"Taraxacum\", \"hamatulum\", \"Hagend.,\", \"Soest\", \"Zevenb.\", \"Silene\", \"Allium\", \"grosii\", \"Font\", \"Quer\", \"Cistus\", \"stenophyllus\", \"Link\", \"Crepis\", \"granatensis\", \"(Willk.)\", \"Blanca\", \"&\", \"Cueto\", \"Atriplex\", \"×\", \"gustafssoniana\", \"Tascher.\", \"Scrophularia\", \"herminii\", \"Hoffmanns.\", \"&\", \"Link\", \"Rubus\", \"venetorum\", \"D.E.Allen\", \"Aquilegia\", \"hirsutissima\", \"Timb.-Lagr.\", \"ex\", \"Gariod\", \"Limonium\", \"subglabrum\", \"Erben\", \"Haloxylon\", \"tamariscifolium\", \"(L.)\", \"Pau\", \"Cynanchica\", \"×\", \"jordanii\", \"(E.P.Perrier\", \"&\", \"Songeon)\", \"P.Caputo\", \"&\", \"Del\", \"Guacchio\", \"Astragalus\", \"cymbicarpos\", \"Brot.\", \"Sorbaria\", \"Taraxacum\", \"maculosum\", \"A.J.Richards\", \"Salvia\", \"×\", \"accidentalis\", \"Sánchez-Gómez\", \"&\", \"R.Morales\", \"Melilotus\", \"Oenothera\", \"Scutellaria\", \"×\", \"nicholsonii\", \"Taub.\", \"Genista\", \"cadasonensis\", \"Vals.\", \"Suaeda\", \"braun-blanquetii\", \"(Pedrol\", \"&\", \"Castrov.)\", \"Rivas\", \"Mart.,\", \"Cantó\", \"&\", \"Sánchez\", \"Mata\", \"Taraxacum\", \"pseudomarklundii\", \"Soest\", \"Mentha\", \"×\", \"wirtgeniana\", \"F.W.Schultz\", \"Carex\", \"asturica\", \"Boiss.\", \"Hedera\", \"rhizomatifera\", \"(McAll.)\", \"Jury\", \"Schlagintweitia\", \"chamaepicris\", \"(Arv.-Touv.)\", \"Greuter\", \"Rubus\", \"pulcher\", \"P.J.Müll.\", \"&\", \"Lefèvre\", \"Quercus\", \"×\", \"streimii\", \"Heuff.\", \"Dianthus\", \"genargenteus\", \"Bacch.,\", \"Brullo,\", \"Casti\", \"&\", \"Giusso\", \"Delphinium\", \"mauritanicum\", \"Coss.\", \"Hieracium\", \"chaixianum\", \"Arv.-Touv.\", \"&\", \"Gaut.\", \"Limonium\", \"corsicum\", \"Erben\", \"Trisetaria\", \"aurea\", \"(Ten.)\", \"Pignatti\", \"ex\", \"Kerguélen\", \"Teucrium\", \"pseudoscorodonia\", \"Desf.\", \"Alyssum\", \"rhodanense\", \"Jord.\", \"&\", \"Fourr.\", \"Taraxacum\", \"discretum\", \"H.Øllg.\", \"Lactuca\", \"Agrostis\", \"pourretii\", \"Willd.\", \"Festuca\", \"inops\", \"De\", \"Not.\", \"Sempervivum\", \"×\", \"stenopetalum\", \"Schnittsp.\", \"&\", \"C.B.Lehm.\", \"Papaver\", \"confine\", \"Jord.\", \"Alchemilla\", \"cinerea\", \"Buser\", \"Cardamine\", \"Pulmonaria\", \"Orobanche\", \"portoilicitana\", \"A.Pujadas\", \"M.B.Crespo\", \"Limonium\", \"tournefortii\", \"(Girard)\", \"Erben\", \"Koeleria\", \"caudata\", \"(Link)\", \"Steud.\", \"Veratrum\", \"Linaria\", \"ficalhoana\", \"Rouy\"]\n",
    "searchword1 = 'Bromiuls sterilis'\n",
    "searchword2 = 'plant'\n",
    "searchurl = f'https://www.google.com/search?q={searchword1}+{searchword2}&source=lnms&tbm=isch'\n",
    "dirs = 'pictures'\n",
    "maxcount = 100\n",
    "\n",
    "svc = Service(binary_path)\n",
    "svc.start()\n",
    "if not os.path.exists(dirs):\n",
    "    os.mkdir(dirs)"
   ]
  },
  {
   "cell_type": "code",
   "execution_count": 13,
   "metadata": {},
   "outputs": [],
   "source": [
    "def download_google_staticimages(word):\n",
    "    options = webdriver.ChromeOptions()\n",
    "    options.add_argument('--no-sandbox')\n",
    "    # options.add_argument('--headless')  # Uncomment this line if you want to run Chrome in headless mode\n",
    "    searchurl = f'https://www.google.com/search?q={word}+{searchword2}&source=lnms&tbm=isch'\n",
    "    print('r',searchurl)\n",
    "    \n",
    "    try:\n",
    "        browser = webdriver.Chrome(service=svc, options=options)\n",
    "    except Exception as e:\n",
    "        print('Chromedriver not found in this environment.')\n",
    "        print(f'Please install chromedriver on your machine. Exception: {e}')\n",
    "        sys.exit()\n",
    "\n",
    "    browser.set_window_size(1280, 1024)\n",
    "    browser.get(searchurl)\n",
    "    time.sleep(1)\n",
    "\n",
    "    print('Getting images. This may take a few moments...')\n",
    "\n",
    "    for _ in range(5):\n",
    "        browser.execute_script(\"window.scrollBy(0, 1000)\")\n",
    "\n",
    "    page_source = browser.page_source \n",
    "    soup = BeautifulSoup(page_source, 'html.parser')\n",
    "    images = soup.find_all('img')\n",
    "\n",
    "    urls = []\n",
    "    for image in images:\n",
    "        try:\n",
    "            url = image['src']\n",
    "            if url.startswith('https://'):\n",
    "                urls.append(url)\n",
    "        except Exception as e:\n",
    "            print('Error extracting image URLs:', e)\n",
    "\n",
    "    count = 0\n",
    "    for url in urls[:maxcount]:\n",
    "        try:\n",
    "            res = requests.get(url, verify=False, stream=True)\n",
    "            if res.status_code == 200:\n",
    "                with open(os.path.join(dirs, f'img_{count}-{word}.jpg'), 'wb') as f:\n",
    "                    f.write(res.content)\n",
    "                    count += 1\n",
    "        except Exception as e:\n",
    "            print('Failed to download image:', e)\n",
    "\n",
    "    browser.quit()\n",
    "    return count"
   ]
  },
  {
   "cell_type": "code",
   "execution_count": null,
   "metadata": {},
   "outputs": [],
   "source": [
    "t0 = time.time()\n",
    "for word in range(0,len(wordlist)):\n",
    "    count = download_google_staticimages(wordlist[word])\n",
    "    t1 = time.time()\n",
    "\n",
    "    total_time = t1 - t0\n",
    "    print('\\n')\n",
    "    print(f'Download completed. Successful count = {count}.')\n",
    "    print(f'Total time: {total_time:.2f} seconds.')\n",
    "svc.stop()"
   ]
  },
  {
   "cell_type": "code",
   "execution_count": null,
   "metadata": {},
   "outputs": [],
   "source": [
    "gcs_path = \"gs://dsgt-clef-plantclef-2024/uncommon/\"\n",
    "dir = \"/pictures\"\n",
    "###gsutil -m cp -r dir gcs_path"
   ]
  }
 ],
 "metadata": {
  "kernelspec": {
   "display_name": "Python 3",
   "language": "python",
   "name": "python3"
  },
  "language_info": {
   "codemirror_mode": {
    "name": "ipython",
    "version": 3
   },
   "file_extension": ".py",
   "mimetype": "text/x-python",
   "name": "python",
   "nbconvert_exporter": "python",
   "pygments_lexer": "ipython3",
   "version": "3.11.6"
  }
 },
 "nbformat": 4,
 "nbformat_minor": 2
}
