{
 "cells": [
  {
   "cell_type": "markdown",
   "metadata": {},
   "source": [
    "# Image to Embedding using DINOv2"
   ]
  },
  {
   "cell_type": "code",
   "execution_count": 1,
   "metadata": {},
   "outputs": [],
   "source": [
    "%load_ext autoreload\n",
    "%autoreload 2"
   ]
  },
  {
   "cell_type": "code",
   "execution_count": 2,
   "metadata": {},
   "outputs": [
    {
     "name": "stderr",
     "output_type": "stream",
     "text": [
      "Setting default log level to \"WARN\".\n",
      "To adjust logging level use sc.setLogLevel(newLevel). For SparkR, use setLogLevel(newLevel).\n",
      "24/03/31 18:23:52 WARN NativeCodeLoader: Unable to load native-hadoop library for your platform... using builtin-java classes where applicable\n",
      "24/03/31 18:23:53 WARN SparkConf: Note that spark.local.dir will be overridden by the value set by the cluster manager (via SPARK_LOCAL_DIRS in mesos/standalone/kubernetes and LOCAL_DIRS in YARN).\n"
     ]
    },
    {
     "data": {
      "text/html": [
       "\n",
       "            <div>\n",
       "                <p><b>SparkSession - in-memory</b></p>\n",
       "                \n",
       "        <div>\n",
       "            <p><b>SparkContext</b></p>\n",
       "\n",
       "            <p><a href=\"http://plantclef-dev.us-central1-a.c.dsgt-clef-2024.internal:4040\">Spark UI</a></p>\n",
       "\n",
       "            <dl>\n",
       "              <dt>Version</dt>\n",
       "                <dd><code>v3.5.0</code></dd>\n",
       "              <dt>Master</dt>\n",
       "                <dd><code>local[*]</code></dd>\n",
       "              <dt>AppName</dt>\n",
       "                <dd><code>plantclef</code></dd>\n",
       "            </dl>\n",
       "        </div>\n",
       "        \n",
       "            </div>\n",
       "        "
      ],
      "text/plain": [
       "<pyspark.sql.session.SparkSession at 0x7f99e3f926b0>"
      ]
     },
     "metadata": {},
     "output_type": "display_data"
    }
   ],
   "source": [
    "from plantclef.utils import get_spark\n",
    "\n",
    "spark = get_spark()\n",
    "display(spark)"
   ]
  },
  {
   "cell_type": "code",
   "execution_count": 3,
   "metadata": {},
   "outputs": [
    {
     "name": "stdout",
     "output_type": "stream",
     "text": [
      "Sun Mar 31 18:24:02 UTC 2024\n"
     ]
    },
    {
     "name": "stdout",
     "output_type": "stream",
     "text": [
      "gs://dsgt-clef-plantclef-2024/data/parquet_files/\n",
      "gs://dsgt-clef-plantclef-2024/data/parquet_files/PlantCLEF2022_web_training_images_1/\n",
      "gs://dsgt-clef-plantclef-2024/data/parquet_files/PlantCLEF2022_web_training_images_4/\n",
      "gs://dsgt-clef-plantclef-2024/data/parquet_files/PlantCLEF2024_test/\n",
      "gs://dsgt-clef-plantclef-2024/data/parquet_files/PlantCLEF2024_training/\n",
      "gs://dsgt-clef-plantclef-2024/data/parquet_files/PlantCLEF2024_training_cropped_resized/\n",
      "gs://dsgt-clef-plantclef-2024/data/parquet_files/PlantCLEF2024_training_cropped_resized_v2/\n"
     ]
    }
   ],
   "source": [
    "# Get list of stored filed in cloud bucket\n",
    "root = \"gs://dsgt-clef-plantclef-2024\"\n",
    "! date\n",
    "! gcloud storage ls {root}/data/parquet_files"
   ]
  },
  {
   "cell_type": "code",
   "execution_count": 4,
   "metadata": {},
   "outputs": [
    {
     "name": "stderr",
     "output_type": "stream",
     "text": [
      "                                                                                \r"
     ]
    },
    {
     "name": "stdout",
     "output_type": "stream",
     "text": [
      "+--------------------+--------------------+------+----------+----------+--------------------+-------+--------------------+--------+-------------+-------------+---------------+--------------------+----------+-------------+--------+-----------+--------------------+--------------------+---------+--------------------+--------------------+\n",
      "|          image_name|                path| organ|species_id|    obs_id|             license|partner|              author|altitude|     latitude|    longitude|gbif_species_id|             species|     genus|       family| dataset|  publisher|          references|                 url|learn_tag|    image_backup_url|                data|\n",
      "+--------------------+--------------------+------+----------+----------+--------------------+-------+--------------------+--------+-------------+-------------+---------------+--------------------+----------+-------------+--------+-----------+--------------------+--------------------+---------+--------------------+--------------------+\n",
      "|2fb34c40832bffad3...|/PlantCLEF2024/tr...|  bark|   1361703|4116028543|http://creativeco...|   NULL|              Tony H|    NULL|         NULL|         NULL|      5328663.0|Posidonia oceanic...| Posidonia|Posidoniaceae|    gbif|iNaturalist|https://www.inatu...|https://inaturali...|    train|https://lab.plant...|[FF D8 FF E0 00 1...|\n",
      "|38da078be8660b772...|/PlantCLEF2024/tr...| habit|   1355927|1003213237|            cc-by-sa|   tela|Tela Botanica − J...|   219.0|     43.59753|     -8.12915|      3114986.0|Arctotheca calend...|Arctotheca|   Asteraceae|plantnet|   plantnet|https://identify....|https://bs.plantn...|    train|https://lab.plant...|[FF D8 FF E0 00 1...|\n",
      "|4fe98ed9eff6eed40...|/PlantCLEF2024/tr...|flower|   1388692|1009573842|            cc-by-sa|   NULL|   Monteiro Henrique|   124.0|38.6945228605|-9.2953275237|      3172592.0|Podranea ricasoli...|  Podranea| Bignoniaceae|plantnet|   plantnet|https://identify....|https://bs.plantn...|    train|https://lab.plant...|[FF D8 FF E0 00 1...|\n",
      "+--------------------+--------------------+------+----------+----------+--------------------+-------+--------------------+--------+-------------+-------------+---------------+--------------------+----------+-------------+--------+-----------+--------------------+--------------------+---------+--------------------+--------------------+\n",
      "only showing top 3 rows\n",
      "\n"
     ]
    }
   ],
   "source": [
    "# Path and dataset names\n",
    "gcs_path = \"gs://dsgt-clef-plantclef-2024/data/parquet_files/\"\n",
    "train = \"PlantCLEF2024_training_cropped_resized_v2\"\n",
    "\n",
    "# Define the GCS path to the Train parquet file\n",
    "train_gcs_path = f\"{gcs_path}{train}\"\n",
    "\n",
    "# Read the Parquet file into a DataFrame\n",
    "train_df = spark.read.parquet(train_gcs_path)\n",
    "\n",
    "# Show the data (for example, first few rows)\n",
    "train_df.show(n=3)"
   ]
  },
  {
   "cell_type": "markdown",
   "metadata": {},
   "source": [
    "### pipeline"
   ]
  },
  {
   "cell_type": "code",
   "execution_count": 5,
   "metadata": {},
   "outputs": [
    {
     "name": "stderr",
     "output_type": "stream",
     "text": [
      "preprocessor_config.json: 100%|██████████| 436/436 [00:00<00:00, 2.07MB/s]) / 1]\n",
      "config.json: 100%|██████████| 548/548 [00:00<00:00, 3.00MB/s]\n",
      "model.safetensors: 100%|██████████| 346M/346M [00:01<00:00, 196MB/s]  \n",
      "                                                                                \r"
     ]
    },
    {
     "name": "stdout",
     "output_type": "stream",
     "text": [
      "+--------------------+--------------------+------+----------+----------+--------------------+-------+--------------------+--------+-----------------+------------------+---------------+--------------------+-----------+-------------+--------+-----------+--------------------+--------------------+---------+--------------------+--------------------+--------------------+--------------------+\n",
      "|          image_name|                path| organ|species_id|    obs_id|             license|partner|              author|altitude|         latitude|         longitude|gbif_species_id|             species|      genus|       family| dataset|  publisher|          references|                 url|learn_tag|    image_backup_url|                data|    transformed_data|           dctn_data|\n",
      "+--------------------+--------------------+------+----------+----------+--------------------+-------+--------------------+--------+-----------------+------------------+---------------+--------------------+-----------+-------------+--------+-----------+--------------------+--------------------+---------+--------------------+--------------------+--------------------+--------------------+\n",
      "|2fb34c40832bffad3...|/PlantCLEF2024/tr...|  bark|   1361703|4116028543|http://creativeco...|   NULL|              Tony H|    NULL|             NULL|              NULL|      5328663.0|Posidonia oceanic...|  Posidonia|Posidoniaceae|    gbif|iNaturalist|https://www.inatu...|https://inaturali...|    train|https://lab.plant...|[FF D8 FF E0 00 1...|[-1.4597728, 0.30...|[-12994.014, -420...|\n",
      "|38da078be8660b772...|/PlantCLEF2024/tr...| habit|   1355927|1003213237|            cc-by-sa|   tela|Tela Botanica − J...|   219.0|         43.59753|          -8.12915|      3114986.0|Arctotheca calend...| Arctotheca|   Asteraceae|plantnet|   plantnet|https://identify....|https://bs.plantn...|    train|https://lab.plant...|[FF D8 FF E0 00 1...|[-1.5109649, -0.2...|[-27134.713, 2344...|\n",
      "|4fe98ed9eff6eed40...|/PlantCLEF2024/tr...|flower|   1388692|1009573842|            cc-by-sa|   NULL|   Monteiro Henrique|   124.0|    38.6945228605|     -9.2953275237|      3172592.0|Podranea ricasoli...|   Podranea| Bignoniaceae|plantnet|   plantnet|https://identify....|https://bs.plantn...|    train|https://lab.plant...|[FF D8 FF E0 00 1...|[0.13857892, -2.2...|[-24760.73, -2717...|\n",
      "|7f860afafc878496b...|/PlantCLEF2024/tr...|flower|   1388692|1015824159|            cc-by-sa|   NULL|   jean-louis Dupond| 13.4947|    44.7214660645|     -1.2010058093|      3172592.0|Podranea ricasoli...|   Podranea| Bignoniaceae|plantnet|   plantnet|https://identify....|https://bs.plantn...|    train|https://lab.plant...|[FF D8 FF E0 00 1...|[2.3975172, -3.54...|[-25240.205, -349...|\n",
      "|811ab5e8298a469f2...|/PlantCLEF2024/te...|  bark|   1393708|1008936563|            cc-by-sa|   NULL|     Dieter Albrecht|316.6854|      49.44971931|      7.7560800717|      3169379.0|Lysimachia nummul...| Lysimachia|  Primulaceae|plantnet|   plantnet|https://identify....|https://bs.plantn...|     test|https://lab.plant...|[FF D8 FF E0 00 1...|[-2.1653457, 0.04...|[-29710.781, 9301...|\n",
      "|88f71868b93b7d30e...|/PlantCLEF2024/tr...|  leaf|   1391294|1005877961|            cc-by-sa|   NULL|               Winny|    NULL|             NULL|              NULL|      3084742.0|Claytonia sibiric...|  Claytonia|   Montiaceae|plantnet|   plantnet|https://identify....|https://bs.plantn...|    train|https://lab.plant...|[FF D8 FF E0 00 1...|[-4.5334496, 0.14...|[-21389.168, 4910...|\n",
      "|d951507ed1f6c15e4...|/PlantCLEF2024/tr...|flower|   1472008|4421084658|http://creativeco...|   NULL|   Christian Schwarz|    NULL|             NULL|              NULL|      2776588.0|Drimia numidica (...|     Drimia| Asparagaceae|    gbif|iNaturalist|https://www.inatu...|https://inaturali...|    train|https://lab.plant...|[FF D8 FF E0 00 1...|[1.2322725, -1.46...|[-19994.402, 309....|\n",
      "|e74ee720cdb970c1a...|/PlantCLEF2024/tr...|  leaf|   1391666|1007093214|            cc-by-sa|   NULL|       nieto antonio|    27.0|36.52182909972222|-6.147752099722223|      8059811.0|Deschampsia cespi...|Deschampsia|      Poaceae|plantnet|   plantnet|https://identify....|https://bs.plantn...|    train|https://lab.plant...|[FF D8 FF E0 00 1...|[1.8703377, -0.65...|[-30217.873, -145...|\n",
      "|f0b9d9e9c9a438db9...|/PlantCLEF2024/tr...| fruit|   1356109|1011661383|            cc-by-sa|   NULL|               Oldak|   151.0|51.37664746111111|        -2.4772951|      5341297.0|Prunella vulgaris L.|   Prunella|    Lamiaceae|plantnet|   plantnet|https://identify....|https://bs.plantn...|    train|https://lab.plant...|[FF D8 FF E0 00 1...|[3.815119, 3.6982...|[-17211.146, -152...|\n",
      "|040a2e4f2c630f12b...|/PlantCLEF2024/tr...| fruit|   1422217|1001084979|            cc-by-sa|   tela|Tela Botanica − E...|    62.0|         43.64095|           3.84788|      2703721.0|Bromus madritensi...|     Bromus|      Poaceae|plantnet|   plantnet|https://identify....|https://bs.plantn...|    train|https://lab.plant...|[FF D8 FF E0 00 1...|[3.3364644, -0.19...|[-16910.148, 9897...|\n",
      "+--------------------+--------------------+------+----------+----------+--------------------+-------+--------------------+--------+-----------------+------------------+---------------+--------------------+-----------+-------------+--------+-----------+--------------------+--------------------+---------+--------------------+--------------------+--------------------+--------------------+\n",
      "\n"
     ]
    }
   ],
   "source": [
    "from pyspark.ml import Pipeline\n",
    "from plantclef.transforms import WrappedDinoV2, DCTN\n",
    "\n",
    "# Get subset of images to test pipeline\n",
    "train10_df = train_df.limit(10).cache()\n",
    "\n",
    "# Init DINOv2 wrapper\n",
    "dino = WrappedDinoV2(input_col=\"data\", output_col=\"transformed_data\")\n",
    "\n",
    "# Init Descrite Cosine Transform wrapper\n",
    "dctn = DCTN(input_col=\"transformed_data\", output_col=\"dctn_data\")\n",
    "\n",
    "# Create Pipeline\n",
    "pipeline = Pipeline(stages=[dino, dctn])\n",
    "\n",
    "# Fit pipeline to DF\n",
    "model = pipeline.fit(train10_df)\n",
    "\n",
    "# Apply the model to transform the DF\n",
    "transformed_df = model.transform(train10_df).cache()\n",
    "\n",
    "# Show results\n",
    "transformed_df.show(n=10)"
   ]
  },
  {
   "cell_type": "code",
   "execution_count": null,
   "metadata": {},
   "outputs": [],
   "source": []
  }
 ],
 "metadata": {
  "kernelspec": {
   "display_name": "Python 3",
   "language": "python",
   "name": "python3"
  },
  "language_info": {
   "codemirror_mode": {
    "name": "ipython",
    "version": 3
   },
   "file_extension": ".py",
   "mimetype": "text/x-python",
   "name": "python",
   "nbconvert_exporter": "python",
   "pygments_lexer": "ipython3",
   "version": "3.10.12"
  }
 },
 "nbformat": 4,
 "nbformat_minor": 2
}
