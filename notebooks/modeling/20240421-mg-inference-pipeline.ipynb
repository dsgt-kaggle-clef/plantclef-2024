{
 "cells": [
  {
   "cell_type": "markdown",
   "metadata": {},
   "source": [
    "# Inference pipeline"
   ]
  },
  {
   "cell_type": "code",
   "execution_count": 1,
   "metadata": {},
   "outputs": [],
   "source": [
    "%load_ext autoreload\n",
    "%autoreload 2"
   ]
  },
  {
   "cell_type": "code",
   "execution_count": 2,
   "metadata": {},
   "outputs": [
    {
     "name": "stderr",
     "output_type": "stream",
     "text": [
      "Setting default log level to \"WARN\".\n",
      "To adjust logging level use sc.setLogLevel(newLevel). For SparkR, use setLogLevel(newLevel).\n",
      "24/04/27 15:28:31 WARN NativeCodeLoader: Unable to load native-hadoop library for your platform... using builtin-java classes where applicable\n",
      "24/04/27 15:28:32 WARN SparkConf: Note that spark.local.dir will be overridden by the value set by the cluster manager (via SPARK_LOCAL_DIRS in mesos/standalone/kubernetes and LOCAL_DIRS in YARN).\n"
     ]
    },
    {
     "data": {
      "text/html": [
       "\n",
       "            <div>\n",
       "                <p><b>SparkSession - in-memory</b></p>\n",
       "                \n",
       "        <div>\n",
       "            <p><b>SparkContext</b></p>\n",
       "\n",
       "            <p><a href=\"http://plantclef-dev.us-central1-a.c.dsgt-clef-2024.internal:4040\">Spark UI</a></p>\n",
       "\n",
       "            <dl>\n",
       "              <dt>Version</dt>\n",
       "                <dd><code>v3.5.0</code></dd>\n",
       "              <dt>Master</dt>\n",
       "                <dd><code>local[*]</code></dd>\n",
       "              <dt>AppName</dt>\n",
       "                <dd><code>plantclef</code></dd>\n",
       "            </dl>\n",
       "        </div>\n",
       "        \n",
       "            </div>\n",
       "        "
      ],
      "text/plain": [
       "<pyspark.sql.session.SparkSession at 0x791561cfe980>"
      ]
     },
     "metadata": {},
     "output_type": "display_data"
    }
   ],
   "source": [
    "import os\n",
    "from pathlib import Path\n",
    "from plantclef.utils import get_spark\n",
    "from pyspark.sql import functions as F\n",
    "\n",
    "\n",
    "spark = get_spark()\n",
    "display(spark)"
   ]
  },
  {
   "cell_type": "code",
   "execution_count": 3,
   "metadata": {},
   "outputs": [
    {
     "name": "stderr",
     "output_type": "stream",
     "text": [
      "                                                                                \r"
     ]
    },
    {
     "name": "stdout",
     "output_type": "stream",
     "text": [
      "+------------------------+--------------------------------------------------+\n",
      "|              image_name|                                     dct_embedding|\n",
      "+------------------------+--------------------------------------------------+\n",
      "| CBN-Pla-C3-20190723.jpg|[-20098.941, -21163.824, 10775.059, -5062.299, ...|\n",
      "|   RNNB-3-9-20240117.jpg|[-30963.371, 1738.1318, -22631.05, 7658.0986, 1...|\n",
      "|CBN-PdlC-C4-20160705.jpg|[-21734.926, 7483.978, 856.27124, -969.2971, 19...|\n",
      "|CBN-PdlC-F6-20200722.jpg|[-25506.555, 19362.922, -22429.754, -5536.284, ...|\n",
      "|CBN-PdlC-B1-20190812.jpg|[-30066.883, 16372.629, 13698.087, 13579.195, -...|\n",
      "+------------------------+--------------------------------------------------+\n",
      "only showing top 5 rows\n",
      "\n"
     ]
    }
   ],
   "source": [
    "# paths\n",
    "gcs_path = \"gs://dsgt-clef-plantclef-2024\"\n",
    "test_path = \"data/process/test_v1/dino_dct/data\"\n",
    "# data module parameters\n",
    "input_path = f\"{gcs_path}/{test_path}\"\n",
    "# read data\n",
    "test_df = spark.read.parquet(input_path)\n",
    "# show data\n",
    "test_df.show(n=5, truncate=50)"
   ]
  },
  {
   "cell_type": "code",
   "execution_count": 4,
   "metadata": {},
   "outputs": [
    {
     "name": "stderr",
     "output_type": "stream",
     "text": [
      "/usr/local/lib/python3.10/dist-packages/tqdm/auto.py:21: TqdmWarning: IProgress not found. Please update jupyter and ipywidgets. See https://ipywidgets.readthedocs.io/en/stable/user_install.html\n",
      "  from .autonotebook import tqdm as notebook_tqdm\n"
     ]
    }
   ],
   "source": [
    "import torch\n",
    "from google.cloud import storage\n",
    "from plantclef.baseline.model import LinearClassifier\n",
    "\n",
    "\n",
    "def load_model_from_gcs(\n",
    "    bucket_name: str, path_in_bucket: str, num_features: int, num_classes: int\n",
    "):\n",
    "    client = storage.Client()\n",
    "    bucket = client.bucket(bucket_name)\n",
    "    blob = bucket.blob(path_in_bucket)\n",
    "    blob.download_to_filename(\"last.ckpt\")\n",
    "    checkpoint = torch.load(\"last.ckpt\", map_location=torch.device(\"cpu\"))\n",
    "\n",
    "    # Instantiate the model first\n",
    "    model = LinearClassifier(num_features, num_classes)\n",
    "\n",
    "    # Adjust the state_dict if necessary\n",
    "    state_dict = checkpoint[\"state_dict\"]\n",
    "    adjusted_state_dict = {\n",
    "        k.replace(\"layer.\", \"model.\"): v for k, v in state_dict.items()\n",
    "    }\n",
    "\n",
    "    # Load the state dictionary\n",
    "    load_result = model.load_state_dict(adjusted_state_dict, strict=False)\n",
    "\n",
    "    if load_result.missing_keys or load_result.unexpected_keys:\n",
    "        print(\"Warning: There were missing or unexpected keys during model loading\")\n",
    "        print(\"Missing keys:\", load_result.missing_keys)\n",
    "        print(\"Unexpected keys:\", load_result.unexpected_keys)\n",
    "\n",
    "    return model"
   ]
  },
  {
   "cell_type": "code",
   "execution_count": 5,
   "metadata": {},
   "outputs": [],
   "source": [
    "# model path\n",
    "bucket_path = gcs_path.split(\"gs://\")[1]\n",
    "model_path = \"models/torch-petastorm-v1/plantclef-2024/u1p43hb2/checkpoints/last.ckpt\"\n",
    "# get model\n",
    "model = load_model_from_gcs(bucket_path, model_path, 64, 4797)"
   ]
  },
  {
   "cell_type": "code",
   "execution_count": 6,
   "metadata": {},
   "outputs": [
    {
     "name": "stdout",
     "output_type": "stream",
     "text": [
      "dict_keys(['epoch', 'global_step', 'pytorch-lightning_version', 'state_dict', 'loops', 'callbacks', 'optimizer_states', 'lr_schedulers', 'hparams_name', 'hyper_parameters'])\n",
      "Hyperparameters: {'num_features': 64, 'num_classes': 4797}\n"
     ]
    }
   ],
   "source": [
    "# Load the checkpoint file\n",
    "checkpoint = torch.load(\"last.ckpt\", map_location=torch.device(\"cpu\"))\n",
    "\n",
    "# You can inspect keys to see what's inside the checkpoint\n",
    "print(checkpoint.keys())\n",
    "\n",
    "# Check if 'hyper_parameters' exists in the checkpoint\n",
    "if \"hyper_parameters\" in checkpoint:\n",
    "    hyperparameters = checkpoint[\"hyper_parameters\"]\n",
    "    print(\"Hyperparameters:\", hyperparameters)\n",
    "else:\n",
    "    print(\"No hyperparameters found in this checkpoint.\")"
   ]
  },
  {
   "cell_type": "code",
   "execution_count": 7,
   "metadata": {},
   "outputs": [],
   "source": [
    "import torch\n",
    "import numpy as np\n",
    "import pandas as pd\n",
    "from pyspark import SparkContext\n",
    "from pyspark.sql.functions import pandas_udf, PandasUDFType\n",
    "\n",
    "sc = SparkContext.getOrCreate()\n",
    "broadcast_model = sc.broadcast(model)"
   ]
  },
  {
   "cell_type": "code",
   "execution_count": 8,
   "metadata": {},
   "outputs": [],
   "source": [
    "@pandas_udf(\"long\")  # Adjust the return type based on your model's output\n",
    "def predict_udf(dct_embedding_series: pd.Series) -> pd.Series:\n",
    "    local_model = broadcast_model.value  # Access the broadcast variable\n",
    "    local_model.eval()  # Set the model to evaluation mode\n",
    "\n",
    "    # Convert the list of numpy arrays to a single numpy array\n",
    "    embeddings_array = np.array(list(dct_embedding_series))\n",
    "\n",
    "    # Convert the numpy array to a PyTorch tensor\n",
    "    embeddings_tensor = torch.tensor(embeddings_array, dtype=torch.float32)\n",
    "\n",
    "    # Make predictions\n",
    "    with torch.no_grad():\n",
    "        outputs = local_model(embeddings_tensor)\n",
    "        predicted_classes = outputs.argmax(\n",
    "            dim=1\n",
    "        ).numpy()  # Get all predicted classes at once\n",
    "\n",
    "    return pd.Series(predicted_classes)"
   ]
  },
  {
   "cell_type": "code",
   "execution_count": 9,
   "metadata": {},
   "outputs": [],
   "source": [
    "# get predictions on test_df\n",
    "result_df = test_df.withColumn(\"predictions\", predict_udf(test_df[\"dct_embedding\"]))"
   ]
  },
  {
   "cell_type": "code",
   "execution_count": 10,
   "metadata": {},
   "outputs": [
    {
     "name": "stderr",
     "output_type": "stream",
     "text": [
      "[Stage 2:>                                                          (0 + 1) / 1]\r"
     ]
    },
    {
     "name": "stdout",
     "output_type": "stream",
     "text": [
      "+--------------------+--------------------+-----------+\n",
      "|          image_name|       dct_embedding|predictions|\n",
      "+--------------------+--------------------+-----------+\n",
      "|CBN-Pla-C3-201907...|[-20098.941, -211...|       4217|\n",
      "|RNNB-3-9-20240117...|[-30963.371, 1738...|        700|\n",
      "|CBN-PdlC-C4-20160...|[-21734.926, 7483...|        111|\n",
      "|CBN-PdlC-F6-20200...|[-25506.555, 1936...|        688|\n",
      "|CBN-PdlC-B1-20190...|[-30066.883, 1637...|        331|\n",
      "|CBN-Pla-C4-201509...|[-18970.492, -138...|       2594|\n",
      "|CBN-Pla-E4-201508...|[-21910.695, -651...|       2252|\n",
      "|CBN-Pla-A4-201507...|[-20680.252, -102...|        730|\n",
      "|CBN-Pla-C2-201607...|[-21060.98, -7502...|       1162|\n",
      "|RNNB-2-9-20230512...|[-21258.816, -157...|        747|\n",
      "|CBN-PdlC-F1-20180...|[-20736.156, -569...|       2700|\n",
      "|RNNB-3-7-20230512...|[-26146.121, -410...|        616|\n",
      "|CBN-PdlC-E4-20140...|[-20004.02, 8810....|       2133|\n",
      "|CBN-PdlC-F4-20160...|[-24047.156, 1470...|       4066|\n",
      "|CBN-PdlC-B2-20150...|[-26217.541, 1342...|         38|\n",
      "|CBN-Pla-A5-201809...|[-18358.342, -233...|       3357|\n",
      "|CBN-Pla-F3-201907...|[-22293.875, -108...|       2604|\n",
      "|CBN-Pla-D2-201509...|[-21618.195, 1033...|       2902|\n",
      "|CBN-Pla-E5-201607...|[-21938.422, 1369...|       2260|\n",
      "|RNNB-2-5-20230512...|[-19220.443, 1164...|        730|\n",
      "+--------------------+--------------------+-----------+\n",
      "only showing top 20 rows\n",
      "\n"
     ]
    },
    {
     "name": "stderr",
     "output_type": "stream",
     "text": [
      "                                                                                \r"
     ]
    }
   ],
   "source": [
    "result_df.show()"
   ]
  },
  {
   "cell_type": "markdown",
   "metadata": {},
   "source": [
    "### prepare data for inference"
   ]
  },
  {
   "cell_type": "code",
   "execution_count": 11,
   "metadata": {},
   "outputs": [],
   "source": [
    "# Path and dataset names\n",
    "dct_emb_train = \"data/process/training_cropped_resized_v2/dino_dct/data\"\n",
    "dct_gcs_path = f\"{gcs_path}/{dct_emb_train}\"\n",
    "dct_df = spark.read.parquet(dct_gcs_path)\n",
    "\n",
    "\n",
    "def remap_index_to_species_id(df, species_image_count: int = 100):\n",
    "    # Aggregate and filter species based on image count\n",
    "    grouped_df = (\n",
    "        df.groupBy(\"species_id\")\n",
    "        .agg(F.count(\"species_id\").alias(\"n\"))\n",
    "        .filter(F.col(\"n\") >= species_image_count)\n",
    "        .orderBy(F.col(\"n\").desc(), F.col(\"species_id\"))\n",
    "        .withColumn(\"index\", F.monotonically_increasing_id())\n",
    "    ).drop(\"n\")\n",
    "\n",
    "    # Use broadcast join to optimize smaller DataFrame joining\n",
    "    filtered_df = df.join(F.broadcast(grouped_df), \"species_id\", \"inner\")\n",
    "    return filtered_df"
   ]
  },
  {
   "cell_type": "code",
   "execution_count": 12,
   "metadata": {},
   "outputs": [
    {
     "name": "stderr",
     "output_type": "stream",
     "text": [
      "                                                                                \r"
     ]
    },
    {
     "name": "stdout",
     "output_type": "stream",
     "text": [
      "+----------+--------------------------------------------+--------------------------------------------------+-----+\n",
      "|species_id|                                  image_name|                                     dct_embedding|index|\n",
      "+----------+--------------------------------------------+--------------------------------------------------+-----+\n",
      "|   1742956|170e88ca9af457daa1038092479b251c61c64f7d.jpg|[-20648.51, 2133.689, -2555.3125, 14820.57, 685...| 3810|\n",
      "|   1367432|b0433cd6968b57d52e5c25dc45a28e674a25e61e.jpg|[-23662.764, -6773.8213, -8283.518, 3769.6064, ...|  623|\n",
      "|   1360260|2b0301802884c465aa5d835598c4982a7be23a91.jpg|[-26661.809, 14558.946, -22445.26, 8736.277, 18...|   84|\n",
      "|   1378563|e60616fddca9656d3d6bf3a0433a9652ca1b343a.jpg|[-31823.447, 393.7155, 20305.72, -4179.255, 168...| 3195|\n",
      "|   1358543|24c155bbe8f0e77ae54ce302fa11384b4aab1341.jpg|[-21757.35, 2965.9988, 13036.157, -7744.346, 41...|   34|\n",
      "+----------+--------------------------------------------+--------------------------------------------------+-----+\n",
      "only showing top 5 rows\n",
      "\n"
     ]
    },
    {
     "name": "stderr",
     "output_type": "stream",
     "text": [
      "                                                                                \r"
     ]
    }
   ],
   "source": [
    "filtered_df = remap_index_to_species_id(dct_df)\n",
    "filtered_df.show(n=5, truncate=50)"
   ]
  },
  {
   "cell_type": "code",
   "execution_count": 13,
   "metadata": {},
   "outputs": [
    {
     "name": "stderr",
     "output_type": "stream",
     "text": [
      "                                                                                \r"
     ]
    },
    {
     "name": "stdout",
     "output_type": "stream",
     "text": [
      "+------------------------+----------+-----+-----------+\n",
      "|              image_name|species_id|index|predictions|\n",
      "+------------------------+----------+-----+-----------+\n",
      "|CBN-PdlC-F5-20160726.jpg|   1390691|  893|        893|\n",
      "|CBN-PdlC-F5-20170906.jpg|   1396797|   99|         99|\n",
      "|CBN-PdlC-F5-20160726.jpg|   1390691|  893|        893|\n",
      "|   RNNB-4-2-20240117.jpg|   1396253| 2548|       2548|\n",
      "| CBN-Pla-C3-20130808.jpg|   1396253| 2548|       2548|\n",
      "+------------------------+----------+-----+-----------+\n",
      "only showing top 5 rows\n",
      "\n"
     ]
    }
   ],
   "source": [
    "# Join both dataframes to get species_id\n",
    "joined_df = result_df.join(\n",
    "    filtered_df, result_df.predictions == filtered_df.index, \"inner\"\n",
    ").select(result_df.image_name, \"species_id\", \"index\", \"predictions\")\n",
    "joined_df.show(n=5, truncate=50)"
   ]
  },
  {
   "cell_type": "code",
   "execution_count": 14,
   "metadata": {},
   "outputs": [
    {
     "name": "stderr",
     "output_type": "stream",
     "text": [
      "[Stage 32:=====================================================>  (18 + 1) / 19]\r"
     ]
    },
    {
     "name": "stdout",
     "output_type": "stream",
     "text": [
      "+--------------------+-----------+\n",
      "|             plot_id|species_ids|\n",
      "+--------------------+-----------+\n",
      "|CBN-PdlC-A1-20130807|  [1356217]|\n",
      "|CBN-PdlC-A1-20130903|  [1646238]|\n",
      "|CBN-PdlC-A1-20140721|  [1361520]|\n",
      "|CBN-PdlC-A1-20140811|  [1646238]|\n",
      "|CBN-PdlC-A1-20140901|  [1361863]|\n",
      "+--------------------+-----------+\n",
      "only showing top 5 rows\n",
      "\n"
     ]
    },
    {
     "name": "stderr",
     "output_type": "stream",
     "text": [
      "                                                                                \r"
     ]
    }
   ],
   "source": [
    "final_df = (\n",
    "    joined_df.withColumn(\"plot_id\", F.regexp_replace(\"image_name\", \"\\\\.jpg$\", \"\"))\n",
    "    .groupBy(\"plot_id\")\n",
    "    .agg(F.collect_set(\"species_id\").alias(\"species_ids\"))\n",
    ")\n",
    "# Convert the set of species_ids to a formatted string enclosed in single square brackets\n",
    "final_df = final_df.withColumn(\n",
    "    \"species_ids\", F.concat(F.lit(\"[\"), F.concat_ws(\", \", \"species_ids\"), F.lit(\"]\"))\n",
    ")\n",
    "final_df.show(n=5, truncate=50)"
   ]
  },
  {
   "cell_type": "code",
   "execution_count": 15,
   "metadata": {},
   "outputs": [
    {
     "name": "stderr",
     "output_type": "stream",
     "text": [
      "                                                                                \r"
     ]
    }
   ],
   "source": [
    "import csv\n",
    "\n",
    "# Convert Spark DataFrame to Pandas DataFrame\n",
    "final_pandas_df = final_df.toPandas()\n",
    "\n",
    "# Export to CSV with the specified format\n",
    "base_dir = Path(os.getcwd()).parents[1]\n",
    "output_dir = f\"{base_dir}/experiments/dsgt_run_v1.csv\"\n",
    "final_pandas_df.to_csv(output_dir, sep=\";\", index=False, quoting=csv.QUOTE_NONE)"
   ]
  },
  {
   "cell_type": "code",
   "execution_count": 16,
   "metadata": {},
   "outputs": [],
   "source": [
    "default_root_dir = \"gs://dsgt-clef-plantclef-2024/models/torch-petastorm-v1\"\n",
    "output_dir = f\"{default_root_dir}/experiments/dsgt_run_v1.csv\"\n",
    "# write to GCS\n",
    "final_pandas_df.to_csv(output_dir, sep=\";\", index=False, quoting=csv.QUOTE_NONE)"
   ]
  },
  {
   "cell_type": "code",
   "execution_count": null,
   "metadata": {},
   "outputs": [],
   "source": []
  }
 ],
 "metadata": {
  "kernelspec": {
   "display_name": "Python 3",
   "language": "python",
   "name": "python3"
  },
  "language_info": {
   "codemirror_mode": {
    "name": "ipython",
    "version": 3
   },
   "file_extension": ".py",
   "mimetype": "text/x-python",
   "name": "python",
   "nbconvert_exporter": "python",
   "pygments_lexer": "ipython3",
   "version": "3.10.12"
  }
 },
 "nbformat": 4,
 "nbformat_minor": 2
}
