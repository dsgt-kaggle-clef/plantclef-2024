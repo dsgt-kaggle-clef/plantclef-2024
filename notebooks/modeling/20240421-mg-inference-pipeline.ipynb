{
 "cells": [
  {
   "cell_type": "markdown",
   "metadata": {},
   "source": [
    "# Inference pipeline"
   ]
  },
  {
   "cell_type": "code",
   "execution_count": 1,
   "metadata": {},
   "outputs": [],
   "source": [
    "%load_ext autoreload\n",
    "%autoreload 2"
   ]
  },
  {
   "cell_type": "code",
   "execution_count": 2,
   "metadata": {},
   "outputs": [
    {
     "name": "stderr",
     "output_type": "stream",
     "text": [
      "Setting default log level to \"WARN\".\n",
      "To adjust logging level use sc.setLogLevel(newLevel). For SparkR, use setLogLevel(newLevel).\n",
      "24/04/22 00:02:34 WARN NativeCodeLoader: Unable to load native-hadoop library for your platform... using builtin-java classes where applicable\n",
      "24/04/22 00:02:35 WARN SparkConf: Note that spark.local.dir will be overridden by the value set by the cluster manager (via SPARK_LOCAL_DIRS in mesos/standalone/kubernetes and LOCAL_DIRS in YARN).\n"
     ]
    },
    {
     "data": {
      "text/html": [
       "\n",
       "            <div>\n",
       "                <p><b>SparkSession - in-memory</b></p>\n",
       "                \n",
       "        <div>\n",
       "            <p><b>SparkContext</b></p>\n",
       "\n",
       "            <p><a href=\"http://plantclef-dev.us-central1-a.c.dsgt-clef-2024.internal:4040\">Spark UI</a></p>\n",
       "\n",
       "            <dl>\n",
       "              <dt>Version</dt>\n",
       "                <dd><code>v3.5.0</code></dd>\n",
       "              <dt>Master</dt>\n",
       "                <dd><code>local[*]</code></dd>\n",
       "              <dt>AppName</dt>\n",
       "                <dd><code>plantclef</code></dd>\n",
       "            </dl>\n",
       "        </div>\n",
       "        \n",
       "            </div>\n",
       "        "
      ],
      "text/plain": [
       "<pyspark.sql.session.SparkSession at 0x7c6c581f3730>"
      ]
     },
     "metadata": {},
     "output_type": "display_data"
    }
   ],
   "source": [
    "from pathlib import Path\n",
    "from pyspark.sql import DataFrame\n",
    "from plantclef.utils import get_spark\n",
    "from pyspark.sql import functions as F\n",
    "\n",
    "\n",
    "spark = get_spark()\n",
    "display(spark)"
   ]
  },
  {
   "cell_type": "code",
   "execution_count": 4,
   "metadata": {},
   "outputs": [
    {
     "name": "stderr",
     "output_type": "stream",
     "text": [
      "                                                                                \r"
     ]
    },
    {
     "name": "stdout",
     "output_type": "stream",
     "text": [
      "+-------------------------------------------+------------------------+--------------------------------------------------+\n",
      "|                                       path|              image_name|                                              data|\n",
      "+-------------------------------------------+------------------------+--------------------------------------------------+\n",
      "| /PlantCLEF2024test/CBN-Pla-B4-20160728.jpg| CBN-Pla-B4-20160728.jpg|[FF D8 FF E0 00 10 4A 46 49 46 00 01 01 01 00 4...|\n",
      "| /PlantCLEF2024test/CBN-Pla-D3-20130808.jpg| CBN-Pla-D3-20130808.jpg|[FF D8 FF E0 00 10 4A 46 49 46 00 01 01 01 00 4...|\n",
      "|/PlantCLEF2024test/CBN-PdlC-E4-20150701.jpg|CBN-PdlC-E4-20150701.jpg|[FF D8 FF E0 00 10 4A 46 49 46 00 01 01 01 00 4...|\n",
      "| /PlantCLEF2024test/CBN-Pla-F5-20150901.jpg| CBN-Pla-F5-20150901.jpg|[FF D8 FF E0 00 10 4A 46 49 46 00 01 01 01 00 4...|\n",
      "| /PlantCLEF2024test/CBN-Pla-D1-20180724.jpg| CBN-Pla-D1-20180724.jpg|[FF D8 FF E0 00 10 4A 46 49 46 00 01 01 01 00 4...|\n",
      "+-------------------------------------------+------------------------+--------------------------------------------------+\n",
      "only showing top 5 rows\n",
      "\n"
     ]
    }
   ],
   "source": [
    "# paths\n",
    "gcs_path = \"gs://dsgt-clef-plantclef-2024\"\n",
    "test_path = \"data/parquet_files/PlantCLEF2024_test\"\n",
    "# data module parameters\n",
    "input_path = f\"{gcs_path}/{test_path}\"\n",
    "# read data\n",
    "test_df = spark.read.parquet(input_path)\n",
    "# show data\n",
    "test_df.show(n=5, truncate=50)"
   ]
  },
  {
   "cell_type": "code",
   "execution_count": 30,
   "metadata": {},
   "outputs": [],
   "source": [
    "import torch\n",
    "from google.cloud import storage\n",
    "from plantclef.baseline.model import LinearClassifier\n",
    "from pytorch_lightning import Trainer\n",
    "\n",
    "\n",
    "def load_model_from_gcs(\n",
    "    bucket_name: str, path_in_bucket: str, num_features: int, num_classes: int\n",
    "):\n",
    "    client = storage.Client()\n",
    "    bucket = client.bucket(bucket_name)\n",
    "    blob = bucket.blob(path_in_bucket)\n",
    "    # Temporarily save the file locally\n",
    "    blob.download_to_filename(\"last.ckpt\")\n",
    "    # Load checkpoint and manually adjust the keys\n",
    "    checkpoint = torch.load(\"last.ckpt\", map_location=lambda storage, loc: storage)\n",
    "    state_dict = checkpoint[\"state_dict\"]\n",
    "    adjusted_state_dict = {\n",
    "        k.replace(\"layer.\", \"model.\"): v for k, v in state_dict.items()\n",
    "    }\n",
    "\n",
    "    # Load the model with the adjusted state dict\n",
    "    model = LinearClassifier(num_features, num_classes).load_state_dict(\n",
    "        adjusted_state_dict\n",
    "    )\n",
    "    return model\n",
    "\n",
    "\n",
    "# model path\n",
    "bucket_path = gcs_path.split(\"gs://\")[1]\n",
    "model_path = \"models/torch-petastorm-v1/plantclef-2024/u1p43hb2/checkpoints/last.ckpt\"\n",
    "# get model\n",
    "model = load_model_from_gcs(bucket_path, model_path, 64, 4797)"
   ]
  },
  {
   "cell_type": "code",
   "execution_count": 28,
   "metadata": {},
   "outputs": [
    {
     "name": "stdout",
     "output_type": "stream",
     "text": [
      "dict_keys(['epoch', 'global_step', 'pytorch-lightning_version', 'state_dict', 'loops', 'callbacks', 'optimizer_states', 'lr_schedulers', 'hparams_name', 'hyper_parameters'])\n",
      "Hyperparameters: {'num_features': 64, 'num_classes': 4797}\n"
     ]
    }
   ],
   "source": [
    "# Load the checkpoint file\n",
    "checkpoint = torch.load(\"last.ckpt\", map_location=torch.device(\"cpu\"))\n",
    "\n",
    "# You can inspect keys to see what's inside the checkpoint\n",
    "print(checkpoint.keys())\n",
    "\n",
    "# Check if 'hyper_parameters' exists in the checkpoint\n",
    "if \"hyper_parameters\" in checkpoint:\n",
    "    hyperparameters = checkpoint[\"hyper_parameters\"]\n",
    "    print(\"Hyperparameters:\", hyperparameters)\n",
    "else:\n",
    "    print(\"No hyperparameters found in this checkpoint.\")"
   ]
  },
  {
   "cell_type": "markdown",
   "metadata": {},
   "source": [
    "### prepare data for inference"
   ]
  },
  {
   "cell_type": "code",
   "execution_count": null,
   "metadata": {},
   "outputs": [],
   "source": [
    "# Path and dataset names\n",
    "dct_emb_train = \"data/process/training_cropped_resized_v2/dino_dct/data\"\n",
    "dct_gcs_path = f\"{gcs_path}/{dct_emb_train}\"\n",
    "dct_df = spark.read.parquet(dct_gcs_path)\n",
    "\n",
    "\n",
    "def remap_index_to_species_id(df, species_image_count: int = 100):\n",
    "    # Aggregate and filter species based on image count\n",
    "    grouped_df = (\n",
    "        df.groupBy(\"species_id\")\n",
    "        .agg(F.count(\"species_id\").alias(\"n\"))\n",
    "        .filter(F.col(\"n\") >= species_image_count)\n",
    "        .orderBy(F.col(\"n\").desc(), F.col(\"species_id\"))\n",
    "        .withColumn(\"index\", F.monotonically_increasing_id())\n",
    "    ).drop(\"n\")\n",
    "\n",
    "    # Use broadcast join to optimize smaller DataFrame joining\n",
    "    filtered_df = df.join(F.broadcast(grouped_df), \"species_id\", \"inner\")\n",
    "    return filtered_df"
   ]
  },
  {
   "cell_type": "code",
   "execution_count": null,
   "metadata": {},
   "outputs": [],
   "source": []
  },
  {
   "cell_type": "code",
   "execution_count": null,
   "metadata": {},
   "outputs": [],
   "source": []
  }
 ],
 "metadata": {
  "kernelspec": {
   "display_name": "Python 3",
   "language": "python",
   "name": "python3"
  },
  "language_info": {
   "codemirror_mode": {
    "name": "ipython",
    "version": 3
   },
   "file_extension": ".py",
   "mimetype": "text/x-python",
   "name": "python",
   "nbconvert_exporter": "python",
   "pygments_lexer": "ipython3",
   "version": "3.10.12"
  }
 },
 "nbformat": 4,
 "nbformat_minor": 2
}
