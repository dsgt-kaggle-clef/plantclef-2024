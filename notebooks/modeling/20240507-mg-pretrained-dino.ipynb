{
 "cells": [
  {
   "cell_type": "markdown",
   "metadata": {},
   "source": [
    "# Pretrained DinoV2 model"
   ]
  },
  {
   "cell_type": "code",
   "execution_count": 1,
   "metadata": {},
   "outputs": [],
   "source": [
    "%load_ext autoreload\n",
    "%autoreload 2"
   ]
  },
  {
   "cell_type": "markdown",
   "metadata": {},
   "source": [
    "Make directory to store the models"
   ]
  },
  {
   "cell_type": "code",
   "execution_count": 2,
   "metadata": {},
   "outputs": [
    {
     "name": "stdout",
     "output_type": "stream",
     "text": [
      "/mnt/data/models\n"
     ]
    },
    {
     "name": "stderr",
     "output_type": "stream",
     "text": [
      "/usr/local/lib/python3.10/dist-packages/IPython/core/magics/osm.py:417: UserWarning: using dhist requires you to install the `pickleshare` library.\n",
      "  self.shell.db['dhist'] = compress_dhist(dhist)[-100:]\n"
     ]
    }
   ],
   "source": [
    "# ! mkdir -p /mnt/data/models\n",
    "# %cd /mnt/data/models"
   ]
  },
  {
   "cell_type": "markdown",
   "metadata": {},
   "source": [
    "copy the file from GCS to `/mnt/data/models` directory"
   ]
  },
  {
   "cell_type": "code",
   "execution_count": null,
   "metadata": {},
   "outputs": [],
   "source": [
    "# ! gsutil cp gs://dsgt-clef-plantclef-2024/data/models/PlantNet_PlantCLEF2024_pretrained_models_on_the_flora_of_south-western_europe.tar /mnt/data/models/"
   ]
  },
  {
   "cell_type": "markdown",
   "metadata": {},
   "source": [
    "Unzip the `.tar` file"
   ]
  },
  {
   "cell_type": "code",
   "execution_count": null,
   "metadata": {},
   "outputs": [],
   "source": [
    "# ! tar -xvf /mnt/data/models/PlantNet_PlantCLEF2024_pretrained_models_on_the_flora_of_south-western_europe.tar -C /mnt/data/models"
   ]
  },
  {
   "cell_type": "markdown",
   "metadata": {},
   "source": [
    "use pretrained model for inference"
   ]
  },
  {
   "cell_type": "code",
   "execution_count": null,
   "metadata": {},
   "outputs": [],
   "source": [
    "from argparse import ArgumentParser\n",
    "import pandas as pd\n",
    "from urllib.request import urlopen\n",
    "from PIL import Image\n",
    "import timm\n",
    "import torch\n",
    "\n",
    "\n",
    "def load_class_mapping(class_list_file):\n",
    "    with open(class_list_file) as f:\n",
    "        class_index_to_class_name = {i: line.strip() for i, line in enumerate(f)}\n",
    "    return class_index_to_class_name\n",
    "\n",
    "\n",
    "def load_species_mapping(species_map_file):\n",
    "    df = pd.read_csv(species_map_file, sep=\";\", quoting=1, dtype={\"species_id\": str})\n",
    "    df = df.set_index(\"species_id\")\n",
    "    return df[\"species\"].to_dict()\n",
    "\n",
    "\n",
    "def main(image_url, class_mapping, species_mapping, pretrained_path):\n",
    "    cid_to_spid = load_class_mapping(class_mapping)\n",
    "    spid_to_sp = load_species_mapping(species_mapping)\n",
    "\n",
    "    device = torch.device(\"cuda\" if torch.cuda.is_available() else \"cpu\")\n",
    "\n",
    "    model = timm.create_model(\n",
    "        \"vit_base_patch14_reg4_dinov2.lvd142m\",\n",
    "        pretrained=False,\n",
    "        num_classes=len(cid_to_spid),\n",
    "        checkpoint_path=pretrained_path,\n",
    "    )\n",
    "    model = model.to(device)\n",
    "    model = model.eval()\n",
    "\n",
    "    # get model specific transforms (normalization, resize)\n",
    "    data_config = timm.data.resolve_model_data_config(model)\n",
    "    transforms = timm.data.create_transform(**data_config, is_training=False)\n",
    "\n",
    "    img = None\n",
    "    if \"https://\" in image_url or \"http://\" in image_url:\n",
    "        img = Image.open(urlopen(image_url))\n",
    "    elif image_url != None:\n",
    "        img = Image.open(image_url)\n",
    "\n",
    "    if img != None:\n",
    "        img = transforms(img).unsqueeze(0)\n",
    "        img = img.to(device)\n",
    "        output = model(img)  # unsqueeze single image into batch of 1\n",
    "        top5_probabilities, top5_class_indices = torch.topk(\n",
    "            output.softmax(dim=1) * 100, k=5\n",
    "        )\n",
    "        top5_probabilities = top5_probabilities.cpu().detach().numpy()\n",
    "        top5_class_indices = top5_class_indices.cpu().detach().numpy()\n",
    "\n",
    "        for proba, cid in zip(top5_probabilities[0], top5_class_indices[0]):\n",
    "            species_id = cid_to_spid[cid]\n",
    "            species = spid_to_sp[species_id]\n",
    "            print(species_id, species, proba)"
   ]
  },
  {
   "cell_type": "code",
   "execution_count": null,
   "metadata": {},
   "outputs": [],
   "source": [
    "# Define your paths and image URL directly\n",
    "path = \"/mnt/data/models/pretrained_models\"\n",
    "image_url = \"https://lab.plantnet.org/LifeCLEF/PlantCLEF2024/single_plant_training_data/PlantCLEF2024singleplanttrainingdata/test/1361687/bd2d3830ac3270218ba82fd24e2290becd01317c.jpg\"\n",
    "class_mapping_file = f\"{path}/class_mapping.txt\"\n",
    "species_mapping_file = f\"{path}/species_id_to_name.txt\"\n",
    "model_path = \"vit_base_patch14_reg4_dinov2_lvd142m_pc24_onlyclassifier_then_all\"\n",
    "pretrained_path = f\"{path}/{model_path}/model_best.pth.tar\"\n",
    "\n",
    "main(image_url, class_mapping_file, species_mapping_file, pretrained_path)"
   ]
  },
  {
   "cell_type": "code",
   "execution_count": null,
   "metadata": {},
   "outputs": [],
   "source": []
  },
  {
   "cell_type": "code",
   "execution_count": null,
   "metadata": {},
   "outputs": [],
   "source": []
  },
  {
   "cell_type": "code",
   "execution_count": null,
   "metadata": {},
   "outputs": [],
   "source": []
  },
  {
   "cell_type": "code",
   "execution_count": null,
   "metadata": {},
   "outputs": [],
   "source": []
  }
 ],
 "metadata": {
  "kernelspec": {
   "display_name": "Python 3",
   "language": "python",
   "name": "python3"
  },
  "language_info": {
   "codemirror_mode": {
    "name": "ipython",
    "version": 3
   },
   "file_extension": ".py",
   "mimetype": "text/x-python",
   "name": "python",
   "nbconvert_exporter": "python",
   "pygments_lexer": "ipython3",
   "version": "3.10.12"
  }
 },
 "nbformat": 4,
 "nbformat_minor": 2
}
