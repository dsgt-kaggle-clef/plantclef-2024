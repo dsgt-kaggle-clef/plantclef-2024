{
 "cells": [
  {
   "cell_type": "markdown",
   "metadata": {},
   "source": [
    "# Classification with pyspark and TorchDistributor\n",
    "\n",
    "> **Databricks Notebook:** [End-to-end distributed training with TorchDistributor](https://docs.databricks.com/en/_extras/notebooks/source/deep-learning/torch-distributor-notebook.html)"
   ]
  },
  {
   "cell_type": "code",
   "execution_count": 1,
   "metadata": {},
   "outputs": [],
   "source": [
    "%load_ext autoreload\n",
    "%autoreload 2"
   ]
  },
  {
   "cell_type": "code",
   "execution_count": 2,
   "metadata": {},
   "outputs": [
    {
     "name": "stderr",
     "output_type": "stream",
     "text": [
      "Setting default log level to \"WARN\".\n",
      "To adjust logging level use sc.setLogLevel(newLevel). For SparkR, use setLogLevel(newLevel).\n",
      "24/04/16 21:56:02 WARN NativeCodeLoader: Unable to load native-hadoop library for your platform... using builtin-java classes where applicable\n",
      "24/04/16 21:56:02 WARN SparkConf: Note that spark.local.dir will be overridden by the value set by the cluster manager (via SPARK_LOCAL_DIRS in mesos/standalone/kubernetes and LOCAL_DIRS in YARN).\n"
     ]
    },
    {
     "data": {
      "text/html": [
       "\n",
       "            <div>\n",
       "                <p><b>SparkSession - in-memory</b></p>\n",
       "                \n",
       "        <div>\n",
       "            <p><b>SparkContext</b></p>\n",
       "\n",
       "            <p><a href=\"http://big-disk-dev.us-central1-b.c.dsgt-clef-2024.internal:4040\">Spark UI</a></p>\n",
       "\n",
       "            <dl>\n",
       "              <dt>Version</dt>\n",
       "                <dd><code>v3.5.1</code></dd>\n",
       "              <dt>Master</dt>\n",
       "                <dd><code>local[*]</code></dd>\n",
       "              <dt>AppName</dt>\n",
       "                <dd><code>plantclef</code></dd>\n",
       "            </dl>\n",
       "        </div>\n",
       "        \n",
       "            </div>\n",
       "        "
      ],
      "text/plain": [
       "<pyspark.sql.session.SparkSession at 0x769aa008bc40>"
      ]
     },
     "metadata": {},
     "output_type": "display_data"
    }
   ],
   "source": [
    "import os\n",
    "import datetime\n",
    "from pathlib import Path\n",
    "from pyspark.sql import DataFrame\n",
    "from plantclef.utils import get_spark\n",
    "from pyspark.sql import functions as F\n",
    "\n",
    "\n",
    "spark = get_spark()\n",
    "display(spark)"
   ]
  },
  {
   "cell_type": "code",
   "execution_count": 3,
   "metadata": {},
   "outputs": [
    {
     "name": "stderr",
     "output_type": "stream",
     "text": [
      "                                                                                \r"
     ]
    },
    {
     "name": "stdout",
     "output_type": "stream",
     "text": [
      "+--------------------------------------------+----------+--------------------------------------------------+\n",
      "|                                  image_name|species_id|                                     dct_embedding|\n",
      "+--------------------------------------------+----------+--------------------------------------------------+\n",
      "|170e88ca9af457daa1038092479b251c61c64f7d.jpg|   1742956|[-20648.51, 2133.689, -2555.3125, 14820.57, 685...|\n",
      "|c24a2d8646f5bc7112a39908bd2f6c45bf066a71.jpg|   1356834|[-25395.82, -12564.387, 24736.02, 20483.8, 2115...|\n",
      "|e1f68e5f05618921969aee2575de20e537e6d66b.jpg|   1563754|[-26178.633, -7670.404, -22552.29, -6563.006, 8...|\n",
      "|b0433cd6968b57d52e5c25dc45a28e674a25e61e.jpg|   1367432|[-23662.764, -6773.8213, -8283.518, 3769.6064, ...|\n",
      "|96478a0fe20a41e755b0c8d798690f2c2b7c115f.jpg|   1389010|[-22182.172, -19444.006, 23355.23, 7042.8604, -...|\n",
      "+--------------------------------------------+----------+--------------------------------------------------+\n",
      "only showing top 5 rows\n",
      "\n"
     ]
    }
   ],
   "source": [
    "# Path and dataset names\n",
    "gcs_path = \"gs://dsgt-clef-plantclef-2024/data/process\"\n",
    "dct_emb_train = \"training_cropped_resized_v2/dino_dct/data\"\n",
    "\n",
    "# Define the GCS path to the embedding files\n",
    "dct_gcs_path = f\"{gcs_path}/{dct_emb_train}\"\n",
    "\n",
    "# Read the Parquet file into a DataFrame\n",
    "dct_df = spark.read.parquet(dct_gcs_path)\n",
    "\n",
    "# Show the data\n",
    "dct_df.show(n=5, truncate=50)"
   ]
  },
  {
   "cell_type": "markdown",
   "metadata": {},
   "source": [
    "### prepare subset of data for testing end-to-end pipeline"
   ]
  },
  {
   "cell_type": "code",
   "execution_count": 4,
   "metadata": {},
   "outputs": [],
   "source": [
    "def prepare_species_data(\n",
    "    dct_df: DataFrame,\n",
    "    limit_species: int = None,\n",
    "    species_image_count: int = 100,\n",
    "):\n",
    "    \"\"\"\n",
    "    Prepare species data by filtering, indexing, and joining.\n",
    "\n",
    "    :param dct_df: DataFrame containing species data\n",
    "    :param limit_species: Maximum number of species to include (None means no limit)\n",
    "    :param species_image_count: Minimum number of images per species to include\n",
    "    :return: DataFrame of filtered and indexed species data\n",
    "    \"\"\"\n",
    "    # Aggregate and filter species based on image count\n",
    "    grouped_df = (\n",
    "        dct_df.groupBy(\"species_id\")\n",
    "        .agg(F.count(\"species_id\").alias(\"n\"))\n",
    "        .filter(F.col(\"n\") >= species_image_count)\n",
    "        .orderBy(F.col(\"n\").desc())\n",
    "        .withColumn(\"index\", F.monotonically_increasing_id())\n",
    "    ).drop(\"n\")\n",
    "\n",
    "    # Use broadcast join to optimize smaller DataFrame joining\n",
    "    filtered_dct_df = dct_df.join(F.broadcast(grouped_df), \"species_id\", \"inner\").drop(\n",
    "        \"index\"\n",
    "    )\n",
    "\n",
    "    # Optionally limit the number of species\n",
    "    if limit_species:\n",
    "        limited_grouped_df = (\n",
    "            (\n",
    "                grouped_df.orderBy(F.rand(seed=42))\n",
    "                .limit(limit_species)\n",
    "                .withColumn(\"new_index\", F.monotonically_increasing_id())\n",
    "            )\n",
    "            .drop(\"index\")\n",
    "            .withColumnRenamed(\"new_index\", \"index\")\n",
    "        )\n",
    "\n",
    "        filtered_dct_df = filtered_dct_df.join(\n",
    "            F.broadcast(limited_grouped_df), \"species_id\", \"inner\"\n",
    "        )\n",
    "\n",
    "    return filtered_dct_df"
   ]
  },
  {
   "cell_type": "code",
   "execution_count": 5,
   "metadata": {},
   "outputs": [
    {
     "name": "stderr",
     "output_type": "stream",
     "text": [
      "                                                                                \r"
     ]
    },
    {
     "name": "stdout",
     "output_type": "stream",
     "text": [
      "DF count: 1185\n"
     ]
    },
    {
     "name": "stderr",
     "output_type": "stream",
     "text": [
      "[Stage 27:>                                                         (0 + 1) / 1]\r"
     ]
    },
    {
     "name": "stdout",
     "output_type": "stream",
     "text": [
      "+----------+--------------------+--------------------+-----+\n",
      "|species_id|          image_name|       dct_embedding|index|\n",
      "+----------+--------------------+--------------------+-----+\n",
      "|   1358851|a5a1530acc42ee28a...|[-22140.71, -2232...|    3|\n",
      "|   1392723|76056d8c5c2eabdae...|[-18462.121, -112...|    4|\n",
      "|   1360938|aa65bf7e5cbbea170...|[-27158.367, -183...|    0|\n",
      "|   1392723|ae436ff1f04ca5412...|[-21858.686, -435...|    4|\n",
      "|   1360938|3d922d3fe00d95887...|[-25446.95, -5724...|    0|\n",
      "|   1360299|c914a7f8d83a73727...|[-24541.422, 1324...|    1|\n",
      "|   1360299|5b995de41dc8c507e...|[-26373.861, 1665...|    1|\n",
      "|   1358851|6ceb22e1e2d2a0560...|[-24388.037, -243...|    3|\n",
      "|   1358851|360605951bcdd6843...|[-26956.902, -127...|    3|\n",
      "|   1360938|cc7b5743d897349af...|[-25043.629, -657...|    0|\n",
      "|   1358851|43a7b8a23a79645ce...|[-24329.762, -147...|    3|\n",
      "|   1392723|107d18234ccc4bf99...|[-20970.615, 7978...|    4|\n",
      "|   1358851|ed49aa18677936d8f...|[-17723.512, -340...|    3|\n",
      "|   1357220|d6edbca4549df4075...|[-21597.586, -211...|    2|\n",
      "|   1392723|f456b7eff60ffbf10...|[-27083.182, 4981...|    4|\n",
      "|   1358851|3c737fd20a3fdf737...|[-25762.066, -592...|    3|\n",
      "|   1358851|8548ddf0786c7eaec...|[-20088.328, -128...|    3|\n",
      "|   1357220|f5de017ced47011d2...|[-24193.537, -410...|    2|\n",
      "|   1392723|f8227a441b09908b9...|[-24862.562, 1878...|    4|\n",
      "|   1392723|0b8d7f471332f438e...|[-24259.936, 2109...|    4|\n",
      "+----------+--------------------+--------------------+-----+\n",
      "only showing top 20 rows\n",
      "\n"
     ]
    },
    {
     "name": "stderr",
     "output_type": "stream",
     "text": [
      "                                                                                \r"
     ]
    }
   ],
   "source": [
    "# Params\n",
    "LIMIT_SPECIES = 5\n",
    "SPECIES_IMAGE_COUNT = 100\n",
    "\n",
    "# Call function\n",
    "prepared_df = prepare_species_data(\n",
    "    dct_df, limit_species=LIMIT_SPECIES, species_image_count=SPECIES_IMAGE_COUNT\n",
    ")\n",
    "print(f\"DF count: {prepared_df.count()}\")\n",
    "prepared_df.show()"
   ]
  },
  {
   "cell_type": "markdown",
   "metadata": {},
   "source": [
    "### train/validation split"
   ]
  },
  {
   "cell_type": "code",
   "execution_count": 6,
   "metadata": {},
   "outputs": [
    {
     "name": "stderr",
     "output_type": "stream",
     "text": [
      "[Stage 53:==================================================>     (17 + 2) / 19]\r"
     ]
    },
    {
     "name": "stdout",
     "output_type": "stream",
     "text": [
      "train: 938, valid: 247\n"
     ]
    },
    {
     "name": "stderr",
     "output_type": "stream",
     "text": [
      "                                                                                \r"
     ]
    }
   ],
   "source": [
    "# Perform a train-validation split\n",
    "def train_valid_split(df):\n",
    "    train_df, valid_df = df.randomSplit([0.8, 0.2], seed=42)\n",
    "    return train_df, valid_df\n",
    "\n",
    "\n",
    "# Pass desired DF to function\n",
    "train_df, valid_df = train_valid_split(df=prepared_df)\n",
    "print(f\"train: {train_df.count()}, valid: {valid_df.count()}\")"
   ]
  },
  {
   "cell_type": "markdown",
   "metadata": {},
   "source": [
    "### get data ready for training"
   ]
  },
  {
   "cell_type": "code",
   "execution_count": 7,
   "metadata": {},
   "outputs": [],
   "source": [
    "# # Prepare data for Petastorm\n",
    "# train_dir = f\"/mnt/data/train_data\"\n",
    "# valid_dir = f\"/mnt/data/valid_data\"\n",
    "# train_df.write.mode(\"overwrite\").parquet(train_dir)\n",
    "# valid_df.write.mode(\"overwrite\").parquet(valid_dir)"
   ]
  },
  {
   "cell_type": "code",
   "execution_count": 8,
   "metadata": {},
   "outputs": [],
   "source": [
    "def get_parquet_file_paths(directory):\n",
    "    assert os.path.exists(directory)\n",
    "    files = os.listdir(directory)\n",
    "    parquet_files = [file for file in files if file.endswith(\".parquet\")]\n",
    "    full_paths = [os.path.join(f\"file://{directory}\", file) for file in parquet_files]\n",
    "    return full_paths\n",
    "\n",
    "\n",
    "# # Get URLs for train and valid sets\n",
    "# train_file_paths = get_parquet_file_paths(train_dir)\n",
    "# valid_file_paths = get_parquet_file_paths(valid_dir)"
   ]
  },
  {
   "cell_type": "code",
   "execution_count": 9,
   "metadata": {},
   "outputs": [],
   "source": [
    "# from petastorm.spark import SparkDatasetConverter, make_spark_converter\n",
    "\n",
    "# # Set a cache directory on DBFS FUSE for intermediate data.\n",
    "# cache_dir = \"file:///mnt/data/petastorm/cache\"\n",
    "# spark.conf.set(SparkDatasetConverter.PARENT_CACHE_DIR_URL_CONF, cache_dir)\n",
    "\n",
    "# converter_train = make_spark_converter(train_df)\n",
    "# converter_valid = make_spark_converter(valid_df)\n",
    "# print(f\"train: {len(converter_train)}, val: {len(converter_valid)}\")"
   ]
  },
  {
   "cell_type": "code",
   "execution_count": 10,
   "metadata": {},
   "outputs": [
    {
     "name": "stdout",
     "output_type": "stream",
     "text": [
      "root\n",
      " |-- species_id: integer (nullable = true)\n",
      " |-- image_name: string (nullable = true)\n",
      " |-- dct_embedding: array (nullable = true)\n",
      " |    |-- element: float (containsNull = true)\n",
      " |-- index: long (nullable = false)\n",
      "\n"
     ]
    }
   ],
   "source": [
    "train_df.printSchema()"
   ]
  },
  {
   "cell_type": "markdown",
   "metadata": {},
   "source": [
    "## TorchDistributor"
   ]
  },
  {
   "cell_type": "code",
   "execution_count": 11,
   "metadata": {},
   "outputs": [
    {
     "name": "stderr",
     "output_type": "stream",
     "text": [
      "/usr/local/lib/python3.10/dist-packages/tqdm/auto.py:21: TqdmWarning: IProgress not found. Please update jupyter and ipywidgets. See https://ipywidgets.readthedocs.io/en/stable/user_install.html\n",
      "  from .autonotebook import tqdm as notebook_tqdm\n",
      "/home/mgustine/.local/lib/python3.10/site-packages/petastorm/spark/spark_dataset_converter.py:28: FutureWarning: pyarrow.LocalFileSystem is deprecated as of 2.0.0, please use pyarrow.fs.LocalFileSystem instead.\n",
      "  from pyarrow import LocalFileSystem\n"
     ]
    }
   ],
   "source": [
    "import torch\n",
    "import pytorch_lightning as pl\n",
    "from torch import nn\n",
    "from petastorm.spark import SparkDatasetConverter, make_spark_converter\n",
    "from pyspark.ml.functions import vector_to_array\n",
    "from torchmetrics.classification import (\n",
    "    MulticlassAccuracy,\n",
    "    MulticlassF1Score,\n",
    "    MulticlassPrecision,\n",
    "    MulticlassRecall,\n",
    ")\n",
    "\n",
    "\n",
    "class LitClassifier(pl.LightningModule):\n",
    "    def __init__(self, num_features, num_classes):\n",
    "        super().__init__()\n",
    "        self.num_features = num_features\n",
    "        self.num_classes = num_classes\n",
    "        self.save_hyperparameters()  # Saves hyperparams in the checkpoints\n",
    "        self.layer = nn.Linear(num_features, num_classes)\n",
    "        self.learning_rate = 0.002\n",
    "        self.accuracy = MulticlassAccuracy(num_classes=num_classes, average=\"weighted\")\n",
    "        self.f1_score = MulticlassF1Score(num_classes=num_classes, average=\"weighted\")\n",
    "        self.precision = MulticlassPrecision(\n",
    "            num_classes=num_classes, average=\"weighted\"\n",
    "        )\n",
    "        self.recall = MulticlassRecall(num_classes=num_classes, average=\"weighted\")\n",
    "\n",
    "    def forward(self, x):\n",
    "        return torch.log_softmax(self.layer(x), dim=1)\n",
    "\n",
    "    def training_step(self, batch, batch_idx):\n",
    "        x, y = batch\n",
    "        logits = self(x)\n",
    "        loss = torch.nn.functional.nll_loss(logits, y)\n",
    "        self.log(\"train_loss\", loss)\n",
    "        self.log(\"train_acc\", self.accuracy(logits, y), prog_bar=True)\n",
    "        return loss\n",
    "\n",
    "    def validation_step(self, batch, batch_idx):\n",
    "        x, y = batch\n",
    "        y_hat = self(x)\n",
    "        valid_loss = {\"valid_loss\": torch.nn.functional.nll_loss(y_hat, y)}\n",
    "        # Update metrics\n",
    "        self.log(\n",
    "            \"valid_accuracy\", self.accuracy(y_hat, y), on_step=False, on_epoch=True\n",
    "        )\n",
    "        self.log(\"valid_f1\", self.f1_score(y_hat, y), on_step=False, on_epoch=True)\n",
    "        self.log(\n",
    "            \"valid_precision\", self.precision(y_hat, y), on_step=False, on_epoch=True\n",
    "        )\n",
    "        self.log(\"valid_recall\", self.recall(y_hat, y), on_step=False, on_epoch=True)\n",
    "        return valid_loss\n",
    "\n",
    "    def configure_optimizers(self):\n",
    "        optimizer = torch.optim.Adam(self.parameters(), lr=self.learning_rate)\n",
    "        return optimizer\n",
    "\n",
    "\n",
    "class PetastormDataModule(pl.LightningDataModule):\n",
    "    def __init__(\n",
    "        self,\n",
    "        spark,\n",
    "        cache_dir,\n",
    "        train_data,\n",
    "        valid_data,\n",
    "        batch_size=32,\n",
    "        num_partitions=32,\n",
    "        workers_count=16,\n",
    "    ):\n",
    "        super().__init__()\n",
    "        spark.conf.set(\n",
    "            SparkDatasetConverter.PARENT_CACHE_DIR_URL_CONF, Path(cache_dir).as_posix()\n",
    "        )\n",
    "        self.spark = spark\n",
    "        self.train_data = train_data\n",
    "        self.valid_data = valid_data\n",
    "        self.batch_size = batch_size\n",
    "        self.num_partitions = num_partitions\n",
    "        self.workers_count = workers_count\n",
    "\n",
    "    def _prepare_dataframe(self, df, partitions=32):\n",
    "        \"\"\"Prepare the DataFrame for training by ensuring correct types and repartitioning\"\"\"\n",
    "        return (\n",
    "            df.withColumnRenamed(\"dct_embedding\", \"features\")\n",
    "            .withColumnRenamed(\"index\", \"label\")\n",
    "            .select([\"features\", \"label\"])\n",
    "            .repartition(partitions)\n",
    "        )\n",
    "\n",
    "    def setup(self, stage=None):\n",
    "        # setup petastorm data conversion from Spark to PyTorch\n",
    "        def make_converter(df):\n",
    "            return make_spark_converter(\n",
    "                self._prepare_dataframe(df, self.num_partitions)\n",
    "            )\n",
    "\n",
    "        self.converter_train = make_converter(self.train_data)\n",
    "        self.converter_valid = make_converter(self.valid_data)\n",
    "\n",
    "    def _dataloader(self, converter):\n",
    "        with converter.make_torch_dataloader(\n",
    "            batch_size=self.batch_size,\n",
    "            num_epochs=1,\n",
    "            workers_count=self.workers_count,\n",
    "        ) as dataloader:\n",
    "            for batch in dataloader:\n",
    "                yield batch\n",
    "\n",
    "    def train_dataloader(self):\n",
    "        for batch in self._dataloader(self.converter_train):\n",
    "            yield batch\n",
    "\n",
    "    def val_dataloader(self):\n",
    "        for batch in self._dataloader(self.converter_valid):\n",
    "            yield batch\n",
    "\n",
    "    def teardown(self, stage=None):\n",
    "        if stage == \"fit\" or stage is None:\n",
    "            self.train_reader.stop()\n",
    "            self.valid_reader.stop()"
   ]
  },
  {
   "cell_type": "code",
   "execution_count": 12,
   "metadata": {},
   "outputs": [
    {
     "name": "stderr",
     "output_type": "stream",
     "text": [
      "                                                                                \r"
     ]
    }
   ],
   "source": [
    "# lightning model parameters\n",
    "num_features = 64\n",
    "num_classes = int(train_df.select(\"index\").distinct().count())\n",
    "\n",
    "# data module parameters\n",
    "cache_dir = \"file:///mnt/data/tmp\"\n",
    "batch_size = 32\n",
    "num_partitions = 32\n",
    "workers_count = 16\n",
    "device = torch.device(\"cuda\" if torch.cuda.is_available() else \"cpu\")"
   ]
  },
  {
   "cell_type": "markdown",
   "metadata": {},
   "source": [
    "### train model"
   ]
  },
  {
   "cell_type": "code",
   "execution_count": 13,
   "metadata": {},
   "outputs": [
    {
     "name": "stderr",
     "output_type": "stream",
     "text": [
      "/home/mgustine/.local/lib/python3.10/site-packages/petastorm/fs_utils.py:88: FutureWarning: pyarrow.localfs is deprecated as of 2.0.0, please use pyarrow.fs.LocalFileSystem instead.\n",
      "  self._filesystem = pyarrow.localfs\n",
      "Converting floating-point columns to float32\n",
      "The median size 8434 B (< 50 MB) of the parquet files is too small. Total size: 272576 B. Increase the median file size by calling df.repartition(n) or df.coalesce(n), which might help improve the performance. Parquet files: file:///mnt/data/tmp/20240416215841-appid-local-1713304563025-0438fb45-e5e8-4767-b792-2d9c2918d408/part-00006-9ba6c1d3-7405-4ad2-8c97-cc4349458bdd-c000.parquet, ...\n",
      "Converting floating-point columns to float32\n",
      "The median size 2956 B (< 50 MB) of the parquet files is too small. Total size: 92294 B. Increase the median file size by calling df.repartition(n) or df.coalesce(n), which might help improve the performance. Parquet files: file:///mnt/data/tmp/20240416215912-appid-local-1713304563025-4a8ddbb7-4d66-4d92-86b6-8e8e7f205bbb/part-00024-41b42182-fdd8-4830-a8c4-267998e5f9bf-c000.parquet, ...\n"
     ]
    }
   ],
   "source": [
    "# define model\n",
    "model = LitClassifier(\n",
    "    num_features=num_features,\n",
    "    num_classes=num_classes,\n",
    ")\n",
    "\n",
    "# define data module\n",
    "data_module = PetastormDataModule(\n",
    "    spark=spark,\n",
    "    cache_dir=cache_dir,\n",
    "    train_data=train_df,\n",
    "    valid_data=valid_df,\n",
    ")\n",
    "data_module.setup()"
   ]
  },
  {
   "cell_type": "code",
   "execution_count": null,
   "metadata": {},
   "outputs": [],
   "source": [
    "# train model\n",
    "trainer = pl.Trainer(\n",
    "    max_epochs=10,\n",
    "    accelerator=\"cpu\",\n",
    ")\n",
    "\n",
    "trainer.fit(model, data_module)"
   ]
  },
  {
   "cell_type": "code",
   "execution_count": null,
   "metadata": {},
   "outputs": [],
   "source": [
    "from pyspark.ml.torch.distributor import TorchDistributor\n",
    "\n",
    "\n",
    "# Run TorchDistributor\n",
    "use_gpu = True if device.type == \"cuda\" else False\n",
    "# model = TorchDistributor(num_processes=2, local_mode=True, use_gpu=use_gpu).run()"
   ]
  },
  {
   "cell_type": "code",
   "execution_count": null,
   "metadata": {},
   "outputs": [],
   "source": []
  }
 ],
 "metadata": {
  "kernelspec": {
   "display_name": "Python 3",
   "language": "python",
   "name": "python3"
  },
  "language_info": {
   "codemirror_mode": {
    "name": "ipython",
    "version": 3
   },
   "file_extension": ".py",
   "mimetype": "text/x-python",
   "name": "python",
   "nbconvert_exporter": "python",
   "pygments_lexer": "ipython3",
   "version": "3.10.12"
  }
 },
 "nbformat": 4,
 "nbformat_minor": 2
}
