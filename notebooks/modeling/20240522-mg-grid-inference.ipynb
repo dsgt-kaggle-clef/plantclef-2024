{
 "cells": [
  {
   "cell_type": "markdown",
   "metadata": {},
   "source": [
    "# Grid inference pipeline"
   ]
  },
  {
   "cell_type": "code",
   "execution_count": 1,
   "metadata": {},
   "outputs": [],
   "source": [
    "%load_ext autoreload\n",
    "%autoreload 2"
   ]
  },
  {
   "cell_type": "code",
   "execution_count": 2,
   "metadata": {},
   "outputs": [
    {
     "name": "stderr",
     "output_type": "stream",
     "text": [
      "/usr/local/lib/python3.10/dist-packages/tqdm/auto.py:21: TqdmWarning: IProgress not found. Please update jupyter and ipywidgets. See https://ipywidgets.readthedocs.io/en/stable/user_install.html\n",
      "  from .autonotebook import tqdm as notebook_tqdm\n",
      "Setting default log level to \"WARN\".\n",
      "To adjust logging level use sc.setLogLevel(newLevel). For SparkR, use setLogLevel(newLevel).\n",
      "24/05/22 15:18:21 WARN NativeCodeLoader: Unable to load native-hadoop library for your platform... using builtin-java classes where applicable\n",
      "24/05/22 15:18:21 WARN SparkConf: Note that spark.local.dir will be overridden by the value set by the cluster manager (via SPARK_LOCAL_DIRS in mesos/standalone/kubernetes and LOCAL_DIRS in YARN).\n"
     ]
    },
    {
     "data": {
      "text/html": [
       "\n",
       "            <div>\n",
       "                <p><b>SparkSession - in-memory</b></p>\n",
       "                \n",
       "        <div>\n",
       "            <p><b>SparkContext</b></p>\n",
       "\n",
       "            <p><a href=\"http://plantclef-dev.us-central1-a.c.dsgt-clef-2024.internal:4040\">Spark UI</a></p>\n",
       "\n",
       "            <dl>\n",
       "              <dt>Version</dt>\n",
       "                <dd><code>v3.5.0</code></dd>\n",
       "              <dt>Master</dt>\n",
       "                <dd><code>local[*]</code></dd>\n",
       "              <dt>AppName</dt>\n",
       "                <dd><code>plantclef</code></dd>\n",
       "            </dl>\n",
       "        </div>\n",
       "        \n",
       "            </div>\n",
       "        "
      ],
      "text/plain": [
       "<pyspark.sql.session.SparkSession at 0x7568d6e830a0>"
      ]
     },
     "metadata": {},
     "output_type": "display_data"
    }
   ],
   "source": [
    "import os\n",
    "import csv\n",
    "import torch\n",
    "import numpy as np\n",
    "import pandas as pd\n",
    "from pathlib import Path\n",
    "from plantclef.utils import get_spark\n",
    "from pyspark import SparkContext\n",
    "from pyspark.sql import functions as F\n",
    "from pyspark.sql.functions import pandas_udf\n",
    "from google.cloud import storage\n",
    "from plantclef.baseline.model import LinearClassifier\n",
    "\n",
    "\n",
    "spark = get_spark()\n",
    "display(spark)"
   ]
  },
  {
   "cell_type": "code",
   "execution_count": 32,
   "metadata": {},
   "outputs": [
    {
     "name": "stdout",
     "output_type": "stream",
     "text": [
      "+-------------------------------+------------+--------------------------------------------------+---------+\n",
      "|                     image_name|patch_number|                                     cls_embedding|sample_id|\n",
      "+-------------------------------+------------+--------------------------------------------------+---------+\n",
      "|       CBN-PdlC-B6-20190909.jpg|           7|[0.567645, 1.6921916, -0.29813325, 0.15727657, ...|        6|\n",
      "|       CBN-PdlC-F1-20200722.jpg|           5|[0.25926074, 2.0660655, -0.5255144, -0.58279055...|        6|\n",
      "|OPTMix-0598-P4-108-20231207.jpg|           8|[-0.1416022, 0.50105137, -0.94805455, 1.6697326...|        6|\n",
      "|        CBN-Pla-B6-20130904.jpg|           5|[-0.3612894, 1.0147426, -0.5758655, -1.1154238,...|        6|\n",
      "|       CBN-PdlC-B5-20190722.jpg|           4|[0.57478356, 1.923769, -0.39382437, -0.6269862,...|        6|\n",
      "+-------------------------------+------------+--------------------------------------------------+---------+\n",
      "only showing top 5 rows\n",
      "\n",
      "+--------------------------------------------+----------+--------------------------------------------------+\n",
      "|                                  image_name|species_id|                                     cls_embedding|\n",
      "+--------------------------------------------+----------+--------------------------------------------------+\n",
      "|5ddad155a99ff9b22355b940c100ee588fd73587.jpg|   1390691|[1.2776474, 1.4595255, 1.7950346, 2.156743, 2.8...|\n",
      "|ea74d65858ceb7d55981560684234b826a7645e2.jpg|   1360260|[-1.9118708, 3.0542357, -3.143496, 1.4037858, 0...|\n",
      "|86eb8b2e1a7b6a6d4bdd7b49a1e4bd090b867cf5.jpg|   1390699|[0.57074785, 1.7904518, -1.0096772, 1.4558841, ...|\n",
      "|4dd8c6a10041b1c028823d667316679da4c457fd.jpg|   1396486|[0.85863805, -2.9571414, 1.3469055, -0.8254508,...|\n",
      "|1d5d139f575031bd13940c1ef10bf4e73dac6d41.jpg|   1356608|[-0.4914153, -1.3314899, 0.33835393, -0.6760831...|\n",
      "+--------------------------------------------+----------+--------------------------------------------------+\n",
      "only showing top 5 rows\n",
      "\n"
     ]
    }
   ],
   "source": [
    "# get dataframes\n",
    "gcs_path = \"gs://dsgt-clef-plantclef-2024\"\n",
    "test_path = \"data/process/test_v2/grid_dino_pretrained/data\"\n",
    "cls_emb_train = \"data/process/training_cropped_resized_v2/dino_cls_token/data\"\n",
    "default_root_dir = \"gs://dsgt-clef-plantclef-2024/models/torch-petastorm-v2-linear-nllloss-pretrained-cls\"\n",
    "# paths to dataframe\n",
    "test_path = f\"{gcs_path}/{test_path}\"\n",
    "cls_gcs_path = f\"{gcs_path}/{cls_emb_train}\"\n",
    "# read data\n",
    "test_df = spark.read.parquet(test_path)\n",
    "train_df = spark.read.parquet(cls_gcs_path)\n",
    "# show\n",
    "test_df.show(n=5, truncate=50)\n",
    "train_df.show(n=5, truncate=50)"
   ]
  },
  {
   "cell_type": "markdown",
   "metadata": {},
   "source": [
    "### prepare data for inference"
   ]
  },
  {
   "cell_type": "code",
   "execution_count": 33,
   "metadata": {},
   "outputs": [],
   "source": [
    "limit_species = None\n",
    "species_image_count = 100\n",
    "\n",
    "\n",
    "def remap_index_to_species_id(df):\n",
    "    # Aggregate and filter species based on image count\n",
    "    grouped_df = (\n",
    "        df.groupBy(\"species_id\")\n",
    "        .agg(F.count(\"species_id\").alias(\"n\"))\n",
    "        .filter(F.col(\"n\") >= species_image_count)\n",
    "        .orderBy(F.col(\"n\").desc(), F.col(\"species_id\"))\n",
    "        .withColumn(\"index\", F.monotonically_increasing_id())\n",
    "    ).drop(\"n\")\n",
    "\n",
    "    # Use broadcast join to optimize smaller DataFrame joining\n",
    "    filtered_df = df.join(F.broadcast(grouped_df), \"species_id\", \"inner\")\n",
    "\n",
    "    # Optionally limit the number of species\n",
    "    if limit_species is not None:\n",
    "        limited_grouped_df = (\n",
    "            (\n",
    "                grouped_df.orderBy(F.rand(seed=42))\n",
    "                .limit(limit_species)\n",
    "                .withColumn(\"new_index\", F.monotonically_increasing_id())\n",
    "            )\n",
    "            .drop(\"index\")\n",
    "            .withColumnRenamed(\"new_index\", \"index\")\n",
    "        )\n",
    "\n",
    "        filtered_df = filtered_df.drop(\"index\").join(\n",
    "            F.broadcast(limited_grouped_df), \"species_id\", \"inner\"\n",
    "        )\n",
    "\n",
    "    return filtered_df"
   ]
  },
  {
   "cell_type": "code",
   "execution_count": 35,
   "metadata": {},
   "outputs": [
    {
     "name": "stderr",
     "output_type": "stream",
     "text": [
      "[Stage 168:====================================================>  (48 + 2) / 50]\r"
     ]
    },
    {
     "name": "stdout",
     "output_type": "stream",
     "text": [
      "num_features: 768\n",
      "num_classes: 4797\n"
     ]
    },
    {
     "name": "stderr",
     "output_type": "stream",
     "text": [
      "                                                                                \r"
     ]
    }
   ],
   "source": [
    "# remap the indexes to species and get dataframe\n",
    "filtered_df = remap_index_to_species_id(train_df)\n",
    "\n",
    "# get parameters for the model\n",
    "feature_col = \"cls_embedding\"\n",
    "num_features = int(len(filtered_df.select(feature_col).first()[feature_col]))\n",
    "num_classes = int(filtered_df.select(\"species_id\").distinct().count())\n",
    "print(f\"num_features: {num_features}\")\n",
    "print(f\"num_classes: {num_classes}\")"
   ]
  },
  {
   "cell_type": "code",
   "execution_count": 37,
   "metadata": {},
   "outputs": [],
   "source": [
    "def load_model_from_gcs(num_features: int, num_classes: int):\n",
    "    bucket_name = \"dsgt-clef-plantclef-2024\"\n",
    "    relative_path = default_root_dir.split(f\"{bucket_name}/\")[-1]\n",
    "    path_in_bucket = f\"{relative_path}/checkpoints/last.ckpt\"\n",
    "    client = storage.Client()\n",
    "    bucket = client.bucket(bucket_name)\n",
    "    blob = bucket.blob(path_in_bucket)\n",
    "    blob.download_to_filename(\"last.ckpt\")\n",
    "    checkpoint = torch.load(\"last.ckpt\", map_location=torch.device(\"cpu\"))\n",
    "\n",
    "    # Instantiate the model first\n",
    "    model = LinearClassifier(num_features, num_classes)\n",
    "\n",
    "    # Adjust the state_dict if necessary\n",
    "    state_dict = checkpoint[\"state_dict\"]\n",
    "\n",
    "    # Load the state dictionary\n",
    "    load_result = model.load_state_dict(state_dict, strict=False)\n",
    "\n",
    "    if load_result.missing_keys or load_result.unexpected_keys:\n",
    "        print(\"Warning: There were missing or unexpected keys during model loading\")\n",
    "        print(\"Missing keys:\", load_result.missing_keys)\n",
    "        print(\"Unexpected keys:\", load_result.unexpected_keys)\n",
    "\n",
    "    return model"
   ]
  },
  {
   "cell_type": "code",
   "execution_count": 38,
   "metadata": {},
   "outputs": [],
   "source": [
    "# Get model\n",
    "model = load_model_from_gcs(\n",
    "    num_features=num_features,\n",
    "    num_classes=num_classes,\n",
    ")\n",
    "# Broadcast the model to send to all executors\n",
    "sc = SparkContext.getOrCreate()\n",
    "broadcast_model = sc.broadcast(model)"
   ]
  },
  {
   "cell_type": "code",
   "execution_count": 39,
   "metadata": {},
   "outputs": [],
   "source": [
    "@pandas_udf(\"long\")  # Adjust the return type based on model's output\n",
    "def predict_udf(dct_embedding_series: pd.Series) -> pd.Series:\n",
    "    local_model = broadcast_model.value  # Access the broadcast variable\n",
    "    local_model.eval()  # Set the model to evaluation mode\n",
    "    # Convert the list of numpy arrays to a single numpy array\n",
    "    embeddings_array = np.array(list(dct_embedding_series))\n",
    "    # Convert the numpy array to a PyTorch tensor\n",
    "    embeddings_tensor = torch.tensor(embeddings_array, dtype=torch.float32)\n",
    "    # Make predictions\n",
    "    with torch.no_grad():\n",
    "        outputs = local_model(embeddings_tensor)\n",
    "        predicted_classes = outputs.argmax(\n",
    "            dim=1\n",
    "        ).numpy()  # Get all predicted classes at once\n",
    "    return pd.Series(predicted_classes)\n",
    "\n",
    "\n",
    "# UDF using the CLS token\n",
    "@pandas_udf(\"long\")\n",
    "def predict_with_cls_udf(dct_embedding_series: pd.Series) -> pd.Series:\n",
    "    local_model = broadcast_model.value\n",
    "    local_model.eval()\n",
    "    embeddings_array = np.array(list(dct_embedding_series))\n",
    "    embeddings_tensor = torch.tensor(embeddings_array, dtype=torch.float32)\n",
    "    with torch.no_grad():\n",
    "        outputs = local_model(embeddings_tensor)\n",
    "        cls_token = outputs[:, 0, :]\n",
    "        predicted_classes = cls_token.argmax(dim=1).numpy()\n",
    "    return pd.Series(predicted_classes)"
   ]
  },
  {
   "cell_type": "code",
   "execution_count": 41,
   "metadata": {},
   "outputs": [
    {
     "name": "stderr",
     "output_type": "stream",
     "text": [
      "24/05/22 15:52:27 WARN CacheManager: Asked to cache already cached data.\n"
     ]
    },
    {
     "name": "stdout",
     "output_type": "stream",
     "text": [
      "+------------------------+------------+--------------------------------------------------+---------+-----------+\n",
      "|              image_name|patch_number|                                     cls_embedding|sample_id|predictions|\n",
      "+------------------------+------------+--------------------------------------------------+---------+-----------+\n",
      "|CBN-PdlC-A1-20130807.jpg|           0|[-0.0986969, 1.3777568, 0.050541468, -0.2633565...|        4|       3515|\n",
      "|CBN-PdlC-A1-20130807.jpg|           1|[0.28588018, 1.14535, -1.9985845, -0.28868702, ...|        4|       2700|\n",
      "|CBN-PdlC-A1-20130807.jpg|           2|[0.009646882, 0.67857593, -1.010919, -0.3333199...|        4|       2700|\n",
      "|CBN-PdlC-A1-20130807.jpg|           3|[0.53748274, 0.93665814, -0.38700807, -0.979181...|        4|       3272|\n",
      "|CBN-PdlC-A1-20130807.jpg|           4|[0.5349963, 0.56628793, -0.26641238, -0.0379398...|        4|       3272|\n",
      "|CBN-PdlC-A1-20130807.jpg|           5|[-0.03167449, 0.50434786, -1.0075089, 0.7306768...|        4|       3272|\n",
      "|CBN-PdlC-A1-20130807.jpg|           6|[0.015747203, 1.5531191, 0.04302986, 0.45570028...|        4|       3945|\n",
      "|CBN-PdlC-A1-20130807.jpg|           7|[0.52394265, 0.58447725, -0.23023947, 0.0034517...|        4|       3945|\n",
      "|CBN-PdlC-A1-20130807.jpg|           8|[-0.6201346, 1.2587961, -0.72532475, 1.0231664,...|        4|        662|\n",
      "|CBN-PdlC-A1-20130903.jpg|           0|[-1.3679489, 0.72653866, -1.9505574, -0.8700211...|        2|       4198|\n",
      "+------------------------+------------+--------------------------------------------------+---------+-----------+\n",
      "only showing top 10 rows\n",
      "\n"
     ]
    }
   ],
   "source": [
    "# Set CLS parameter\n",
    "use_cls_token = False\n",
    "\n",
    "if use_cls_token:\n",
    "    result_df = test_df.withColumn(\n",
    "        \"predictions\", predict_with_cls_udf(test_df[feature_col])\n",
    "    ).cache()\n",
    "else:\n",
    "    # get predictions on test_df\n",
    "    result_df = test_df.withColumn(\n",
    "        \"predictions\", predict_udf(test_df[feature_col])\n",
    "    ).cache()\n",
    "\n",
    "result_df.orderBy(\"image_name\", \"patch_number\").show(n=10, truncate=50)"
   ]
  },
  {
   "cell_type": "code",
   "execution_count": 42,
   "metadata": {},
   "outputs": [],
   "source": [
    "def prepare_dataframe_submission(result_df, filtered_df):\n",
    "    # Join both dataframes to get species_id\n",
    "    joined_df = result_df.join(\n",
    "        F.broadcast(filtered_df),\n",
    "        result_df.predictions == filtered_df.index,\n",
    "        \"inner\",\n",
    "    ).select(result_df.image_name, \"species_id\", \"index\", \"predictions\")\n",
    "    # Create columns for submission\n",
    "    final_df = (\n",
    "        joined_df.withColumn(\"plot_id\", F.regexp_replace(\"image_name\", \"\\\\.jpg$\", \"\"))\n",
    "        .groupBy(\"plot_id\")\n",
    "        .agg(F.collect_set(\"species_id\").alias(\"species_ids\"))\n",
    "    )\n",
    "    # Convert the set of species_ids to a formatted string enclosed in single square brackets\n",
    "    final_df = final_df.withColumn(\n",
    "        \"species_ids\",\n",
    "        F.concat(F.lit(\"[\"), F.concat_ws(\", \", \"species_ids\"), F.lit(\"]\")),\n",
    "    )\n",
    "    return final_df.cache()\n",
    "\n",
    "\n",
    "def write_cvs_to_gcs(final_df):\n",
    "    # Convert Spark DataFrame to Pandas DataFrame\n",
    "    final_pandas_df = final_df.toPandas()\n",
    "\n",
    "    # Export to CSV with the specified format\n",
    "    output_dir = f\"{default_root_dir}/experiments/dsgt_run.csv\"\n",
    "    final_pandas_df.to_csv(output_dir, sep=\";\", index=False, quoting=csv.QUOTE_NONE)"
   ]
  },
  {
   "cell_type": "code",
   "execution_count": 45,
   "metadata": {},
   "outputs": [
    {
     "name": "stderr",
     "output_type": "stream",
     "text": [
      "[Stage 206:=====>                                               (16 + 12) / 151]\r"
     ]
    },
    {
     "name": "stdout",
     "output_type": "stream",
     "text": [
      "+------------------------+------------+----------+-----+-----------+\n",
      "|              image_name|patch_number|species_id|index|predictions|\n",
      "+------------------------+------------+----------+-----+-----------+\n",
      "|CBN-PdlC-A1-20130807.jpg|           0|   1394911| 3515|       3515|\n",
      "|CBN-PdlC-A1-20130807.jpg|           0|   1394911| 3515|       3515|\n",
      "|CBN-PdlC-A1-20130807.jpg|           0|   1394911| 3515|       3515|\n",
      "|CBN-PdlC-A1-20130807.jpg|           0|   1394911| 3515|       3515|\n",
      "|CBN-PdlC-A1-20130807.jpg|           0|   1394911| 3515|       3515|\n",
      "|CBN-PdlC-A1-20130807.jpg|           0|   1394911| 3515|       3515|\n",
      "|CBN-PdlC-A1-20130807.jpg|           0|   1394911| 3515|       3515|\n",
      "|CBN-PdlC-A1-20130807.jpg|           0|   1394911| 3515|       3515|\n",
      "|CBN-PdlC-A1-20130807.jpg|           0|   1394911| 3515|       3515|\n",
      "|CBN-PdlC-A1-20130807.jpg|           0|   1394911| 3515|       3515|\n",
      "+------------------------+------------+----------+-----+-----------+\n",
      "only showing top 10 rows\n",
      "\n"
     ]
    },
    {
     "name": "stderr",
     "output_type": "stream",
     "text": [
      "                                                                                \r"
     ]
    }
   ],
   "source": [
    "# Join both dataframes to get species_id\n",
    "joined_df = result_df.join(\n",
    "    F.broadcast(filtered_df),\n",
    "    result_df.predictions == filtered_df.index,\n",
    "    \"inner\",\n",
    ").select(result_df.image_name, \"patch_number\", \"species_id\", \"index\", \"predictions\")\n",
    "\n",
    "# show\n",
    "joined_df.orderBy(\"image_name\", \"patch_number\").show(n=10, truncate=50)\n",
    "\n",
    "# # Create columns for submission\n",
    "# final_df = (\n",
    "#     joined_df.withColumn(\"plot_id\", F.regexp_replace(\"image_name\", \"\\\\.jpg$\", \"\"))\n",
    "#     .groupBy(\"plot_id\")\n",
    "#     .agg(F.collect_set(\"species_id\").alias(\"species_ids\"))\n",
    "# )\n",
    "# # Convert the set of species_ids to a formatted string enclosed in single square brackets\n",
    "# final_df = final_df.withColumn(\n",
    "#     \"species_ids\",\n",
    "#     F.concat(F.lit(\"[\"), F.concat_ws(\", \", \"species_ids\"), F.lit(\"]\")),\n",
    "# )\n",
    "# final_df.cache()"
   ]
  },
  {
   "cell_type": "code",
   "execution_count": null,
   "metadata": {},
   "outputs": [],
   "source": [
    "# prepare dataframe for submission\n",
    "final_df = prepare_dataframe_submission(\n",
    "    result_df=result_df,\n",
    "    filtered_df=filtered_df,\n",
    ")\n",
    "final_df.show(n=10, truncate=50)\n",
    "\n",
    "# write CSV file to GCS\n",
    "# write_cvs_to_gcs(final_df=final_df)"
   ]
  },
  {
   "cell_type": "code",
   "execution_count": 29,
   "metadata": {},
   "outputs": [],
   "source": [
    "# write CSV file to GCS\n",
    "write_cvs_to_gcs(final_df=final_df)"
   ]
  },
  {
   "cell_type": "code",
   "execution_count": null,
   "metadata": {},
   "outputs": [],
   "source": []
  }
 ],
 "metadata": {
  "kernelspec": {
   "display_name": "Python 3",
   "language": "python",
   "name": "python3"
  },
  "language_info": {
   "codemirror_mode": {
    "name": "ipython",
    "version": 3
   },
   "file_extension": ".py",
   "mimetype": "text/x-python",
   "name": "python",
   "nbconvert_exporter": "python",
   "pygments_lexer": "ipython3",
   "version": "3.10.12"
  }
 },
 "nbformat": 4,
 "nbformat_minor": 2
}
