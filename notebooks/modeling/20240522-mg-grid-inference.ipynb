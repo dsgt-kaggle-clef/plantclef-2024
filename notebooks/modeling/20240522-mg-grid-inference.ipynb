{
 "cells": [
  {
   "cell_type": "markdown",
   "metadata": {},
   "source": [
    "# Grid inference pipeline"
   ]
  },
  {
   "cell_type": "code",
   "execution_count": 1,
   "metadata": {},
   "outputs": [],
   "source": [
    "%load_ext autoreload\n",
    "%autoreload 2"
   ]
  },
  {
   "cell_type": "code",
   "execution_count": 2,
   "metadata": {},
   "outputs": [
    {
     "name": "stderr",
     "output_type": "stream",
     "text": [
      "/usr/local/lib/python3.10/dist-packages/tqdm/auto.py:21: TqdmWarning: IProgress not found. Please update jupyter and ipywidgets. See https://ipywidgets.readthedocs.io/en/stable/user_install.html\n",
      "  from .autonotebook import tqdm as notebook_tqdm\n",
      "Setting default log level to \"WARN\".\n",
      "To adjust logging level use sc.setLogLevel(newLevel). For SparkR, use setLogLevel(newLevel).\n",
      "24/05/23 16:01:05 WARN NativeCodeLoader: Unable to load native-hadoop library for your platform... using builtin-java classes where applicable\n",
      "24/05/23 16:01:05 WARN SparkConf: Note that spark.local.dir will be overridden by the value set by the cluster manager (via SPARK_LOCAL_DIRS in mesos/standalone/kubernetes and LOCAL_DIRS in YARN).\n"
     ]
    },
    {
     "data": {
      "text/html": [
       "\n",
       "            <div>\n",
       "                <p><b>SparkSession - in-memory</b></p>\n",
       "                \n",
       "        <div>\n",
       "            <p><b>SparkContext</b></p>\n",
       "\n",
       "            <p><a href=\"http://plantclef-dev.us-central1-a.c.dsgt-clef-2024.internal:4040\">Spark UI</a></p>\n",
       "\n",
       "            <dl>\n",
       "              <dt>Version</dt>\n",
       "                <dd><code>v3.5.0</code></dd>\n",
       "              <dt>Master</dt>\n",
       "                <dd><code>local[*]</code></dd>\n",
       "              <dt>AppName</dt>\n",
       "                <dd><code>plantclef</code></dd>\n",
       "            </dl>\n",
       "        </div>\n",
       "        \n",
       "            </div>\n",
       "        "
      ],
      "text/plain": [
       "<pyspark.sql.session.SparkSession at 0x702eeeec27a0>"
      ]
     },
     "metadata": {},
     "output_type": "display_data"
    }
   ],
   "source": [
    "import os\n",
    "import csv\n",
    "import torch\n",
    "import numpy as np\n",
    "import pandas as pd\n",
    "from plantclef.utils import get_spark\n",
    "from pyspark import SparkContext\n",
    "from pyspark.sql import functions as F\n",
    "from pyspark.sql.functions import pandas_udf\n",
    "from google.cloud import storage\n",
    "from plantclef.baseline.model import LinearClassifier\n",
    "\n",
    "\n",
    "spark = get_spark()\n",
    "display(spark)"
   ]
  },
  {
   "cell_type": "code",
   "execution_count": 3,
   "metadata": {},
   "outputs": [
    {
     "name": "stderr",
     "output_type": "stream",
     "text": [
      "                                                                                \r"
     ]
    },
    {
     "name": "stdout",
     "output_type": "stream",
     "text": [
      "+-------------------------------+------------+--------------------------------------------------+---------+\n",
      "|                     image_name|patch_number|                                     cls_embedding|sample_id|\n",
      "+-------------------------------+------------+--------------------------------------------------+---------+\n",
      "|       CBN-PdlC-B6-20190909.jpg|           7|[0.567645, 1.6921916, -0.29813325, 0.15727657, ...|        6|\n",
      "|       CBN-PdlC-F1-20200722.jpg|           5|[0.25926074, 2.0660655, -0.5255144, -0.58279055...|        6|\n",
      "|OPTMix-0598-P4-108-20231207.jpg|           8|[-0.1416022, 0.50105137, -0.94805455, 1.6697326...|        6|\n",
      "|        CBN-Pla-B6-20130904.jpg|           5|[-0.3612894, 1.0147426, -0.5758655, -1.1154238,...|        6|\n",
      "|       CBN-PdlC-B5-20190722.jpg|           4|[0.57478356, 1.923769, -0.39382437, -0.6269862,...|        6|\n",
      "+-------------------------------+------------+--------------------------------------------------+---------+\n",
      "only showing top 5 rows\n",
      "\n",
      "+--------------------------------------------+----------+--------------------------------------------------+\n",
      "|                                  image_name|species_id|                                     cls_embedding|\n",
      "+--------------------------------------------+----------+--------------------------------------------------+\n",
      "|5ddad155a99ff9b22355b940c100ee588fd73587.jpg|   1390691|[1.2776474, 1.4595255, 1.7950346, 2.156743, 2.8...|\n",
      "|ea74d65858ceb7d55981560684234b826a7645e2.jpg|   1360260|[-1.9118708, 3.0542357, -3.143496, 1.4037858, 0...|\n",
      "|86eb8b2e1a7b6a6d4bdd7b49a1e4bd090b867cf5.jpg|   1390699|[0.57074785, 1.7904518, -1.0096772, 1.4558841, ...|\n",
      "|4dd8c6a10041b1c028823d667316679da4c457fd.jpg|   1396486|[0.85863805, -2.9571414, 1.3469055, -0.8254508,...|\n",
      "|1d5d139f575031bd13940c1ef10bf4e73dac6d41.jpg|   1356608|[-0.4914153, -1.3314899, 0.33835393, -0.6760831...|\n",
      "+--------------------------------------------+----------+--------------------------------------------------+\n",
      "only showing top 5 rows\n",
      "\n"
     ]
    }
   ],
   "source": [
    "# get dataframes\n",
    "gcs_path = \"gs://dsgt-clef-plantclef-2024\"\n",
    "test_path = \"data/process/test_v2/grid_dino_pretrained/data\"\n",
    "cls_emb_train = \"data/process/training_cropped_resized_v2/dino_cls_token/data\"\n",
    "default_root_dir = \"gs://dsgt-clef-plantclef-2024/models/torch-petastorm-v2-linear-nllloss-pretrained-cls\"\n",
    "# paths to dataframe\n",
    "test_path = f\"{gcs_path}/{test_path}\"\n",
    "cls_gcs_path = f\"{gcs_path}/{cls_emb_train}\"\n",
    "# read data\n",
    "test_df = spark.read.parquet(test_path)\n",
    "train_df = spark.read.parquet(cls_gcs_path)\n",
    "# show\n",
    "test_df.show(n=5, truncate=50)\n",
    "train_df.show(n=5, truncate=50)"
   ]
  },
  {
   "cell_type": "markdown",
   "metadata": {},
   "source": [
    "### prepare data for inference"
   ]
  },
  {
   "cell_type": "code",
   "execution_count": 4,
   "metadata": {},
   "outputs": [],
   "source": [
    "limit_species = None\n",
    "species_image_count = 100\n",
    "\n",
    "\n",
    "def remap_index_to_species_id(df):\n",
    "    # Aggregate and filter species based on image count\n",
    "    grouped_df = (\n",
    "        df.groupBy(\"species_id\")\n",
    "        .agg(F.count(\"species_id\").alias(\"n\"))\n",
    "        .filter(F.col(\"n\") >= species_image_count)\n",
    "        .orderBy(F.col(\"n\").desc(), F.col(\"species_id\"))\n",
    "        .withColumn(\"index\", F.monotonically_increasing_id())\n",
    "    ).drop(\"n\")\n",
    "\n",
    "    # Use broadcast join to optimize smaller DataFrame joining\n",
    "    filtered_df = df.join(F.broadcast(grouped_df), \"species_id\", \"inner\")\n",
    "\n",
    "    # Optionally limit the number of species\n",
    "    if limit_species is not None:\n",
    "        limited_grouped_df = (\n",
    "            (\n",
    "                grouped_df.orderBy(F.rand(seed=42))\n",
    "                .limit(limit_species)\n",
    "                .withColumn(\"new_index\", F.monotonically_increasing_id())\n",
    "            )\n",
    "            .drop(\"index\")\n",
    "            .withColumnRenamed(\"new_index\", \"index\")\n",
    "        )\n",
    "\n",
    "        filtered_df = filtered_df.drop(\"index\").join(\n",
    "            F.broadcast(limited_grouped_df), \"species_id\", \"inner\"\n",
    "        )\n",
    "\n",
    "    return filtered_df"
   ]
  },
  {
   "cell_type": "code",
   "execution_count": 5,
   "metadata": {},
   "outputs": [
    {
     "name": "stderr",
     "output_type": "stream",
     "text": [
      "[Stage 11:======================================================> (49 + 1) / 50]\r"
     ]
    },
    {
     "name": "stdout",
     "output_type": "stream",
     "text": [
      "num_features: 768\n",
      "num_classes: 4797\n"
     ]
    },
    {
     "name": "stderr",
     "output_type": "stream",
     "text": [
      "                                                                                \r"
     ]
    }
   ],
   "source": [
    "# remap the indexes to species and get dataframe\n",
    "filtered_df = remap_index_to_species_id(train_df)\n",
    "\n",
    "# get parameters for the model\n",
    "feature_col = \"cls_embedding\"\n",
    "num_features = int(len(filtered_df.select(feature_col).first()[feature_col]))\n",
    "num_classes = int(filtered_df.select(\"species_id\").distinct().count())\n",
    "print(f\"num_features: {num_features}\")\n",
    "print(f\"num_classes: {num_classes}\")"
   ]
  },
  {
   "cell_type": "code",
   "execution_count": 6,
   "metadata": {},
   "outputs": [],
   "source": [
    "def load_model_from_gcs(num_features: int, num_classes: int):\n",
    "    bucket_name = \"dsgt-clef-plantclef-2024\"\n",
    "    relative_path = default_root_dir.split(f\"{bucket_name}/\")[-1]\n",
    "    path_in_bucket = f\"{relative_path}/checkpoints/last.ckpt\"\n",
    "    client = storage.Client()\n",
    "    bucket = client.bucket(bucket_name)\n",
    "    blob = bucket.blob(path_in_bucket)\n",
    "    blob.download_to_filename(\"last.ckpt\")\n",
    "    checkpoint = torch.load(\"last.ckpt\", map_location=torch.device(\"cpu\"))\n",
    "\n",
    "    # Instantiate the model first\n",
    "    model = LinearClassifier(num_features, num_classes)\n",
    "\n",
    "    # Adjust the state_dict if necessary\n",
    "    state_dict = checkpoint[\"state_dict\"]\n",
    "\n",
    "    # Load the state dictionary\n",
    "    load_result = model.load_state_dict(state_dict, strict=False)\n",
    "\n",
    "    if load_result.missing_keys or load_result.unexpected_keys:\n",
    "        print(\"Warning: There were missing or unexpected keys during model loading\")\n",
    "        print(\"Missing keys:\", load_result.missing_keys)\n",
    "        print(\"Unexpected keys:\", load_result.unexpected_keys)\n",
    "\n",
    "    return model"
   ]
  },
  {
   "cell_type": "code",
   "execution_count": 7,
   "metadata": {},
   "outputs": [],
   "source": [
    "# Get model\n",
    "model = load_model_from_gcs(\n",
    "    num_features=num_features,\n",
    "    num_classes=num_classes,\n",
    ")\n",
    "# Broadcast the model to send to all executors\n",
    "sc = SparkContext.getOrCreate()\n",
    "broadcast_model = sc.broadcast(model)"
   ]
  },
  {
   "cell_type": "code",
   "execution_count": 8,
   "metadata": {},
   "outputs": [],
   "source": [
    "@pandas_udf(\"long\")  # Adjust the return type based on model's output\n",
    "def predict_udf(embedding_series: pd.Series) -> pd.Series:\n",
    "    local_model = broadcast_model.value  # Access the broadcast variable\n",
    "    local_model.eval()  # Set the model to evaluation mode\n",
    "    # Convert the list of numpy arrays to a single numpy array\n",
    "    embeddings_array = np.array(list(embedding_series))\n",
    "    # Convert the numpy array to a PyTorch tensor\n",
    "    embeddings_tensor = torch.tensor(embeddings_array, dtype=torch.float32)\n",
    "    # Make predictions\n",
    "    with torch.no_grad():\n",
    "        outputs = local_model(embeddings_tensor)\n",
    "        predicted_classes = outputs.argmax(\n",
    "            dim=1\n",
    "        ).numpy()  # Get all predicted classes at once\n",
    "    return pd.Series(predicted_classes)\n",
    "\n",
    "\n",
    "# UDF using the CLS token\n",
    "@pandas_udf(\"long\")\n",
    "def predict_with_cls_udf(embedding_series: pd.Series) -> pd.Series:\n",
    "    local_model = broadcast_model.value\n",
    "    local_model.eval()\n",
    "    embeddings_array = np.array(list(embedding_series))\n",
    "    embeddings_tensor = torch.tensor(embeddings_array, dtype=torch.float32)\n",
    "    with torch.no_grad():\n",
    "        outputs = local_model(embeddings_tensor)\n",
    "        cls_token = outputs[:, 0, :]\n",
    "        predicted_classes = cls_token.argmax(dim=1).numpy()\n",
    "    return pd.Series(predicted_classes)"
   ]
  },
  {
   "cell_type": "code",
   "execution_count": 9,
   "metadata": {},
   "outputs": [
    {
     "name": "stderr",
     "output_type": "stream",
     "text": [
      "                                                                                \r"
     ]
    },
    {
     "name": "stdout",
     "output_type": "stream",
     "text": [
      "+------------------------+------------+--------------------------------------------------+---------+-----------+\n",
      "|              image_name|patch_number|                                     cls_embedding|sample_id|predictions|\n",
      "+------------------------+------------+--------------------------------------------------+---------+-----------+\n",
      "|CBN-PdlC-A1-20130807.jpg|           0|[-0.0986969, 1.3777568, 0.050541468, -0.2633565...|        4|       3515|\n",
      "|CBN-PdlC-A1-20130807.jpg|           1|[0.28588018, 1.14535, -1.9985845, -0.28868702, ...|        4|       2700|\n",
      "|CBN-PdlC-A1-20130807.jpg|           2|[0.009646882, 0.67857593, -1.010919, -0.3333199...|        4|       2700|\n",
      "|CBN-PdlC-A1-20130807.jpg|           3|[0.53748274, 0.93665814, -0.38700807, -0.979181...|        4|       3272|\n",
      "|CBN-PdlC-A1-20130807.jpg|           4|[0.5349963, 0.56628793, -0.26641238, -0.0379398...|        4|       3272|\n",
      "|CBN-PdlC-A1-20130807.jpg|           5|[-0.03167449, 0.50434786, -1.0075089, 0.7306768...|        4|       3272|\n",
      "|CBN-PdlC-A1-20130807.jpg|           6|[0.015747203, 1.5531191, 0.04302986, 0.45570028...|        4|       3945|\n",
      "|CBN-PdlC-A1-20130807.jpg|           7|[0.52394265, 0.58447725, -0.23023947, 0.0034517...|        4|       3945|\n",
      "|CBN-PdlC-A1-20130807.jpg|           8|[-0.6201346, 1.2587961, -0.72532475, 1.0231664,...|        4|        662|\n",
      "|CBN-PdlC-A1-20130903.jpg|           0|[-1.3679489, 0.72653866, -1.9505574, -0.8700211...|        2|       4198|\n",
      "+------------------------+------------+--------------------------------------------------+---------+-----------+\n",
      "only showing top 10 rows\n",
      "\n"
     ]
    }
   ],
   "source": [
    "# Set CLS parameter\n",
    "use_cls_token = False\n",
    "\n",
    "if use_cls_token:\n",
    "    result_df = test_df.withColumn(\n",
    "        \"predictions\", predict_with_cls_udf(test_df[feature_col])\n",
    "    ).cache()\n",
    "else:\n",
    "    # get predictions on test_df\n",
    "    result_df = test_df.withColumn(\n",
    "        \"predictions\", predict_udf(test_df[feature_col])\n",
    "    ).cache()\n",
    "\n",
    "result_df.orderBy(\"image_name\", \"patch_number\").show(n=10, truncate=50)"
   ]
  },
  {
   "cell_type": "code",
   "execution_count": 10,
   "metadata": {},
   "outputs": [],
   "source": [
    "def prepare_grid_dataframe_submission(result_df, filtered_df):\n",
    "    # Join both dataframes to get species_id\n",
    "    joined_df = (\n",
    "        result_df.join(\n",
    "            filtered_df,\n",
    "            result_df.predictions == filtered_df.index,\n",
    "            \"inner\",\n",
    "        ).select(\n",
    "            result_df.image_name, \"patch_number\", \"species_id\", \"index\", \"predictions\"\n",
    "        )\n",
    "    ).distinct()\n",
    "    # Create columns for submission\n",
    "    final_df = (\n",
    "        joined_df.withColumn(\"plot_id\", F.regexp_replace(\"image_name\", \"\\\\.jpg$\", \"\"))\n",
    "        .groupBy(\"plot_id\")\n",
    "        .agg(F.collect_set(\"species_id\").alias(\"species_ids\"))\n",
    "    )\n",
    "    # Convert the set of species_ids to a formatted string enclosed in single square brackets\n",
    "    final_df = final_df.withColumn(\n",
    "        \"species_ids\",\n",
    "        F.concat(F.lit(\"[\"), F.concat_ws(\", \", \"species_ids\"), F.lit(\"]\")),\n",
    "    )\n",
    "    return final_df.cache()\n",
    "\n",
    "\n",
    "def write_cvs_to_gcs(df, file_name: str = \"dsgt_run\"):\n",
    "    # Convert Spark DataFrame to Pandas DataFrame\n",
    "    sorted_final_df = df.orderBy(\"plot_id\")\n",
    "    final_pandas_df = sorted_final_df.toPandas()\n",
    "\n",
    "    # Export to CSV with the specified format\n",
    "    output_dir = f\"{default_root_dir}/experiments/{file_name}.csv\"\n",
    "    final_pandas_df.to_csv(output_dir, sep=\";\", index=False, quoting=csv.QUOTE_NONE)"
   ]
  },
  {
   "cell_type": "code",
   "execution_count": 11,
   "metadata": {},
   "outputs": [
    {
     "name": "stderr",
     "output_type": "stream",
     "text": [
      "[Stage 30:======================================================> (49 + 1) / 50]\r"
     ]
    },
    {
     "name": "stdout",
     "output_type": "stream",
     "text": [
      "+--------------------+--------------------------------------------------+\n",
      "|             plot_id|                                       species_ids|\n",
      "+--------------------+--------------------------------------------------+\n",
      "|CBN-PdlC-A1-20160705|[1392608, 1392561, 1394911, 1556096, 1392535, 1...|\n",
      "|CBN-PdlC-A1-20170906|[1392608, 1392561, 1529289, 1392534, 1412857, 1...|\n",
      "|CBN-PdlC-A1-20190812|[1392608, 1394438, 1395807, 1743159, 1359835, 1...|\n",
      "|CBN-PdlC-A1-20200629|[1355967, 1701831, 1373840, 1738847, 1361820, 1...|\n",
      "|CBN-PdlC-A2-20130903|[1397468, 1394322, 1396144, 1395807, 1391079, 1...|\n",
      "|CBN-PdlC-A2-20140721|              [1395944, 1395807, 1360910, 1362471]|\n",
      "|CBN-PdlC-A2-20140901|[1395944, 1390929, 1609716, 1359835, 1361585, 1...|\n",
      "|CBN-PdlC-A2-20160705|[1395944, 1395807, 1394911, 1355992, 1392669, 1...|\n",
      "|CBN-PdlC-A2-20160726|     [1393200, 1396144, 1395944, 1395807, 1389597]|\n",
      "|CBN-PdlC-A2-20180723|[1393200, 1390674, 1395807, 1394366, 1394911, 1...|\n",
      "+--------------------+--------------------------------------------------+\n",
      "only showing top 10 rows\n",
      "\n"
     ]
    },
    {
     "name": "stderr",
     "output_type": "stream",
     "text": [
      "                                                                                \r"
     ]
    }
   ],
   "source": [
    "# prepare dataframe for submission\n",
    "final_df = prepare_grid_dataframe_submission(\n",
    "    result_df=result_df,\n",
    "    filtered_df=filtered_df,\n",
    ")\n",
    "final_df.show(n=10, truncate=50)"
   ]
  },
  {
   "cell_type": "code",
   "execution_count": 12,
   "metadata": {},
   "outputs": [],
   "source": [
    "# write CSV file to GCS\n",
    "# write_cvs_to_gcs(final_df=final_df)"
   ]
  },
  {
   "cell_type": "markdown",
   "metadata": {},
   "source": [
    "### top k probabilities"
   ]
  },
  {
   "cell_type": "code",
   "execution_count": 13,
   "metadata": {},
   "outputs": [],
   "source": [
    "# get subset of data\n",
    "limit_test_df = test_df.limit(10).cache()"
   ]
  },
  {
   "cell_type": "code",
   "execution_count": 14,
   "metadata": {},
   "outputs": [],
   "source": [
    "import torch\n",
    "import numpy as np\n",
    "from pyspark.sql.types import (\n",
    "    ArrayType,\n",
    "    StructType,\n",
    "    StructField,\n",
    "    LongType,\n",
    "    FloatType,\n",
    ")\n",
    "from pyspark.sql.functions import pandas_udf"
   ]
  },
  {
   "cell_type": "code",
   "execution_count": 54,
   "metadata": {},
   "outputs": [
    {
     "name": "stdout",
     "output_type": "stream",
     "text": [
      "species id count: 4797\n"
     ]
    }
   ],
   "source": [
    "species_id_list = filtered_df.select(\"species_id\").distinct().collect()\n",
    "species_ids = sorted([row[\"species_id\"] for row in species_id_list])\n",
    "species_id_dict = {idx: species_id for idx, species_id in enumerate(species_ids)}\n",
    "print(f\"species id count: {len(species_id_dict)}\")"
   ]
  },
  {
   "cell_type": "code",
   "execution_count": 55,
   "metadata": {},
   "outputs": [],
   "source": [
    "num_features = 768\n",
    "num_classes = 4797  # total number of plant species\n",
    "local_directory = \"/mnt/data/models/pretrained_models\"\n",
    "class_mapping_file = f\"{local_directory}/class_mapping.txt\"\n",
    "# Model\n",
    "device = torch.device(\"cuda\" if torch.cuda.is_available() else \"cpu\")\n",
    "# Get model\n",
    "model = load_model_from_gcs(num_features=num_features, num_classes=num_classes)\n",
    "model.eval()\n",
    "# Broadcast the model to send to all executors\n",
    "sc = SparkContext.getOrCreate()\n",
    "broadcast_model = sc.broadcast(model)\n",
    "sql_statement = \"SELECT image_name, patch_number, predictions FROM __THIS__\"\n",
    "\n",
    "\n",
    "def load_model_from_gcs(num_features: int, num_classes: int):\n",
    "    bucket_name = \"dsgt-clef-plantclef-2024\"\n",
    "    relative_path = default_root_dir.split(f\"{bucket_name}/\")[-1]\n",
    "    path_in_bucket = f\"{relative_path}/checkpoints/last.ckpt\"\n",
    "    client = storage.Client()\n",
    "    bucket = client.bucket(bucket_name)\n",
    "    blob = bucket.blob(path_in_bucket)\n",
    "    blob.download_to_filename(\"last.ckpt\")\n",
    "    checkpoint = torch.load(\"last.ckpt\", map_location=torch.device(\"cpu\"))\n",
    "\n",
    "    # Instantiate the model first\n",
    "    model = LinearClassifier(num_features, num_classes)\n",
    "\n",
    "    # Adjust the state_dict if necessary\n",
    "    state_dict = checkpoint[\"state_dict\"]\n",
    "\n",
    "    # Load the state dictionary\n",
    "    load_result = model.load_state_dict(state_dict, strict=False)\n",
    "\n",
    "    if load_result.missing_keys or load_result.unexpected_keys:\n",
    "        print(\"Warning: There were missing or unexpected keys during model loading\")\n",
    "        print(\"Missing keys:\", load_result.missing_keys)\n",
    "        print(\"Unexpected keys:\", load_result.unexpected_keys)\n",
    "\n",
    "    return model\n",
    "\n",
    "\n",
    "def load_class_mapping():\n",
    "    with open(class_mapping_file) as f:\n",
    "        class_index_to_class_name = {i: line.strip() for i, line in enumerate(f)}\n",
    "    return class_index_to_class_name\n",
    "\n",
    "\n",
    "@pandas_udf(\n",
    "    ArrayType(\n",
    "        StructType(\n",
    "            [\n",
    "                StructField(\"species_id\", LongType(), True),\n",
    "                StructField(\"probability\", FloatType(), True),\n",
    "            ]\n",
    "        )\n",
    "    )\n",
    ")\n",
    "def make_predict_udf(embedding_series):\n",
    "    cid_to_spid = load_class_mapping()\n",
    "    limit_logits = 5\n",
    "    top_k_proba = 5\n",
    "\n",
    "    def predict(embedding_series):\n",
    "        # Convert the list of numpy arrays to a single numpy array\n",
    "        embeddings_array = np.array(list(embedding_series))\n",
    "        # Convert the numpy array to a PyTorch tensor\n",
    "        embeddings_tensor = torch.tensor(\n",
    "            embeddings_array, dtype=torch.float32\n",
    "        ).unsqueeze(0)\n",
    "        # Make predictions\n",
    "        with torch.no_grad():\n",
    "            outputs = model(embeddings_tensor)\n",
    "            probabilities = torch.softmax(outputs, dim=1) * 100\n",
    "            top_probs, top_indices = torch.topk(probabilities, k=top_k_proba, dim=1)\n",
    "            top_probs = top_probs.cpu().numpy()\n",
    "            top_indices = top_indices.cpu().numpy()\n",
    "\n",
    "            results = []\n",
    "            for i in range(int(top_probs.shape[0])):\n",
    "                result = [\n",
    "                    {\n",
    "                        \"species_id\": int(species_id_dict.get(int(index), -1)),\n",
    "                        \"probability\": float(round(prob, 6)),\n",
    "                    }\n",
    "                    for index, prob in zip(top_indices[i], top_probs[i])\n",
    "                ]\n",
    "                results.append(result)\n",
    "\n",
    "        # Flatten the list of lists\n",
    "        flattened_results = [item for sublist in results for item in sublist]\n",
    "        # Sort by score in descending order\n",
    "        sorted_results = sorted(flattened_results, key=lambda x: -x[\"probability\"])\n",
    "        return sorted_results[:limit_logits]\n",
    "\n",
    "    return embedding_series.apply(predict)"
   ]
  },
  {
   "cell_type": "code",
   "execution_count": 56,
   "metadata": {},
   "outputs": [],
   "source": [
    "# get predictions on test_df\n",
    "grid_result_df = test_df.withColumn(\n",
    "    \"predictions\", make_predict_udf(test_df[\"cls_embedding\"])\n",
    ").cache()"
   ]
  },
  {
   "cell_type": "code",
   "execution_count": 57,
   "metadata": {},
   "outputs": [
    {
     "name": "stderr",
     "output_type": "stream",
     "text": [
      "[Stage 111:>                                                      (0 + 4) / 151]\r"
     ]
    },
    {
     "name": "stderr",
     "output_type": "stream",
     "text": [
      "[Stage 111:====================================================>(150 + 1) / 151]\r"
     ]
    },
    {
     "name": "stdout",
     "output_type": "stream",
     "text": [
      "+------------------------+------------+--------------------------------------------------+---------+--------------------------------------------------+\n",
      "|              image_name|patch_number|                                     cls_embedding|sample_id|                                       predictions|\n",
      "+------------------------+------------+--------------------------------------------------+---------+--------------------------------------------------+\n",
      "|CBN-PdlC-A1-20130807.jpg|           0|[-0.0986969, 1.3777568, 0.050541468, -0.2633565...|        4|[{1396736, 51.744686}, {1393635, 43.78267}, {17...|\n",
      "|CBN-PdlC-A1-20130807.jpg|           1|[0.28588018, 1.14535, -1.9985845, -0.28868702, ...|        4|[{1392569, 99.999}, {1396736, 6.08E-4}, {139363...|\n",
      "|CBN-PdlC-A1-20130807.jpg|           2|[0.009646882, 0.67857593, -1.010919, -0.3333199...|        4|[{1392569, 100.0}, {1393792, 0.0}, {1396736, 0....|\n",
      "|CBN-PdlC-A1-20130807.jpg|           3|[0.53748274, 0.93665814, -0.38700807, -0.979181...|        4|[{1395287, 99.96982}, {1360217, 0.029485}, {171...|\n",
      "|CBN-PdlC-A1-20130807.jpg|           4|[0.5349963, 0.56628793, -0.26641238, -0.0379398...|        4|[{1395287, 99.96761}, {1396736, 0.032388}, {139...|\n",
      "|CBN-PdlC-A1-20130807.jpg|           5|[-0.03167449, 0.50434786, -1.0075089, 0.7306768...|        4|[{1395287, 99.91014}, {1649856, 0.071149}, {139...|\n",
      "|CBN-PdlC-A1-20130807.jpg|           6|[0.015747203, 1.5531191, 0.04302986, 0.45570028...|        4|[{1400052, 99.80023}, {1397276, 0.153282}, {139...|\n",
      "|CBN-PdlC-A1-20130807.jpg|           7|[0.52394265, 0.58447725, -0.23023947, 0.0034517...|        4|[{1400052, 99.59887}, {1418584, 0.22057}, {1397...|\n",
      "|CBN-PdlC-A1-20130807.jpg|           8|[-0.6201346, 1.2587961, -0.72532475, 1.0231664,...|        4|[{1358641, 100.0}, {1396138, 0.0}, {1363469, 0....|\n",
      "|CBN-PdlC-A1-20130903.jpg|           0|[-1.3679489, 0.72653866, -1.9505574, -0.8700211...|        2|[{1478279, 99.999954}, {1361660, 4.6E-5}, {1392...|\n",
      "+------------------------+------------+--------------------------------------------------+---------+--------------------------------------------------+\n",
      "only showing top 10 rows\n",
      "\n"
     ]
    },
    {
     "name": "stderr",
     "output_type": "stream",
     "text": [
      "                                                                                \r"
     ]
    }
   ],
   "source": [
    "grid_result_df.orderBy(\"image_name\", \"patch_number\").show(n=10, truncate=50)"
   ]
  },
  {
   "cell_type": "code",
   "execution_count": 58,
   "metadata": {},
   "outputs": [
    {
     "name": "stdout",
     "output_type": "stream",
     "text": [
      "[ Row(species_id=1392569, probability=100.0),\n",
      "  Row(species_id=1363259, probability=0.0),\n",
      "  Row(species_id=1395097, probability=0.0),\n",
      "  Row(species_id=1649444, probability=0.0),\n",
      "  Row(species_id=1392023, probability=0.0)]\n"
     ]
    }
   ],
   "source": [
    "# get row from DataFrame with the predictions\n",
    "example_row = grid_result_df.select(\"predictions\").first()\n",
    "dino_logits = example_row[\"predictions\"]\n",
    "\n",
    "# To visualize the content of the first row\n",
    "import pprint\n",
    "\n",
    "pp = pprint.PrettyPrinter(indent=2)\n",
    "pp.pprint(dino_logits)"
   ]
  },
  {
   "cell_type": "code",
   "execution_count": 59,
   "metadata": {},
   "outputs": [
    {
     "name": "stderr",
     "output_type": "stream",
     "text": [
      "[Stage 114:==============================>                       (84 + 4) / 151]\r"
     ]
    },
    {
     "name": "stderr",
     "output_type": "stream",
     "text": [
      "[Stage 116:============================>                            (1 + 1) / 2]\r"
     ]
    },
    {
     "name": "stdout",
     "output_type": "stream",
     "text": [
      "+------------------------+--------------------------------------------------+\n",
      "|              image_name|                                sorted_predictions|\n",
      "+------------------------+--------------------------------------------------+\n",
      "|CBN-PdlC-A1-20130807.jpg|[{1392569, 100.0}, {1358641, 100.0}, {1392569, ...|\n",
      "|CBN-PdlC-A1-20130903.jpg|[{1358641, 100.0}, {1478279, 99.999954}, {13925...|\n",
      "|CBN-PdlC-A1-20140721.jpg|[{1395287, 99.999985}, {1358641, 99.99691}, {13...|\n",
      "|CBN-PdlC-A1-20140811.jpg|[{1392569, 100.0}, {1392569, 99.99998}, {139528...|\n",
      "|CBN-PdlC-A1-20140901.jpg|[{1358641, 100.0}, {1395287, 99.99962}, {141838...|\n",
      "|CBN-PdlC-A1-20150701.jpg|[{1358641, 100.0}, {1418584, 99.999275}, {14185...|\n",
      "|CBN-PdlC-A1-20150720.jpg|[{1392569, 100.0}, {1358641, 100.0}, {1395287, ...|\n",
      "|CBN-PdlC-A1-20150831.jpg|[{1395287, 100.0}, {1358641, 100.0}, {1395287, ...|\n",
      "|CBN-PdlC-A1-20160705.jpg|[{1395287, 100.0}, {1358641, 100.0}, {1396736, ...|\n",
      "|CBN-PdlC-A1-20160726.jpg|[{1358641, 100.0}, {1395287, 99.999954}, {13950...|\n",
      "+------------------------+--------------------------------------------------+\n",
      "only showing top 10 rows\n",
      "\n"
     ]
    },
    {
     "name": "stderr",
     "output_type": "stream",
     "text": [
      "                                                                                \r"
     ]
    }
   ],
   "source": [
    "import itertools\n",
    "\n",
    "grid_grouped_df = grid_result_df.groupBy(\"image_name\").agg(\n",
    "    F.collect_list(\"predictions\").alias(\"all_predictions\")\n",
    ")\n",
    "\n",
    "\n",
    "def flatten_and_sort(predictions):\n",
    "    # Flatten the list of lists\n",
    "    flat_list = list(itertools.chain(*predictions))\n",
    "    # Sort the list by probability in desc order\n",
    "    sorted_list = sorted(flat_list, key=lambda x: -x[\"probability\"])\n",
    "    return sorted_list\n",
    "\n",
    "\n",
    "# register UDF\n",
    "flatten_sort_udf = F.udf(\n",
    "    flatten_and_sort,\n",
    "    ArrayType(\n",
    "        StructType(\n",
    "            [\n",
    "                StructField(\"species_idf\", LongType(), True),\n",
    "                StructField(\"probability\", FloatType(), True),\n",
    "            ]\n",
    "        )\n",
    "    ),\n",
    ")\n",
    "\n",
    "# apply UDF\n",
    "grid_sorted_df = grid_grouped_df.withColumn(\n",
    "    \"sorted_predictions\", flatten_sort_udf(F.col(\"all_predictions\"))\n",
    ")\n",
    "grid_sorted_df = grid_sorted_df.select(\"image_name\", \"sorted_predictions\")\n",
    "grid_sorted_df.orderBy(\"image_name\").show(n=10, truncate=50)"
   ]
  },
  {
   "cell_type": "code",
   "execution_count": 62,
   "metadata": {},
   "outputs": [
    {
     "name": "stderr",
     "output_type": "stream",
     "text": [
      "[Stage 128:============================================>        (128 + 5) / 151]\r"
     ]
    },
    {
     "name": "stdout",
     "output_type": "stream",
     "text": [
      "+--------------------+---------------------------------------------+\n",
      "|plot_id             |species_ids                                  |\n",
      "+--------------------+---------------------------------------------+\n",
      "|CBN-PdlC-A1-20130807|[1392569, 1395287, 1358641]                  |\n",
      "|CBN-PdlC-A1-20140721|[1358641, 1400052, 1395287]                  |\n",
      "|CBN-PdlC-A1-20140901|[1396225, 1418380, 1412238, 1358641, 1395287]|\n",
      "|CBN-PdlC-A1-20150720|[1392569, 1393635, 1395287, 1358641]         |\n",
      "|CBN-PdlC-A1-20160705|[1396736, 1358641, 1412238, 1395287]         |\n",
      "|CBN-PdlC-A1-20160726|[1411968, 1358641, 1395097, 1395287]         |\n",
      "|CBN-PdlC-A1-20190812|[1360744, 1358641, 1392569, 1395287]         |\n",
      "|CBN-PdlC-A2-20130903|[1718504, 1392819, 1400182, 1395287, 1392569]|\n",
      "|CBN-PdlC-A2-20190909|[1392569, 1743938, 1390691, 1395287]         |\n",
      "|CBN-PdlC-A3-20130903|[1358641, 1392569, 1395287]                  |\n",
      "|CBN-PdlC-A3-20140721|[1392569, 1358641]                           |\n",
      "|CBN-PdlC-A3-20140901|[1743938, 1720902, 1395287]                  |\n",
      "|CBN-PdlC-A3-20160705|[1392023, 1394332, 1395287]                  |\n",
      "|CBN-PdlC-A3-20170816|[1478279, 1392569, 1390623, 1395287]         |\n",
      "|CBN-PdlC-A3-20180702|[1397471, 1390623, 1412238, 1395287]         |\n",
      "|CBN-PdlC-A3-20180815|[1363257, 1741819, 1396225, 1395287]         |\n",
      "|CBN-PdlC-A3-20190722|[1358641, 1392569, 1396225, 1395287]         |\n",
      "|CBN-PdlC-A3-20190909|[1392569, 1358641, 1396225, 1395287]         |\n",
      "|CBN-PdlC-A3-20200629|[1393253, 1395982, 1393657, 1363994, 1555231]|\n",
      "|CBN-PdlC-A4-20140811|[1358641, 1363138, 1392569, 1363259]         |\n",
      "+--------------------+---------------------------------------------+\n",
      "only showing top 20 rows\n",
      "\n"
     ]
    },
    {
     "name": "stderr",
     "output_type": "stream",
     "text": [
      "                                                                                \r"
     ]
    }
   ],
   "source": [
    "from pyspark.sql.types import ArrayType, IntegerType\n",
    "\n",
    "\n",
    "# Define the function to extract top k species IDs\n",
    "def get_top_k_species(predictions, k=5):\n",
    "    # Get the top k predictions\n",
    "    top_k = predictions[:k]\n",
    "    # Extract species_ids and convert to a set to remove duplicates\n",
    "    species_ids_set = {entry[\"species_id\"] for entry in top_k}\n",
    "    # Convert set to a list of integers\n",
    "    return list(species_ids_set)\n",
    "\n",
    "\n",
    "# Define a closure that captures the value of k\n",
    "def get_top_k_species_udf(k):\n",
    "    return F.udf(lambda preds: get_top_k_species(preds, k), ArrayType(IntegerType()))\n",
    "\n",
    "\n",
    "# Apply the UDF to get top k species IDs\n",
    "top_k_proba = 5  # Number of top species to extract\n",
    "grid_final_df = grid_sorted_df.withColumn(\n",
    "    \"species_ids\", get_top_k_species_udf(top_k_proba)(F.col(\"sorted_predictions\"))\n",
    ")\n",
    "\n",
    "# Convert the set of species_ids to a formatted string\n",
    "grid_final_df = (\n",
    "    grid_final_df.withColumn(\"plot_id\", F.regexp_replace(\"image_name\", \"\\\\.jpg$\", \"\"))\n",
    "    .withColumn(\n",
    "        \"species_ids\",\n",
    "        F.concat(F.lit(\"[\"), F.concat_ws(\", \", \"species_ids\"), F.lit(\"]\")),\n",
    "    )\n",
    "    .select(\"plot_id\", \"species_ids\")\n",
    ")\n",
    "\n",
    "# Show the final result\n",
    "grid_final_df.show(truncate=False)"
   ]
  },
  {
   "cell_type": "code",
   "execution_count": 61,
   "metadata": {},
   "outputs": [
    {
     "name": "stderr",
     "output_type": "stream",
     "text": [
      "                                                                                \r"
     ]
    }
   ],
   "source": [
    "# write CSV file to GCS\n",
    "write_cvs_to_gcs(final_df=grid_final_df, file_name=\"dsgt_grid_top_5_species_run\")"
   ]
  },
  {
   "cell_type": "code",
   "execution_count": 64,
   "metadata": {},
   "outputs": [
    {
     "name": "stderr",
     "output_type": "stream",
     "text": [
      "[Stage 136:==================================================>  (143 + 5) / 151]\r"
     ]
    },
    {
     "name": "stdout",
     "output_type": "stream",
     "text": [
      "+--------------------+---------------------------------------------+\n",
      "|plot_id             |species_ids                                  |\n",
      "+--------------------+---------------------------------------------+\n",
      "|CBN-PdlC-A1-20130807|[1392569, 1395287, 1358641]                  |\n",
      "|CBN-PdlC-A1-20130903|[1478279, 1392654, 1358641, 1395287, 1392569]|\n",
      "|CBN-PdlC-A1-20140721|[1358641, 1400052, 1395287]                  |\n",
      "|CBN-PdlC-A1-20140811|[1392569, 1358641, 1395287]                  |\n",
      "|CBN-PdlC-A1-20140901|[1396225, 1418380, 1412238, 1358641, 1395287]|\n",
      "+--------------------+---------------------------------------------+\n",
      "only showing top 5 rows\n",
      "\n",
      "+--------------------+------------------------------------------------------------------------+\n",
      "|plot_id             |species_ids                                                             |\n",
      "+--------------------+------------------------------------------------------------------------+\n",
      "|CBN-PdlC-A1-20130807|[1392608, 1393836, 1395807, 1394911, 1412857]                           |\n",
      "|CBN-PdlC-A1-20130903|[1392608, 1392561, 1529116, 1395807, 1396439, 1556096, 1737701, 1412857]|\n",
      "|CBN-PdlC-A1-20140721|[1392608, 1392565, 1393836, 1556096, 1412857, 1394282]                  |\n",
      "|CBN-PdlC-A1-20140811|[1392608, 1393836, 1395807, 1396439, 1398310, 1412857]                  |\n",
      "|CBN-PdlC-A1-20140901|[1392608, 1391331, 1393836, 1556096, 1361382, 1412857]                  |\n",
      "+--------------------+------------------------------------------------------------------------+\n",
      "only showing top 5 rows\n",
      "\n"
     ]
    },
    {
     "name": "stderr",
     "output_type": "stream",
     "text": [
      "                                                                                \r"
     ]
    }
   ],
   "source": [
    "grid_final_df.orderBy(\"plot_id\").show(n=5, truncate=False)\n",
    "final_df.orderBy(\"plot_id\").show(n=5, truncate=False)"
   ]
  },
  {
   "cell_type": "code",
   "execution_count": 25,
   "metadata": {},
   "outputs": [
    {
     "name": "stdout",
     "output_type": "stream",
     "text": [
      "root\n",
      " |-- plot_id: string (nullable = true)\n",
      " |-- species_ids: string (nullable = false)\n",
      "\n",
      "root\n",
      " |-- plot_id: string (nullable = true)\n",
      " |-- species_ids: string (nullable = false)\n",
      "\n"
     ]
    }
   ],
   "source": [
    "final_df.printSchema()\n",
    "grid_final_df.printSchema()"
   ]
  },
  {
   "cell_type": "code",
   "execution_count": 35,
   "metadata": {},
   "outputs": [
    {
     "name": "stderr",
     "output_type": "stream",
     "text": [
      "                                                                                \r"
     ]
    },
    {
     "name": "stdout",
     "output_type": "stream",
     "text": [
      "+----------+--------------------------------------------+--------------------------------------------------+-----+\n",
      "|species_id|                                  image_name|                                     cls_embedding|index|\n",
      "+----------+--------------------------------------------+--------------------------------------------------+-----+\n",
      "|   1390691|5ddad155a99ff9b22355b940c100ee588fd73587.jpg|[1.2776474, 1.4595255, 1.7950346, 2.156743, 2.8...|  893|\n",
      "|   1360260|ea74d65858ceb7d55981560684234b826a7645e2.jpg|[-1.9118708, 3.0542357, -3.143496, 1.4037858, 0...|   84|\n",
      "|   1390699|86eb8b2e1a7b6a6d4bdd7b49a1e4bd090b867cf5.jpg|[0.57074785, 1.7904518, -1.0096772, 1.4558841, ...|  904|\n",
      "|   1396486|4dd8c6a10041b1c028823d667316679da4c457fd.jpg|[0.85863805, -2.9571414, 1.3469055, -0.8254508,...| 1528|\n",
      "|   1356608|1d5d139f575031bd13940c1ef10bf4e73dac6d41.jpg|[-0.4914153, -1.3314899, 0.33835393, -0.6760831...|   63|\n",
      "|   1360185|c4f245cd59fa8751cdfa8fe83bcd757e2bd0c44b.jpg|[-0.9461619, 1.1640061, -1.2006412, 3.3531647, ...|  512|\n",
      "|   1361501|311c0b8b7b1099d66ddb1f18d6ccce453fbb426a.jpg|[0.08821191, -0.13073394, -0.27459902, -1.20305...|  565|\n",
      "|   1722520|f5ecc80fac67f356560ddfd5271e2f614c812c57.jpg|[-2.2246609, -0.2623699, 0.2403758, 1.4156839, ...|  436|\n",
      "|   1360260|2677f0d22bc254e571409bd2bb971afbb10e8861.jpg|[-0.03381222, 0.20725085, -2.415887, 1.6497012,...|   84|\n",
      "|   1418618|76dc6cfa5dfa388faf471fedea4e11385864afbf.jpg|[0.044577032, -0.29427558, -1.3352959, 0.506919...| 3433|\n",
      "+----------+--------------------------------------------+--------------------------------------------------+-----+\n",
      "only showing top 10 rows\n",
      "\n"
     ]
    }
   ],
   "source": [
    "filtered_df.show(n=10, truncate=50)"
   ]
  },
  {
   "cell_type": "code",
   "execution_count": null,
   "metadata": {},
   "outputs": [],
   "source": []
  },
  {
   "cell_type": "code",
   "execution_count": null,
   "metadata": {},
   "outputs": [],
   "source": []
  }
 ],
 "metadata": {
  "kernelspec": {
   "display_name": "Python 3",
   "language": "python",
   "name": "python3"
  },
  "language_info": {
   "codemirror_mode": {
    "name": "ipython",
    "version": 3
   },
   "file_extension": ".py",
   "mimetype": "text/x-python",
   "name": "python",
   "nbconvert_exporter": "python",
   "pygments_lexer": "ipython3",
   "version": "3.10.12"
  }
 },
 "nbformat": 4,
 "nbformat_minor": 2
}
