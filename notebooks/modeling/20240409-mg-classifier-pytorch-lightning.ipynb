{
 "cells": [
  {
   "cell_type": "markdown",
   "metadata": {},
   "source": [
    "# Classification with pyspark and pytorch lightning\n",
    "\n",
    "> **Databricks Notebook:** [End-to-end distributed training with TorchDistributor](https://docs.databricks.com/en/_extras/notebooks/source/deep-learning/torch-distributor-notebook.html)"
   ]
  },
  {
   "cell_type": "code",
   "execution_count": 1,
   "metadata": {},
   "outputs": [],
   "source": [
    "%load_ext autoreload\n",
    "%autoreload 2"
   ]
  },
  {
   "cell_type": "code",
   "execution_count": 2,
   "metadata": {},
   "outputs": [
    {
     "name": "stderr",
     "output_type": "stream",
     "text": [
      "/usr/local/lib/python3.10/dist-packages/tqdm/auto.py:21: TqdmWarning: IProgress not found. Please update jupyter and ipywidgets. See https://ipywidgets.readthedocs.io/en/stable/user_install.html\n",
      "  from .autonotebook import tqdm as notebook_tqdm\n",
      "Setting default log level to \"WARN\".\n",
      "To adjust logging level use sc.setLogLevel(newLevel). For SparkR, use setLogLevel(newLevel).\n",
      "24/04/14 23:38:04 WARN NativeCodeLoader: Unable to load native-hadoop library for your platform... using builtin-java classes where applicable\n",
      "24/04/14 23:38:04 WARN SparkConf: Note that spark.local.dir will be overridden by the value set by the cluster manager (via SPARK_LOCAL_DIRS in mesos/standalone/kubernetes and LOCAL_DIRS in YARN).\n"
     ]
    },
    {
     "data": {
      "text/html": [
       "\n",
       "            <div>\n",
       "                <p><b>SparkSession - in-memory</b></p>\n",
       "                \n",
       "        <div>\n",
       "            <p><b>SparkContext</b></p>\n",
       "\n",
       "            <p><a href=\"http://big-disk-dev.us-central1-b.c.dsgt-clef-2024.internal:4040\">Spark UI</a></p>\n",
       "\n",
       "            <dl>\n",
       "              <dt>Version</dt>\n",
       "                <dd><code>v3.5.1</code></dd>\n",
       "              <dt>Master</dt>\n",
       "                <dd><code>local[*]</code></dd>\n",
       "              <dt>AppName</dt>\n",
       "                <dd><code>plantclef</code></dd>\n",
       "            </dl>\n",
       "        </div>\n",
       "        \n",
       "            </div>\n",
       "        "
      ],
      "text/plain": [
       "<pyspark.sql.session.SparkSession at 0x7674a93b2560>"
      ]
     },
     "metadata": {},
     "output_type": "display_data"
    }
   ],
   "source": [
    "import os\n",
    "import datetime\n",
    "from pathlib import Path\n",
    "from plantclef.utils import get_spark\n",
    "from pyspark.sql import functions as F\n",
    "from pytorch_lightning.callbacks import ModelCheckpoint\n",
    "\n",
    "\n",
    "spark = get_spark()\n",
    "display(spark)"
   ]
  },
  {
   "cell_type": "code",
   "execution_count": 3,
   "metadata": {},
   "outputs": [
    {
     "name": "stderr",
     "output_type": "stream",
     "text": [
      "                                                                                \r"
     ]
    },
    {
     "name": "stdout",
     "output_type": "stream",
     "text": [
      "+--------------------------------------------+----------+--------------------------------------------------+\n",
      "|                                  image_name|species_id|                                     dct_embedding|\n",
      "+--------------------------------------------+----------+--------------------------------------------------+\n",
      "|170e88ca9af457daa1038092479b251c61c64f7d.jpg|   1742956|[-20648.51, 2133.689, -2555.3125, 14820.57, 685...|\n",
      "|c24a2d8646f5bc7112a39908bd2f6c45bf066a71.jpg|   1356834|[-25395.82, -12564.387, 24736.02, 20483.8, 2115...|\n",
      "|e1f68e5f05618921969aee2575de20e537e6d66b.jpg|   1563754|[-26178.633, -7670.404, -22552.29, -6563.006, 8...|\n",
      "|b0433cd6968b57d52e5c25dc45a28e674a25e61e.jpg|   1367432|[-23662.764, -6773.8213, -8283.518, 3769.6064, ...|\n",
      "|96478a0fe20a41e755b0c8d798690f2c2b7c115f.jpg|   1389010|[-22182.172, -19444.006, 23355.23, 7042.8604, -...|\n",
      "+--------------------------------------------+----------+--------------------------------------------------+\n",
      "only showing top 5 rows\n",
      "\n"
     ]
    }
   ],
   "source": [
    "# Path and dataset names\n",
    "gcs_path = \"gs://dsgt-clef-plantclef-2024/data/process\"\n",
    "dct_emb_train = \"training_cropped_resized_v2/dino_dct/data\"\n",
    "\n",
    "# Define the GCS path to the embedding files\n",
    "dct_gcs_path = f\"{gcs_path}/{dct_emb_train}\"\n",
    "\n",
    "# Read the Parquet file into a DataFrame\n",
    "dct_df = spark.read.parquet(dct_gcs_path)\n",
    "\n",
    "# Show the data\n",
    "dct_df.show(n=5, truncate=50)"
   ]
  },
  {
   "cell_type": "markdown",
   "metadata": {},
   "source": [
    "### convert to a PyTorch dataset"
   ]
  },
  {
   "cell_type": "code",
   "execution_count": 4,
   "metadata": {},
   "outputs": [],
   "source": [
    "import torch\n",
    "from torch.utils.data import Dataset, DataLoader\n",
    "import pytorch_lightning as pl\n",
    "from torch import nn\n",
    "from torchmetrics.classification import (\n",
    "    MulticlassAccuracy,\n",
    "    MulticlassF1Score,\n",
    "    MulticlassPrecision,\n",
    "    MulticlassRecall,\n",
    ")\n",
    "\n",
    "\n",
    "class EmbeddingDataset(Dataset):\n",
    "    def __init__(self, spark_df):\n",
    "        self.embeddings = [x[\"dct_embedding\"] for x in spark_df.collect()]\n",
    "        self.labels = [x[\"index\"] for x in spark_df.collect()]\n",
    "\n",
    "    def __len__(self):\n",
    "        return len(self.labels)\n",
    "\n",
    "    def __getitem__(self, index):\n",
    "        embeddings = torch.tensor(self.embeddings[index], dtype=torch.float)\n",
    "        labels = torch.tensor(self.labels[index], dtype=torch.long)\n",
    "        return embeddings, labels\n",
    "\n",
    "\n",
    "class MultiClassClassifier(pl.LightningModule):\n",
    "    def __init__(self, num_features, num_classes):\n",
    "        super().__init__()\n",
    "        self.save_hyperparameters()  # Saves hyperparams in the checkpoints\n",
    "        self.layer = nn.Linear(num_features, num_classes)\n",
    "        self.learning_rate = 0.002\n",
    "        self.accuracy = MulticlassAccuracy(num_classes=num_classes, average=\"weighted\")\n",
    "        self.f1_score = MulticlassF1Score(num_classes=num_classes, average=\"weighted\")\n",
    "        self.precision = MulticlassPrecision(\n",
    "            num_classes=num_classes, average=\"weighted\"\n",
    "        )\n",
    "        self.recall = MulticlassRecall(num_classes=num_classes, average=\"weighted\")\n",
    "\n",
    "    def forward(self, x):\n",
    "        return torch.log_softmax(self.layer(x), dim=1)\n",
    "\n",
    "    def training_step(self, batch, batch_idx):\n",
    "        x, y = batch\n",
    "        y_hat = self(x)\n",
    "        # Use negative log likelihood loss for multiclass classification\n",
    "        loss = torch.nn.functional.nll_loss(y_hat, y)\n",
    "        self.log(\"train_loss\", loss)\n",
    "        return loss\n",
    "\n",
    "    def validation_step(self, batch, batch_idx):\n",
    "        x, y = batch\n",
    "        y_hat = self(x)\n",
    "        valid_loss = {\"valid_loss\": torch.nn.functional.nll_loss(y_hat, y)}\n",
    "        # Update metrics\n",
    "        self.log(\n",
    "            \"valid_accuracy\", self.accuracy(y_hat, y), on_step=False, on_epoch=True\n",
    "        )\n",
    "        self.log(\"valid_f1\", self.f1_score(y_hat, y), on_step=False, on_epoch=True)\n",
    "        self.log(\n",
    "            \"valid_precision\", self.precision(y_hat, y), on_step=False, on_epoch=True\n",
    "        )\n",
    "        self.log(\"valid_recall\", self.recall(y_hat, y), on_step=False, on_epoch=True)\n",
    "        return valid_loss\n",
    "\n",
    "    def configure_optimizers(self):\n",
    "        return torch.optim.Adam(self.parameters(), lr=self.learning_rate)"
   ]
  },
  {
   "cell_type": "markdown",
   "metadata": {},
   "source": [
    "### prepare subset of data for testing end-to-end pipeline"
   ]
  },
  {
   "cell_type": "code",
   "execution_count": 5,
   "metadata": {},
   "outputs": [],
   "source": [
    "from pyspark.sql import functions as F\n",
    "from pyspark.sql import DataFrame\n",
    "\n",
    "\n",
    "def prepare_species_data(\n",
    "    dct_df: DataFrame,\n",
    "    limit_species: int = None,\n",
    "    species_image_count: int = 100,\n",
    "):\n",
    "    \"\"\"\n",
    "    Prepare species data by filtering, indexing, and joining.\n",
    "\n",
    "    :param dct_df: DataFrame containing species data\n",
    "    :param limit_species: Maximum number of species to include (None means no limit)\n",
    "    :param species_image_count: Minimum number of images per species to include\n",
    "    :return: DataFrame of filtered and indexed species data\n",
    "    \"\"\"\n",
    "    # Aggregate and filter species based on image count\n",
    "    grouped_df = (\n",
    "        dct_df.groupBy(\"species_id\")\n",
    "        .agg(F.count(\"species_id\").alias(\"n\"))\n",
    "        .filter(F.col(\"n\") >= species_image_count)\n",
    "        .orderBy(F.col(\"n\").desc())\n",
    "        .withColumn(\"index\", F.monotonically_increasing_id())\n",
    "    ).drop(\"n\")\n",
    "\n",
    "    # Use broadcast join to optimize smaller DataFrame joining\n",
    "    filtered_dct_df = dct_df.join(F.broadcast(grouped_df), \"species_id\", \"inner\").drop(\n",
    "        \"index\"\n",
    "    )\n",
    "\n",
    "    # Optionally limit the number of species\n",
    "    if limit_species:\n",
    "        limited_grouped_df = (\n",
    "            (\n",
    "                grouped_df.orderBy(F.rand(seed=42))\n",
    "                .limit(limit_species)\n",
    "                .withColumn(\"new_index\", F.monotonically_increasing_id())\n",
    "            )\n",
    "            .drop(\"index\")\n",
    "            .withColumnRenamed(\"new_index\", \"index\")\n",
    "        )\n",
    "\n",
    "        filtered_dct_df = filtered_dct_df.join(\n",
    "            F.broadcast(limited_grouped_df), \"species_id\", \"inner\"\n",
    "        )\n",
    "\n",
    "    return filtered_dct_df"
   ]
  },
  {
   "cell_type": "code",
   "execution_count": 6,
   "metadata": {},
   "outputs": [
    {
     "name": "stderr",
     "output_type": "stream",
     "text": [
      "                                                                                \r"
     ]
    },
    {
     "name": "stdout",
     "output_type": "stream",
     "text": [
      "DF count: 1185\n"
     ]
    },
    {
     "name": "stderr",
     "output_type": "stream",
     "text": [
      "[Stage 27:>                                                         (0 + 1) / 1]\r"
     ]
    },
    {
     "name": "stdout",
     "output_type": "stream",
     "text": [
      "+----------+--------------------+--------------------+-----+\n",
      "|species_id|          image_name|       dct_embedding|index|\n",
      "+----------+--------------------+--------------------+-----+\n",
      "|   1358851|a5a1530acc42ee28a...|[-22140.71, -2232...|    3|\n",
      "|   1392723|76056d8c5c2eabdae...|[-18462.121, -112...|    4|\n",
      "|   1360938|aa65bf7e5cbbea170...|[-27158.367, -183...|    0|\n",
      "|   1392723|ae436ff1f04ca5412...|[-21858.686, -435...|    4|\n",
      "|   1360938|3d922d3fe00d95887...|[-25446.95, -5724...|    0|\n",
      "|   1360299|c914a7f8d83a73727...|[-24541.422, 1324...|    1|\n",
      "|   1360299|5b995de41dc8c507e...|[-26373.861, 1665...|    1|\n",
      "|   1358851|6ceb22e1e2d2a0560...|[-24388.037, -243...|    3|\n",
      "|   1358851|360605951bcdd6843...|[-26956.902, -127...|    3|\n",
      "|   1360938|cc7b5743d897349af...|[-25043.629, -657...|    0|\n",
      "|   1358851|43a7b8a23a79645ce...|[-24329.762, -147...|    3|\n",
      "|   1392723|107d18234ccc4bf99...|[-20970.615, 7978...|    4|\n",
      "|   1358851|ed49aa18677936d8f...|[-17723.512, -340...|    3|\n",
      "|   1357220|d6edbca4549df4075...|[-21597.586, -211...|    2|\n",
      "|   1392723|f456b7eff60ffbf10...|[-27083.182, 4981...|    4|\n",
      "|   1358851|3c737fd20a3fdf737...|[-25762.066, -592...|    3|\n",
      "|   1358851|8548ddf0786c7eaec...|[-20088.328, -128...|    3|\n",
      "|   1357220|f5de017ced47011d2...|[-24193.537, -410...|    2|\n",
      "|   1392723|f8227a441b09908b9...|[-24862.562, 1878...|    4|\n",
      "|   1392723|0b8d7f471332f438e...|[-24259.936, 2109...|    4|\n",
      "+----------+--------------------+--------------------+-----+\n",
      "only showing top 20 rows\n",
      "\n"
     ]
    },
    {
     "name": "stderr",
     "output_type": "stream",
     "text": [
      "                                                                                \r"
     ]
    }
   ],
   "source": [
    "# Params\n",
    "LIMIT_SPECIES = 5\n",
    "SPECIES_IMAGE_COUNT = 100\n",
    "\n",
    "# Call function\n",
    "prepared_df = prepare_species_data(\n",
    "    dct_df, limit_species=LIMIT_SPECIES, species_image_count=SPECIES_IMAGE_COUNT\n",
    ")\n",
    "print(f\"DF count: {prepared_df.count()}\")\n",
    "prepared_df.show()"
   ]
  },
  {
   "cell_type": "markdown",
   "metadata": {},
   "source": [
    "### train/validation split"
   ]
  },
  {
   "cell_type": "code",
   "execution_count": 7,
   "metadata": {},
   "outputs": [
    {
     "name": "stderr",
     "output_type": "stream",
     "text": [
      "                                                                                \r"
     ]
    },
    {
     "name": "stdout",
     "output_type": "stream",
     "text": [
      "train: 938, valid: 247\n"
     ]
    },
    {
     "name": "stderr",
     "output_type": "stream",
     "text": [
      "[Stage 67:=====================================================>  (18 + 1) / 19]\r"
     ]
    },
    {
     "name": "stdout",
     "output_type": "stream",
     "text": [
      "Num classes: 5\n"
     ]
    },
    {
     "name": "stderr",
     "output_type": "stream",
     "text": [
      "                                                                                \r"
     ]
    }
   ],
   "source": [
    "# Perform a train-validation split\n",
    "def train_valid_split(df):\n",
    "    train_df, valid_df = df.randomSplit([0.8, 0.2], seed=42)\n",
    "    return train_df, valid_df\n",
    "\n",
    "\n",
    "# Pass desired DF to function\n",
    "train_df, valid_df = train_valid_split(df=prepared_df)\n",
    "print(f\"train: {train_df.count()}, valid: {valid_df.count()}\")\n",
    "\n",
    "# Init params\n",
    "NUM_CLASSES = int(prepared_df.select(\"species_id\").distinct().count())\n",
    "BATCH_SIZE = 32\n",
    "NUM_EPOCHS = 10\n",
    "print(f\"Num classes: {NUM_CLASSES}\")"
   ]
  },
  {
   "cell_type": "markdown",
   "metadata": {},
   "source": [
    "### prepare DataLoaders"
   ]
  },
  {
   "cell_type": "code",
   "execution_count": null,
   "metadata": {},
   "outputs": [],
   "source": [
    "# Create PyTorch Datasets\n",
    "train_dataset = EmbeddingDataset(spark_df=train_df)\n",
    "valid_dataset = EmbeddingDataset(spark_df=valid_df)\n",
    "\n",
    "# DataLoaders\n",
    "train_dataloader = DataLoader(train_dataset, batch_size=BATCH_SIZE, shuffle=True)\n",
    "valid_dataloader = DataLoader(valid_dataset, batch_size=BATCH_SIZE)"
   ]
  },
  {
   "cell_type": "markdown",
   "metadata": {},
   "source": [
    "### train model"
   ]
  },
  {
   "cell_type": "code",
   "execution_count": null,
   "metadata": {},
   "outputs": [],
   "source": [
    "# Current path\n",
    "curr_dir = Path(os.getcwd())\n",
    "\n",
    "# Setup checkpoint callback\n",
    "checkpoint_callback = ModelCheckpoint(\n",
    "    monitor=\"valid_accuracy\",  # Monitor validation accuracy for improvement\n",
    "    dirpath=curr_dir,  # Directory path for saving checkpoints\n",
    "    filename=\"model-{epoch:02d}-{val_accuracy:.2f}\",\n",
    "    save_top_k=1,  # Save only top 1 model\n",
    "    mode=\"max\",\n",
    ")\n",
    "\n",
    "# model\n",
    "model = MultiClassClassifier(\n",
    "    num_features=64,\n",
    "    num_classes=NUM_CLASSES,\n",
    ")\n",
    "\n",
    "# Train model\n",
    "trainer = pl.Trainer(max_epochs=NUM_EPOCHS, callbacks=[checkpoint_callback])\n",
    "trainer.fit(model, train_dataloader, valid_dataloader)"
   ]
  },
  {
   "cell_type": "markdown",
   "metadata": {},
   "source": [
    "### load trained model"
   ]
  },
  {
   "cell_type": "code",
   "execution_count": null,
   "metadata": {},
   "outputs": [],
   "source": [
    "# Assuming the best model is saved in the same directory as your script\n",
    "best_model = \"model-epoch=08-val_accuracy=0.00.ckpt\"\n",
    "checkpoint_path = curr_dir / Path(best_model)  # Adjust filename as necessary\n",
    "\n",
    "# Load the checkpoint file\n",
    "checkpoint = torch.load(\n",
    "    checkpoint_path, map_location=torch.device(\"cpu\")\n",
    ")  # Use 'cpu' to avoid GPU memory issues\n",
    "\n",
    "# Print the keys and any hyperparameters stored in the checkpoint\n",
    "print(checkpoint.keys())\n",
    "if \"hyper_parameters\" in checkpoint:\n",
    "    print(checkpoint[\"hyper_parameters\"])\n",
    "else:\n",
    "    print(\"No hyperparameters stored in this checkpoint.\")\n",
    "\n",
    "# Load the trained model from checkpoint\n",
    "model = MultiClassClassifier.load_from_checkpoint(\n",
    "    checkpoint_path=checkpoint_path,\n",
    "    num_features=64,\n",
    "    num_classes=NUM_CLASSES,\n",
    ")\n",
    "model.eval()  # Set the model to evaluation mode"
   ]
  },
  {
   "cell_type": "markdown",
   "metadata": {},
   "source": [
    "### make predictions on validation dataset"
   ]
  },
  {
   "cell_type": "code",
   "execution_count": null,
   "metadata": {},
   "outputs": [],
   "source": [
    "def validate_model(model, dataloader):\n",
    "    model.eval()  # Set the model to evaluation mode\n",
    "    predictions = []\n",
    "    labels = []\n",
    "\n",
    "    with torch.no_grad():  # Turn off gradients for validation, saves memory and computations\n",
    "        for batch in dataloader:\n",
    "            inputs, targets = batch  # Adjust these based on how your data is structured\n",
    "            outputs = model(inputs)\n",
    "            _, predicted = torch.max(\n",
    "                outputs.data, 1\n",
    "            )  # Get the index of the max log-probability\n",
    "            predictions.extend(predicted.tolist())\n",
    "            labels.extend(targets.tolist())\n",
    "\n",
    "    return predictions, labels\n",
    "\n",
    "\n",
    "# Call the function\n",
    "predictions, labels = validate_model(model, valid_dataloader)"
   ]
  },
  {
   "cell_type": "markdown",
   "metadata": {},
   "source": [
    "### evaluate model's performance"
   ]
  },
  {
   "cell_type": "code",
   "execution_count": null,
   "metadata": {},
   "outputs": [],
   "source": [
    "from sklearn.metrics import accuracy_score, classification_report\n",
    "\n",
    "# Accuracy\n",
    "accuracy = accuracy_score(labels, predictions)\n",
    "\n",
    "# Target names\n",
    "target_names = [\n",
    "    str(row[\"index\"]) for row in train_df.select(\"index\").distinct().collect()\n",
    "]\n",
    "report = classification_report(labels, predictions, target_names=target_names)\n",
    "\n",
    "# Print scores\n",
    "print(f\"Validation Accuracy: {accuracy:.4f}\")\n",
    "print(f\"Classification Report:\\n{report}\")"
   ]
  },
  {
   "cell_type": "code",
   "execution_count": null,
   "metadata": {},
   "outputs": [],
   "source": []
  }
 ],
 "metadata": {
  "kernelspec": {
   "display_name": "Python 3",
   "language": "python",
   "name": "python3"
  },
  "language_info": {
   "codemirror_mode": {
    "name": "ipython",
    "version": 3
   },
   "file_extension": ".py",
   "mimetype": "text/x-python",
   "name": "python",
   "nbconvert_exporter": "python",
   "pygments_lexer": "ipython3",
   "version": "3.10.12"
  }
 },
 "nbformat": 4,
 "nbformat_minor": 2
}
