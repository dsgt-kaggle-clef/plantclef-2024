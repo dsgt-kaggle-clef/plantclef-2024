{
 "cells": [
  {
   "cell_type": "markdown",
   "metadata": {},
   "source": [
    "# Classification with pyspark and pytorch lightning\n",
    "\n",
    "> **Databricks Notebook:** [End-to-end distributed training with TorchDistributor](https://docs.databricks.com/en/_extras/notebooks/source/deep-learning/torch-distributor-notebook.html)"
   ]
  },
  {
   "cell_type": "code",
   "execution_count": 1,
   "metadata": {},
   "outputs": [],
   "source": [
    "%load_ext autoreload\n",
    "%autoreload 2"
   ]
  },
  {
   "cell_type": "code",
   "execution_count": 2,
   "metadata": {},
   "outputs": [
    {
     "name": "stderr",
     "output_type": "stream",
     "text": [
      "/usr/local/lib/python3.10/dist-packages/tqdm/auto.py:21: TqdmWarning: IProgress not found. Please update jupyter and ipywidgets. See https://ipywidgets.readthedocs.io/en/stable/user_install.html\n",
      "  from .autonotebook import tqdm as notebook_tqdm\n",
      "Setting default log level to \"WARN\".\n",
      "To adjust logging level use sc.setLogLevel(newLevel). For SparkR, use setLogLevel(newLevel).\n",
      "24/04/14 23:38:04 WARN NativeCodeLoader: Unable to load native-hadoop library for your platform... using builtin-java classes where applicable\n",
      "24/04/14 23:38:04 WARN SparkConf: Note that spark.local.dir will be overridden by the value set by the cluster manager (via SPARK_LOCAL_DIRS in mesos/standalone/kubernetes and LOCAL_DIRS in YARN).\n"
     ]
    },
    {
     "data": {
      "text/html": [
       "\n",
       "            <div>\n",
       "                <p><b>SparkSession - in-memory</b></p>\n",
       "                \n",
       "        <div>\n",
       "            <p><b>SparkContext</b></p>\n",
       "\n",
       "            <p><a href=\"http://big-disk-dev.us-central1-b.c.dsgt-clef-2024.internal:4040\">Spark UI</a></p>\n",
       "\n",
       "            <dl>\n",
       "              <dt>Version</dt>\n",
       "                <dd><code>v3.5.1</code></dd>\n",
       "              <dt>Master</dt>\n",
       "                <dd><code>local[*]</code></dd>\n",
       "              <dt>AppName</dt>\n",
       "                <dd><code>plantclef</code></dd>\n",
       "            </dl>\n",
       "        </div>\n",
       "        \n",
       "            </div>\n",
       "        "
      ],
      "text/plain": [
       "<pyspark.sql.session.SparkSession at 0x7674a93b2560>"
      ]
     },
     "metadata": {},
     "output_type": "display_data"
    }
   ],
   "source": [
    "import os\n",
    "import datetime\n",
    "from pathlib import Path\n",
    "from plantclef.utils import get_spark\n",
    "from pyspark.sql import functions as F\n",
    "from pytorch_lightning.callbacks import ModelCheckpoint\n",
    "\n",
    "\n",
    "spark = get_spark()\n",
    "display(spark)"
   ]
  },
  {
   "cell_type": "code",
   "execution_count": 3,
   "metadata": {},
   "outputs": [
    {
     "name": "stderr",
     "output_type": "stream",
     "text": [
      "                                                                                \r"
     ]
    },
    {
     "name": "stdout",
     "output_type": "stream",
     "text": [
      "+--------------------------------------------+----------+--------------------------------------------------+\n",
      "|                                  image_name|species_id|                                     dct_embedding|\n",
      "+--------------------------------------------+----------+--------------------------------------------------+\n",
      "|170e88ca9af457daa1038092479b251c61c64f7d.jpg|   1742956|[-20648.51, 2133.689, -2555.3125, 14820.57, 685...|\n",
      "|c24a2d8646f5bc7112a39908bd2f6c45bf066a71.jpg|   1356834|[-25395.82, -12564.387, 24736.02, 20483.8, 2115...|\n",
      "|e1f68e5f05618921969aee2575de20e537e6d66b.jpg|   1563754|[-26178.633, -7670.404, -22552.29, -6563.006, 8...|\n",
      "|b0433cd6968b57d52e5c25dc45a28e674a25e61e.jpg|   1367432|[-23662.764, -6773.8213, -8283.518, 3769.6064, ...|\n",
      "|96478a0fe20a41e755b0c8d798690f2c2b7c115f.jpg|   1389010|[-22182.172, -19444.006, 23355.23, 7042.8604, -...|\n",
      "+--------------------------------------------+----------+--------------------------------------------------+\n",
      "only showing top 5 rows\n",
      "\n"
     ]
    }
   ],
   "source": [
    "# Path and dataset names\n",
    "gcs_path = \"gs://dsgt-clef-plantclef-2024/data/process\"\n",
    "dct_emb_train = \"training_cropped_resized_v2/dino_dct/data\"\n",
    "\n",
    "# Define the GCS path to the embedding files\n",
    "dct_gcs_path = f\"{gcs_path}/{dct_emb_train}\"\n",
    "\n",
    "# Read the Parquet file into a DataFrame\n",
    "dct_df = spark.read.parquet(dct_gcs_path)\n",
    "\n",
    "# Show the data\n",
    "dct_df.show(n=5, truncate=50)"
   ]
  },
  {
   "cell_type": "markdown",
   "metadata": {},
   "source": [
    "### convert to a PyTorch dataset"
   ]
  },
  {
   "cell_type": "code",
   "execution_count": 4,
   "metadata": {},
   "outputs": [],
   "source": [
    "import torch\n",
    "from torch.utils.data import Dataset, DataLoader\n",
    "import pytorch_lightning as pl\n",
    "from torch import nn\n",
    "from torchmetrics.classification import (\n",
    "    MulticlassAccuracy,\n",
    "    MulticlassF1Score,\n",
    "    MulticlassPrecision,\n",
    "    MulticlassRecall,\n",
    ")\n",
    "\n",
    "\n",
    "class EmbeddingDataset(Dataset):\n",
    "    def __init__(self, spark_df):\n",
    "        self.embeddings = [x[\"dct_embedding\"] for x in spark_df.collect()]\n",
    "        self.labels = [x[\"index\"] for x in spark_df.collect()]\n",
    "\n",
    "    def __len__(self):\n",
    "        return len(self.labels)\n",
    "\n",
    "    def __getitem__(self, index):\n",
    "        embeddings = torch.tensor(self.embeddings[index], dtype=torch.float)\n",
    "        labels = torch.tensor(self.labels[index], dtype=torch.long)\n",
    "        return embeddings, labels\n",
    "\n",
    "\n",
    "class MultiClassClassifier(pl.LightningModule):\n",
    "    def __init__(self, num_features, num_classes):\n",
    "        super().__init__()\n",
    "        self.save_hyperparameters()  # Saves hyperparams in the checkpoints\n",
    "        self.layer = nn.Linear(num_features, num_classes)\n",
    "        self.learning_rate = 0.002\n",
    "        self.accuracy = MulticlassAccuracy(num_classes=num_classes, average=\"weighted\")\n",
    "        self.f1_score = MulticlassF1Score(num_classes=num_classes, average=\"weighted\")\n",
    "        self.precision = MulticlassPrecision(\n",
    "            num_classes=num_classes, average=\"weighted\"\n",
    "        )\n",
    "        self.recall = MulticlassRecall(num_classes=num_classes, average=\"weighted\")\n",
    "\n",
    "    def forward(self, x):\n",
    "        return torch.log_softmax(self.layer(x), dim=1)\n",
    "\n",
    "    def training_step(self, batch, batch_idx):\n",
    "        x, y = batch\n",
    "        y_hat = self(x)\n",
    "        # Use negative log likelihood loss for multiclass classification\n",
    "        loss = torch.nn.functional.nll_loss(y_hat, y)\n",
    "        self.log(\"train_loss\", loss)\n",
    "        return loss\n",
    "\n",
    "    def validation_step(self, batch, batch_idx):\n",
    "        x, y = batch\n",
    "        y_hat = self(x)\n",
    "        valid_loss = {\"valid_loss\": torch.nn.functional.nll_loss(y_hat, y)}\n",
    "        # Update metrics\n",
    "        self.log(\n",
    "            \"valid_accuracy\", self.accuracy(y_hat, y), on_step=False, on_epoch=True\n",
    "        )\n",
    "        self.log(\"valid_f1\", self.f1_score(y_hat, y), on_step=False, on_epoch=True)\n",
    "        self.log(\n",
    "            \"valid_precision\", self.precision(y_hat, y), on_step=False, on_epoch=True\n",
    "        )\n",
    "        self.log(\"valid_recall\", self.recall(y_hat, y), on_step=False, on_epoch=True)\n",
    "        return valid_loss\n",
    "\n",
    "    def configure_optimizers(self):\n",
    "        return torch.optim.Adam(self.parameters(), lr=self.learning_rate)"
   ]
  },
  {
   "cell_type": "markdown",
   "metadata": {},
   "source": [
    "### prepare subset of data for testing end-to-end pipeline"
   ]
  },
  {
   "cell_type": "code",
   "execution_count": 5,
   "metadata": {},
   "outputs": [],
   "source": [
    "from pyspark.sql import functions as F\n",
    "from pyspark.sql import DataFrame\n",
    "\n",
    "\n",
    "def prepare_species_data(\n",
    "    dct_df: DataFrame,\n",
    "    limit_species: int = None,\n",
    "    species_image_count: int = 100,\n",
    "):\n",
    "    \"\"\"\n",
    "    Prepare species data by filtering, indexing, and joining.\n",
    "\n",
    "    :param dct_df: DataFrame containing species data\n",
    "    :param limit_species: Maximum number of species to include (None means no limit)\n",
    "    :param species_image_count: Minimum number of images per species to include\n",
    "    :return: DataFrame of filtered and indexed species data\n",
    "    \"\"\"\n",
    "    # Aggregate and filter species based on image count\n",
    "    grouped_df = (\n",
    "        dct_df.groupBy(\"species_id\")\n",
    "        .agg(F.count(\"species_id\").alias(\"n\"))\n",
    "        .filter(F.col(\"n\") >= species_image_count)\n",
    "        .orderBy(F.col(\"n\").desc())\n",
    "        .withColumn(\"index\", F.monotonically_increasing_id())\n",
    "    ).drop(\"n\")\n",
    "\n",
    "    # Use broadcast join to optimize smaller DataFrame joining\n",
    "    filtered_dct_df = dct_df.join(F.broadcast(grouped_df), \"species_id\", \"inner\").drop(\n",
    "        \"index\"\n",
    "    )\n",
    "\n",
    "    # Optionally limit the number of species\n",
    "    if limit_species:\n",
    "        limited_grouped_df = (\n",
    "            (\n",
    "                grouped_df.orderBy(F.rand(seed=42))\n",
    "                .limit(limit_species)\n",
    "                .withColumn(\"new_index\", F.monotonically_increasing_id())\n",
    "            )\n",
    "            .drop(\"index\")\n",
    "            .withColumnRenamed(\"new_index\", \"index\")\n",
    "        )\n",
    "\n",
    "        filtered_dct_df = filtered_dct_df.join(\n",
    "            F.broadcast(limited_grouped_df), \"species_id\", \"inner\"\n",
    "        )\n",
    "\n",
    "    return filtered_dct_df"
   ]
  },
  {
   "cell_type": "code",
   "execution_count": 6,
   "metadata": {},
   "outputs": [
    {
     "name": "stderr",
     "output_type": "stream",
     "text": [
      "                                                                                \r"
     ]
    },
    {
     "name": "stdout",
     "output_type": "stream",
     "text": [
      "DF count: 1185\n"
     ]
    },
    {
     "name": "stderr",
     "output_type": "stream",
     "text": [
      "[Stage 27:>                                                         (0 + 1) / 1]\r"
     ]
    },
    {
     "name": "stdout",
     "output_type": "stream",
     "text": [
      "+----------+--------------------+--------------------+-----+\n",
      "|species_id|          image_name|       dct_embedding|index|\n",
      "+----------+--------------------+--------------------+-----+\n",
      "|   1358851|a5a1530acc42ee28a...|[-22140.71, -2232...|    3|\n",
      "|   1392723|76056d8c5c2eabdae...|[-18462.121, -112...|    4|\n",
      "|   1360938|aa65bf7e5cbbea170...|[-27158.367, -183...|    0|\n",
      "|   1392723|ae436ff1f04ca5412...|[-21858.686, -435...|    4|\n",
      "|   1360938|3d922d3fe00d95887...|[-25446.95, -5724...|    0|\n",
      "|   1360299|c914a7f8d83a73727...|[-24541.422, 1324...|    1|\n",
      "|   1360299|5b995de41dc8c507e...|[-26373.861, 1665...|    1|\n",
      "|   1358851|6ceb22e1e2d2a0560...|[-24388.037, -243...|    3|\n",
      "|   1358851|360605951bcdd6843...|[-26956.902, -127...|    3|\n",
      "|   1360938|cc7b5743d897349af...|[-25043.629, -657...|    0|\n",
      "|   1358851|43a7b8a23a79645ce...|[-24329.762, -147...|    3|\n",
      "|   1392723|107d18234ccc4bf99...|[-20970.615, 7978...|    4|\n",
      "|   1358851|ed49aa18677936d8f...|[-17723.512, -340...|    3|\n",
      "|   1357220|d6edbca4549df4075...|[-21597.586, -211...|    2|\n",
      "|   1392723|f456b7eff60ffbf10...|[-27083.182, 4981...|    4|\n",
      "|   1358851|3c737fd20a3fdf737...|[-25762.066, -592...|    3|\n",
      "|   1358851|8548ddf0786c7eaec...|[-20088.328, -128...|    3|\n",
      "|   1357220|f5de017ced47011d2...|[-24193.537, -410...|    2|\n",
      "|   1392723|f8227a441b09908b9...|[-24862.562, 1878...|    4|\n",
      "|   1392723|0b8d7f471332f438e...|[-24259.936, 2109...|    4|\n",
      "+----------+--------------------+--------------------+-----+\n",
      "only showing top 20 rows\n",
      "\n"
     ]
    },
    {
     "name": "stderr",
     "output_type": "stream",
     "text": [
      "                                                                                \r"
     ]
    }
   ],
   "source": [
    "# Params\n",
    "LIMIT_SPECIES = 5\n",
    "SPECIES_IMAGE_COUNT = 100\n",
    "\n",
    "# Call function\n",
    "prepared_df = prepare_species_data(\n",
    "    dct_df, limit_species=LIMIT_SPECIES, species_image_count=SPECIES_IMAGE_COUNT\n",
    ")\n",
    "print(f\"DF count: {prepared_df.count()}\")\n",
    "prepared_df.show()"
   ]
  },
  {
   "cell_type": "markdown",
   "metadata": {},
   "source": [
    "### train/validation split"
   ]
  },
  {
   "cell_type": "code",
   "execution_count": 7,
   "metadata": {},
   "outputs": [
    {
     "name": "stderr",
     "output_type": "stream",
     "text": [
      "                                                                                \r"
     ]
    },
    {
     "name": "stdout",
     "output_type": "stream",
     "text": [
      "train: 938, valid: 247\n"
     ]
    },
    {
     "name": "stderr",
     "output_type": "stream",
     "text": [
      "[Stage 67:=====================================================>  (18 + 1) / 19]\r"
     ]
    },
    {
     "name": "stdout",
     "output_type": "stream",
     "text": [
      "Num classes: 5\n"
     ]
    },
    {
     "name": "stderr",
     "output_type": "stream",
     "text": [
      "                                                                                \r"
     ]
    }
   ],
   "source": [
    "# Perform a train-validation split\n",
    "def train_valid_split(df):\n",
    "    train_df, valid_df = df.randomSplit([0.8, 0.2], seed=42)\n",
    "    return train_df, valid_df\n",
    "\n",
    "\n",
    "# Pass desired DF to function\n",
    "train_df, valid_df = train_valid_split(df=prepared_df)\n",
    "print(f\"train: {train_df.count()}, valid: {valid_df.count()}\")\n",
    "\n",
    "# Init params\n",
    "NUM_CLASSES = int(prepared_df.select(\"species_id\").distinct().count())\n",
    "BATCH_SIZE = 32\n",
    "NUM_EPOCHS = 10\n",
    "print(f\"Num classes: {NUM_CLASSES}\")"
   ]
  },
  {
   "cell_type": "markdown",
   "metadata": {},
   "source": [
    "### prepare DataLoaders"
   ]
  },
  {
   "cell_type": "code",
   "execution_count": null,
   "metadata": {},
   "outputs": [],
   "source": [
    "# Create PyTorch Datasets\n",
    "train_dataset = EmbeddingDataset(spark_df=train_df)\n",
    "valid_dataset = EmbeddingDataset(spark_df=valid_df)\n",
    "\n",
    "# DataLoaders\n",
    "train_dataloader = DataLoader(train_dataset, batch_size=BATCH_SIZE, shuffle=True)\n",
    "valid_dataloader = DataLoader(valid_dataset, batch_size=BATCH_SIZE)"
   ]
  },
  {
   "cell_type": "markdown",
   "metadata": {},
   "source": [
    "### train model"
   ]
  },
  {
   "cell_type": "code",
   "execution_count": null,
   "metadata": {},
   "outputs": [],
   "source": [
    "# Current path\n",
    "curr_dir = Path(os.getcwd())\n",
    "\n",
    "# Setup checkpoint callback\n",
    "checkpoint_callback = ModelCheckpoint(\n",
    "    monitor=\"valid_accuracy\",  # Monitor validation accuracy for improvement\n",
    "    dirpath=curr_dir,  # Directory path for saving checkpoints\n",
    "    filename=\"model-{epoch:02d}-{val_accuracy:.2f}\",\n",
    "    save_top_k=1,  # Save only top 1 model\n",
    "    mode=\"max\",\n",
    ")\n",
    "\n",
    "# model\n",
    "model = MultiClassClassifier(\n",
    "    num_features=64,\n",
    "    num_classes=NUM_CLASSES,\n",
    ")\n",
    "\n",
    "# Train model\n",
    "trainer = pl.Trainer(max_epochs=NUM_EPOCHS, callbacks=[checkpoint_callback])\n",
    "trainer.fit(model, train_dataloader, valid_dataloader)"
   ]
  },
  {
   "cell_type": "markdown",
   "metadata": {},
   "source": [
    "### load trained model"
   ]
  },
  {
   "cell_type": "code",
   "execution_count": null,
   "metadata": {},
   "outputs": [],
   "source": [
    "# Assuming the best model is saved in the same directory as your script\n",
    "best_model = \"model-epoch=08-val_accuracy=0.00.ckpt\"\n",
    "checkpoint_path = curr_dir / Path(best_model)  # Adjust filename as necessary\n",
    "\n",
    "# Load the checkpoint file\n",
    "checkpoint = torch.load(\n",
    "    checkpoint_path, map_location=torch.device(\"cpu\")\n",
    ")  # Use 'cpu' to avoid GPU memory issues\n",
    "\n",
    "# Print the keys and any hyperparameters stored in the checkpoint\n",
    "print(checkpoint.keys())\n",
    "if \"hyper_parameters\" in checkpoint:\n",
    "    print(checkpoint[\"hyper_parameters\"])\n",
    "else:\n",
    "    print(\"No hyperparameters stored in this checkpoint.\")\n",
    "\n",
    "# Load the trained model from checkpoint\n",
    "model = MultiClassClassifier.load_from_checkpoint(\n",
    "    checkpoint_path=checkpoint_path,\n",
    "    num_features=64,\n",
    "    num_classes=NUM_CLASSES,\n",
    ")\n",
    "model.eval()  # Set the model to evaluation mode"
   ]
  },
  {
   "cell_type": "markdown",
   "metadata": {},
   "source": [
    "### make predictions on validation dataset"
   ]
  },
  {
   "cell_type": "code",
   "execution_count": null,
   "metadata": {},
   "outputs": [],
   "source": [
    "def validate_model(model, dataloader):\n",
    "    model.eval()  # Set the model to evaluation mode\n",
    "    predictions = []\n",
    "    labels = []\n",
    "\n",
    "    with torch.no_grad():  # Turn off gradients for validation, saves memory and computations\n",
    "        for batch in dataloader:\n",
    "            inputs, targets = batch  # Adjust these based on how your data is structured\n",
    "            outputs = model(inputs)\n",
    "            _, predicted = torch.max(\n",
    "                outputs.data, 1\n",
    "            )  # Get the index of the max log-probability\n",
    "            predictions.extend(predicted.tolist())\n",
    "            labels.extend(targets.tolist())\n",
    "\n",
    "    return predictions, labels\n",
    "\n",
    "\n",
    "# Call the function\n",
    "predictions, labels = validate_model(model, valid_dataloader)"
   ]
  },
  {
   "cell_type": "markdown",
   "metadata": {},
   "source": [
    "### evaluate model's performance"
   ]
  },
  {
   "cell_type": "code",
   "execution_count": null,
   "metadata": {},
   "outputs": [],
   "source": [
    "from sklearn.metrics import accuracy_score, classification_report\n",
    "\n",
    "# Accuracy\n",
    "accuracy = accuracy_score(labels, predictions)\n",
    "\n",
    "# Target names\n",
    "target_names = [\n",
    "    str(row[\"index\"]) for row in train_df.select(\"index\").distinct().collect()\n",
    "]\n",
    "report = classification_report(labels, predictions, target_names=target_names)\n",
    "\n",
    "# Print scores\n",
    "print(f\"Validation Accuracy: {accuracy:.4f}\")\n",
    "print(f\"Classification Report:\\n{report}\")"
   ]
  },
  {
   "cell_type": "markdown",
   "metadata": {},
   "source": [
    "## TorchDistributor"
   ]
  },
  {
   "cell_type": "code",
   "execution_count": 8,
   "metadata": {},
   "outputs": [],
   "source": [
    "import torch\n",
    "import pytorch_lightning as pl\n",
    "from torch.utils.data import Dataset, DataLoader\n",
    "\n",
    "\n",
    "class EmbeddingDataset(Dataset):\n",
    "    def __init__(self, spark_df):\n",
    "        self.embeddings = [x[\"dct_embedding\"] for x in spark_df.collect()]\n",
    "        self.labels = [x[\"index\"] for x in spark_df.collect()]\n",
    "\n",
    "    def __len__(self):\n",
    "        return len(self.labels)\n",
    "\n",
    "    def __getitem__(self, index):\n",
    "        embeddings = torch.tensor(self.embeddings[index], dtype=torch.float)\n",
    "        labels = torch.tensor(self.labels[index], dtype=torch.long)\n",
    "        return embeddings, labels\n",
    "\n",
    "\n",
    "class TorchClassifier(pl.LightningModule):\n",
    "    def __init__(self, num_features, num_classes):\n",
    "        super().__init__()\n",
    "        self.save_hyperparameters()  # Saves hyperparams in the checkpoints\n",
    "        self.layer = nn.Linear(num_features, num_classes)\n",
    "\n",
    "    def forward(self, x):\n",
    "        return torch.log_softmax(self.layer(x), dim=1)\n",
    "\n",
    "\n",
    "def train_one_epoch(\n",
    "    model, device, dataloader, optimizer, epoch, log_interval: int = 100\n",
    "):\n",
    "    model.train()\n",
    "    for batch_idx, (data, target) in enumerate(dataloader):\n",
    "        data, target = data.to(device), target.to(device)\n",
    "        optimizer.zero_grad()\n",
    "        output = model(data)\n",
    "        loss = torch.nn.functional.nll_loss(output, target)\n",
    "        loss.backward()\n",
    "        optimizer.step()\n",
    "        if batch_idx % log_interval == 0:\n",
    "            print(\n",
    "                \"Train Epoch: {} [{}/{} ({:.0f}%)]\\tLoss: {:.6f}\".format(\n",
    "                    epoch,\n",
    "                    batch_idx * len(data),\n",
    "                    len(dataloader) * len(data),\n",
    "                    100.0 * batch_idx / len(dataloader),\n",
    "                    loss.item(),\n",
    "                )\n",
    "            )\n",
    "\n",
    "\n",
    "def test(log_dir, model, device, dataloader):\n",
    "    loaded_model = model.to(device)\n",
    "\n",
    "    # Load model and set to evaluation\n",
    "    checkpoint = load_checkpoint(log_dir)\n",
    "    loaded_model.load_state_dict(checkpoint[\"model\"])\n",
    "    loaded_model.eval()\n",
    "    test_loss = 0\n",
    "\n",
    "    for data, target in dataloader:\n",
    "        data, target = data.to(device), target.to(device)\n",
    "        output = loaded_model(data)\n",
    "        test_loss += F.nll_loss(output, target)\n",
    "    test_loss /= len(dataloader.dataset)\n",
    "    print(\"Average test loss: {}\".format(test_loss.item()))\n",
    "\n",
    "\n",
    "def save_checkpoint(log_dir, model, optimizer, epoch):\n",
    "    filepath = log_dir + \"/checkpoint-{epoch}.pth.tar\".format(epoch=epoch)\n",
    "    state = {\n",
    "        \"model\": model.module.state_dict(),\n",
    "        \"optimizer\": optimizer.state_dict(),\n",
    "    }\n",
    "    torch.save(state, filepath)\n",
    "\n",
    "\n",
    "# For distributed training we will merge the train and test steps into 1 main function\n",
    "def main_fn(\n",
    "    directory,\n",
    "    train_data,\n",
    "    test_data,\n",
    "    batch_size,\n",
    "    num_epochs,\n",
    "    momentum,\n",
    "    learning_rate=0.001,\n",
    "):\n",
    "    #### Added imports here ####\n",
    "    import torch.distributed as dist\n",
    "    from torch.utils.data import Dataset, DataLoader\n",
    "    from torch.nn.parallel import DistributedDataParallel as DDP\n",
    "    from torch.utils.data.distributed import DistributedSampler\n",
    "\n",
    "    ############################\n",
    "    print(\"Running distributed training\")\n",
    "    dist.init_process_group(\"nccl\")\n",
    "\n",
    "    local_rank = int(os.environ[\"LOCAL_RANK\"])\n",
    "    global_rank = int(os.environ[\"RANK\"])\n",
    "\n",
    "    if global_rank == 0:\n",
    "        train_parameters = {\n",
    "            \"batch_size\": batch_size,\n",
    "            \"epochs\": num_epochs,\n",
    "            \"trainer\": \"TorchDistributor\",\n",
    "        }\n",
    "    #### Added Distributed Dataloader ####\n",
    "    train_dataset = EmbeddingDataset(train_data)\n",
    "    train_sampler = DistributedSampler(dataset=train_data)\n",
    "    dataloader = DataLoader(\n",
    "        train_dataset, batch_size=batch_size, sampler=train_sampler, shuffle=True\n",
    "    )\n",
    "\n",
    "    ######################################\n",
    "    model = TorchClassifier.to(local_rank)\n",
    "    #### Added Distributed Model ####\n",
    "    ddp_model = DDP(model, device_ids=[local_rank], output_device=local_rank)\n",
    "    #################################\n",
    "\n",
    "    optimizer = torch.optim.Adam(\n",
    "        ddp_model.parameters(), lr=learning_rate, momentum=momentum\n",
    "    )\n",
    "\n",
    "    for epoch in range(1, num_epochs + 1):\n",
    "        train_one_epoch(ddp_model, local_rank, dataloader, optimizer, epoch)\n",
    "\n",
    "        if global_rank == 0:\n",
    "            save_checkpoint(directory, ddp_model, optimizer, epoch)\n",
    "    # save out the model for test\n",
    "    if global_rank == 0:\n",
    "        ddp_model.eval()\n",
    "        test_dataset = EmbeddingDataset(test_data)\n",
    "        dataloader = DataLoader(test_dataset)\n",
    "        test_loss = 0\n",
    "\n",
    "        for data, target in dataloader:\n",
    "            device = torch.device(\"cuda\")\n",
    "            data, target = data.to(device), target.to(device)\n",
    "            output = ddp_model(data)\n",
    "            test_loss += torch.nn.functional.nll_loss(output, target)\n",
    "        test_loss /= len(dataloader.dataset)\n",
    "        print(\"Average test loss: {}\".format(test_loss.item()))\n",
    "\n",
    "    dist.destroy_process_group()\n",
    "\n",
    "    return \"finished\"  # can return any picklable object\n",
    "\n",
    "\n",
    "def load_checkpoint(log_dir, epoch):\n",
    "    filepath = log_dir + \"/checkpoint-{epoch}.pth.tar\".format(epoch=epoch)\n",
    "    return torch.load(filepath)\n",
    "\n",
    "\n",
    "def create_log_dir(exp_dir):\n",
    "    now = datetime.datetime.now()\n",
    "    date_dir = now.strftime(\"%Y%m%d-%H%M%S\")\n",
    "    log_dir = os.path.join(exp_dir, date_dir)\n",
    "    os.makedirs(log_dir)\n",
    "    return log_dir"
   ]
  },
  {
   "cell_type": "code",
   "execution_count": 9,
   "metadata": {},
   "outputs": [],
   "source": [
    "# Params\n",
    "PYTORCH_DIR = Path(os.getcwd()).parents[1] / \"experiments\"\n",
    "batch_size = 100\n",
    "num_epochs = 3\n",
    "momentum = 0.5\n",
    "log_interval = 100\n",
    "learning_rate = 0.001\n",
    "device = torch.device(\"cuda\" if torch.cuda.is_available() else \"cpu\")"
   ]
  },
  {
   "cell_type": "code",
   "execution_count": 11,
   "metadata": {},
   "outputs": [
    {
     "name": "stderr",
     "output_type": "stream",
     "text": [
      "Started local training with 2 processes\n"
     ]
    },
    {
     "name": "stdout",
     "output_type": "stream",
     "text": [
      "Data is located at:  /home/mgustine/plantclef-2024/experiments/20240414-234239\n"
     ]
    },
    {
     "ename": "PySparkRuntimeError",
     "evalue": "[CONTEXT_ONLY_VALID_ON_DRIVER] It appears that you are attempting to reference SparkContext from a broadcast variable, action, or transformation. SparkContext can only be used on the driver, not in code that it run on workers. For more information, see SPARK-5063.",
     "output_type": "error",
     "traceback": [
      "\u001b[0;31m---------------------------------------------------------------------------\u001b[0m",
      "\u001b[0;31mPySparkRuntimeError\u001b[0m                       Traceback (most recent call last)",
      "Cell \u001b[0;32mIn[11], line 7\u001b[0m\n\u001b[1;32m      4\u001b[0m \u001b[38;5;28mprint\u001b[39m(\u001b[38;5;124m\"\u001b[39m\u001b[38;5;124mData is located at: \u001b[39m\u001b[38;5;124m\"\u001b[39m, single_node_multi_gpu_dir)\n\u001b[1;32m      6\u001b[0m use_gpu \u001b[38;5;241m=\u001b[39m \u001b[38;5;28;01mFalse\u001b[39;00m \u001b[38;5;28;01mif\u001b[39;00m device\u001b[38;5;241m.\u001b[39mtype \u001b[38;5;241m==\u001b[39m \u001b[38;5;124m\"\u001b[39m\u001b[38;5;124mcpu\u001b[39m\u001b[38;5;124m\"\u001b[39m \u001b[38;5;28;01melse\u001b[39;00m \u001b[38;5;28;01mTrue\u001b[39;00m\n\u001b[0;32m----> 7\u001b[0m output \u001b[38;5;241m=\u001b[39m \u001b[43mTorchDistributor\u001b[49m\u001b[43m(\u001b[49m\u001b[43mnum_processes\u001b[49m\u001b[38;5;241;43m=\u001b[39;49m\u001b[38;5;241;43m2\u001b[39;49m\u001b[43m,\u001b[49m\u001b[43m \u001b[49m\u001b[43mlocal_mode\u001b[49m\u001b[38;5;241;43m=\u001b[39;49m\u001b[38;5;28;43;01mTrue\u001b[39;49;00m\u001b[43m,\u001b[49m\u001b[43m \u001b[49m\u001b[43muse_gpu\u001b[49m\u001b[38;5;241;43m=\u001b[39;49m\u001b[43muse_gpu\u001b[49m\u001b[43m)\u001b[49m\u001b[38;5;241;43m.\u001b[39;49m\u001b[43mrun\u001b[49m\u001b[43m(\u001b[49m\n\u001b[1;32m      8\u001b[0m \u001b[43m    \u001b[49m\u001b[43mmain_fn\u001b[49m\u001b[43m,\u001b[49m\n\u001b[1;32m      9\u001b[0m \u001b[43m    \u001b[49m\u001b[43msingle_node_multi_gpu_dir\u001b[49m\u001b[43m,\u001b[49m\n\u001b[1;32m     10\u001b[0m \u001b[43m    \u001b[49m\u001b[43mtrain_df\u001b[49m\u001b[43m,\u001b[49m\n\u001b[1;32m     11\u001b[0m \u001b[43m    \u001b[49m\u001b[43mvalid_df\u001b[49m\u001b[43m,\u001b[49m\n\u001b[1;32m     12\u001b[0m \u001b[43m    \u001b[49m\u001b[43mbatch_size\u001b[49m\u001b[43m,\u001b[49m\n\u001b[1;32m     13\u001b[0m \u001b[43m    \u001b[49m\u001b[43mnum_epochs\u001b[49m\u001b[43m,\u001b[49m\n\u001b[1;32m     14\u001b[0m \u001b[43m    \u001b[49m\u001b[43mmomentum\u001b[49m\u001b[43m,\u001b[49m\n\u001b[1;32m     15\u001b[0m \u001b[43m    \u001b[49m\u001b[43mlearning_rate\u001b[49m\u001b[43m,\u001b[49m\n\u001b[1;32m     16\u001b[0m \u001b[43m)\u001b[49m\n\u001b[1;32m     17\u001b[0m test(single_node_multi_gpu_dir)\n",
      "File \u001b[0;32m/usr/local/lib/python3.10/dist-packages/pyspark/ml/torch/distributor.py:1005\u001b[0m, in \u001b[0;36mTorchDistributor.run\u001b[0;34m(self, train_object, *args, **kwargs)\u001b[0m\n\u001b[1;32m    966\u001b[0m \u001b[38;5;28;01mdef\u001b[39;00m \u001b[38;5;21mrun\u001b[39m(\u001b[38;5;28mself\u001b[39m, train_object: Union[Callable, \u001b[38;5;28mstr\u001b[39m], \u001b[38;5;241m*\u001b[39margs: Any, \u001b[38;5;241m*\u001b[39m\u001b[38;5;241m*\u001b[39mkwargs: Any) \u001b[38;5;241m-\u001b[39m\u001b[38;5;241m>\u001b[39m Optional[Any]:\n\u001b[1;32m    967\u001b[0m \u001b[38;5;250m    \u001b[39m\u001b[38;5;124;03m\"\"\"Runs distributed training.\u001b[39;00m\n\u001b[1;32m    968\u001b[0m \n\u001b[1;32m    969\u001b[0m \u001b[38;5;124;03m    Parameters\u001b[39;00m\n\u001b[0;32m   (...)\u001b[0m\n\u001b[1;32m   1003\u001b[0m \u001b[38;5;124;03m        a file.\u001b[39;00m\n\u001b[1;32m   1004\u001b[0m \u001b[38;5;124;03m    \"\"\"\u001b[39;00m\n\u001b[0;32m-> 1005\u001b[0m     \u001b[38;5;28;01mreturn\u001b[39;00m \u001b[38;5;28;43mself\u001b[39;49m\u001b[38;5;241;43m.\u001b[39;49m\u001b[43m_run\u001b[49m\u001b[43m(\u001b[49m\n\u001b[1;32m   1006\u001b[0m \u001b[43m        \u001b[49m\u001b[43mtrain_object\u001b[49m\u001b[43m,\u001b[49m\u001b[43m \u001b[49m\u001b[43mTorchDistributor\u001b[49m\u001b[38;5;241;43m.\u001b[39;49m\u001b[43m_run_training_on_pytorch_file\u001b[49m\u001b[43m,\u001b[49m\u001b[43m \u001b[49m\u001b[38;5;241;43m*\u001b[39;49m\u001b[43margs\u001b[49m\u001b[43m,\u001b[49m\u001b[43m \u001b[49m\u001b[38;5;241;43m*\u001b[39;49m\u001b[38;5;241;43m*\u001b[39;49m\u001b[43mkwargs\u001b[49m\n\u001b[1;32m   1007\u001b[0m \u001b[43m    \u001b[49m\u001b[43m)\u001b[49m\n",
      "File \u001b[0;32m/usr/local/lib/python3.10/dist-packages/pyspark/ml/torch/distributor.py:1021\u001b[0m, in \u001b[0;36mTorchDistributor._run\u001b[0;34m(self, train_object, run_pytorch_file_fn, *args, **kwargs)\u001b[0m\n\u001b[1;32m   1019\u001b[0m     framework_wrapper_fn \u001b[38;5;241m=\u001b[39m TorchDistributor\u001b[38;5;241m.\u001b[39m_run_training_on_pytorch_function\n\u001b[1;32m   1020\u001b[0m \u001b[38;5;28;01mif\u001b[39;00m \u001b[38;5;28mself\u001b[39m\u001b[38;5;241m.\u001b[39mlocal_mode:\n\u001b[0;32m-> 1021\u001b[0m     output \u001b[38;5;241m=\u001b[39m \u001b[38;5;28;43mself\u001b[39;49m\u001b[38;5;241;43m.\u001b[39;49m\u001b[43m_run_local_training\u001b[49m\u001b[43m(\u001b[49m\n\u001b[1;32m   1022\u001b[0m \u001b[43m        \u001b[49m\u001b[43mframework_wrapper_fn\u001b[49m\u001b[43m,\u001b[49m\u001b[43m \u001b[49m\u001b[43mtrain_object\u001b[49m\u001b[43m,\u001b[49m\u001b[43m \u001b[49m\u001b[43mrun_pytorch_file_fn\u001b[49m\u001b[43m,\u001b[49m\u001b[43m \u001b[49m\u001b[38;5;241;43m*\u001b[39;49m\u001b[43margs\u001b[49m\u001b[43m,\u001b[49m\u001b[43m \u001b[49m\u001b[38;5;241;43m*\u001b[39;49m\u001b[38;5;241;43m*\u001b[39;49m\u001b[43mkwargs\u001b[49m\n\u001b[1;32m   1023\u001b[0m \u001b[43m    \u001b[49m\u001b[43m)\u001b[49m\n\u001b[1;32m   1024\u001b[0m \u001b[38;5;28;01melse\u001b[39;00m:\n\u001b[1;32m   1025\u001b[0m     output \u001b[38;5;241m=\u001b[39m \u001b[38;5;28mself\u001b[39m\u001b[38;5;241m.\u001b[39m_run_distributed_training(\n\u001b[1;32m   1026\u001b[0m         framework_wrapper_fn, train_object, run_pytorch_file_fn, \u001b[38;5;28;01mNone\u001b[39;00m, \u001b[38;5;241m*\u001b[39margs, \u001b[38;5;241m*\u001b[39m\u001b[38;5;241m*\u001b[39mkwargs\n\u001b[1;32m   1027\u001b[0m     )\n",
      "File \u001b[0;32m/usr/local/lib/python3.10/dist-packages/pyspark/ml/torch/distributor.py:592\u001b[0m, in \u001b[0;36mTorchDistributor._run_local_training\u001b[0;34m(self, framework_wrapper_fn, train_object, run_pytorch_file_fn, *args, **kwargs)\u001b[0m\n\u001b[1;32m    589\u001b[0m         os\u001b[38;5;241m.\u001b[39menviron[CUDA_VISIBLE_DEVICES] \u001b[38;5;241m=\u001b[39m \u001b[38;5;124m\"\u001b[39m\u001b[38;5;124m,\u001b[39m\u001b[38;5;124m\"\u001b[39m\u001b[38;5;241m.\u001b[39mjoin(selected_gpus)\n\u001b[1;32m    591\u001b[0m     \u001b[38;5;28mself\u001b[39m\u001b[38;5;241m.\u001b[39mlogger\u001b[38;5;241m.\u001b[39minfo(\u001b[38;5;124mf\u001b[39m\u001b[38;5;124m\"\u001b[39m\u001b[38;5;124mStarted local training with \u001b[39m\u001b[38;5;132;01m{\u001b[39;00m\u001b[38;5;28mself\u001b[39m\u001b[38;5;241m.\u001b[39mnum_processes\u001b[38;5;132;01m}\u001b[39;00m\u001b[38;5;124m processes\u001b[39m\u001b[38;5;124m\"\u001b[39m)\n\u001b[0;32m--> 592\u001b[0m     output \u001b[38;5;241m=\u001b[39m \u001b[43mTorchDistributor\u001b[49m\u001b[38;5;241;43m.\u001b[39;49m\u001b[43m_get_output_from_framework_wrapper\u001b[49m\u001b[43m(\u001b[49m\n\u001b[1;32m    593\u001b[0m \u001b[43m        \u001b[49m\u001b[43mframework_wrapper_fn\u001b[49m\u001b[43m,\u001b[49m\n\u001b[1;32m    594\u001b[0m \u001b[43m        \u001b[49m\u001b[38;5;28;43mself\u001b[39;49m\u001b[38;5;241;43m.\u001b[39;49m\u001b[43minput_params\u001b[49m\u001b[43m,\u001b[49m\n\u001b[1;32m    595\u001b[0m \u001b[43m        \u001b[49m\u001b[43mtrain_object\u001b[49m\u001b[43m,\u001b[49m\n\u001b[1;32m    596\u001b[0m \u001b[43m        \u001b[49m\u001b[43mrun_pytorch_file_fn\u001b[49m\u001b[43m,\u001b[49m\n\u001b[1;32m    597\u001b[0m \u001b[43m        \u001b[49m\u001b[38;5;241;43m*\u001b[39;49m\u001b[43margs\u001b[49m\u001b[43m,\u001b[49m\n\u001b[1;32m    598\u001b[0m \u001b[43m        \u001b[49m\u001b[38;5;241;43m*\u001b[39;49m\u001b[38;5;241;43m*\u001b[39;49m\u001b[43mkwargs\u001b[49m\u001b[43m,\u001b[49m\n\u001b[1;32m    599\u001b[0m \u001b[43m    \u001b[49m\u001b[43m)\u001b[49m\n\u001b[1;32m    600\u001b[0m     \u001b[38;5;28mself\u001b[39m\u001b[38;5;241m.\u001b[39mlogger\u001b[38;5;241m.\u001b[39minfo(\u001b[38;5;124mf\u001b[39m\u001b[38;5;124m\"\u001b[39m\u001b[38;5;124mFinished local training with \u001b[39m\u001b[38;5;132;01m{\u001b[39;00m\u001b[38;5;28mself\u001b[39m\u001b[38;5;241m.\u001b[39mnum_processes\u001b[38;5;132;01m}\u001b[39;00m\u001b[38;5;124m processes\u001b[39m\u001b[38;5;124m\"\u001b[39m)\n\u001b[1;32m    602\u001b[0m \u001b[38;5;28;01mfinally\u001b[39;00m:\n",
      "File \u001b[0;32m/usr/local/lib/python3.10/dist-packages/pyspark/ml/torch/distributor.py:566\u001b[0m, in \u001b[0;36mTorchDistributor._get_output_from_framework_wrapper\u001b[0;34m(framework_wrapper, input_params, train_object, run_pytorch_file_fn, *args, **kwargs)\u001b[0m\n\u001b[1;32m    564\u001b[0m \u001b[38;5;28;01mif\u001b[39;00m \u001b[38;5;129;01mnot\u001b[39;00m run_pytorch_file_fn:\n\u001b[1;32m    565\u001b[0m     run_pytorch_file_fn \u001b[38;5;241m=\u001b[39m TorchDistributor\u001b[38;5;241m.\u001b[39m_run_training_on_pytorch_file\n\u001b[0;32m--> 566\u001b[0m \u001b[38;5;28;01mreturn\u001b[39;00m \u001b[43mframework_wrapper\u001b[49m\u001b[43m(\u001b[49m\n\u001b[1;32m    567\u001b[0m \u001b[43m    \u001b[49m\u001b[43minput_params\u001b[49m\u001b[43m,\u001b[49m\u001b[43m \u001b[49m\u001b[43mtrain_object\u001b[49m\u001b[43m,\u001b[49m\u001b[43m \u001b[49m\u001b[43mrun_pytorch_file_fn\u001b[49m\u001b[43m,\u001b[49m\u001b[43m \u001b[49m\u001b[38;5;241;43m*\u001b[39;49m\u001b[43margs\u001b[49m\u001b[43m,\u001b[49m\u001b[43m \u001b[49m\u001b[38;5;241;43m*\u001b[39;49m\u001b[38;5;241;43m*\u001b[39;49m\u001b[43mkwargs\u001b[49m\n\u001b[1;32m    568\u001b[0m \u001b[43m\u001b[49m\u001b[43m)\u001b[49m\n",
      "File \u001b[0;32m/usr/local/lib/python3.10/dist-packages/pyspark/ml/torch/distributor.py:901\u001b[0m, in \u001b[0;36mTorchDistributor._run_training_on_pytorch_function\u001b[0;34m(input_params, train_fn, run_pytorch_file_fn, *args, **kwargs)\u001b[0m\n\u001b[1;32m    898\u001b[0m \u001b[38;5;28;01mif\u001b[39;00m \u001b[38;5;129;01mnot\u001b[39;00m run_pytorch_file_fn:\n\u001b[1;32m    899\u001b[0m     run_pytorch_file_fn \u001b[38;5;241m=\u001b[39m TorchDistributor\u001b[38;5;241m.\u001b[39m_run_training_on_pytorch_file\n\u001b[0;32m--> 901\u001b[0m \u001b[38;5;28;01mwith\u001b[39;00m TorchDistributor\u001b[38;5;241m.\u001b[39m_setup_files(train_fn, \u001b[38;5;241m*\u001b[39margs, \u001b[38;5;241m*\u001b[39m\u001b[38;5;241m*\u001b[39mkwargs) \u001b[38;5;28;01mas\u001b[39;00m (\n\u001b[1;32m    902\u001b[0m     train_file_path,\n\u001b[1;32m    903\u001b[0m     output_file_path,\n\u001b[1;32m    904\u001b[0m ):\n\u001b[1;32m    905\u001b[0m     run_pytorch_file_fn(input_params, train_file_path)\n\u001b[1;32m    906\u001b[0m     \u001b[38;5;28;01mif\u001b[39;00m \u001b[38;5;129;01mnot\u001b[39;00m os\u001b[38;5;241m.\u001b[39mpath\u001b[38;5;241m.\u001b[39mexists(output_file_path):\n",
      "File \u001b[0;32m/usr/lib/python3.10/contextlib.py:135\u001b[0m, in \u001b[0;36m_GeneratorContextManager.__enter__\u001b[0;34m(self)\u001b[0m\n\u001b[1;32m    133\u001b[0m \u001b[38;5;28;01mdel\u001b[39;00m \u001b[38;5;28mself\u001b[39m\u001b[38;5;241m.\u001b[39margs, \u001b[38;5;28mself\u001b[39m\u001b[38;5;241m.\u001b[39mkwds, \u001b[38;5;28mself\u001b[39m\u001b[38;5;241m.\u001b[39mfunc\n\u001b[1;32m    134\u001b[0m \u001b[38;5;28;01mtry\u001b[39;00m:\n\u001b[0;32m--> 135\u001b[0m     \u001b[38;5;28;01mreturn\u001b[39;00m \u001b[38;5;28;43mnext\u001b[39;49m\u001b[43m(\u001b[49m\u001b[38;5;28;43mself\u001b[39;49m\u001b[38;5;241;43m.\u001b[39;49m\u001b[43mgen\u001b[49m\u001b[43m)\u001b[49m\n\u001b[1;32m    136\u001b[0m \u001b[38;5;28;01mexcept\u001b[39;00m \u001b[38;5;167;01mStopIteration\u001b[39;00m:\n\u001b[1;32m    137\u001b[0m     \u001b[38;5;28;01mraise\u001b[39;00m \u001b[38;5;167;01mRuntimeError\u001b[39;00m(\u001b[38;5;124m\"\u001b[39m\u001b[38;5;124mgenerator didn\u001b[39m\u001b[38;5;124m'\u001b[39m\u001b[38;5;124mt yield\u001b[39m\u001b[38;5;124m\"\u001b[39m) \u001b[38;5;28;01mfrom\u001b[39;00m \u001b[38;5;28;01mNone\u001b[39;00m\n",
      "File \u001b[0;32m/usr/local/lib/python3.10/dist-packages/pyspark/ml/torch/distributor.py:833\u001b[0m, in \u001b[0;36mTorchDistributor._setup_files\u001b[0;34m(train_fn, *args, **kwargs)\u001b[0m\n\u001b[1;32m    827\u001b[0m \u001b[38;5;129m@staticmethod\u001b[39m\n\u001b[1;32m    828\u001b[0m \u001b[38;5;129m@contextmanager\u001b[39m\n\u001b[1;32m    829\u001b[0m \u001b[38;5;28;01mdef\u001b[39;00m \u001b[38;5;21m_setup_files\u001b[39m(\n\u001b[1;32m    830\u001b[0m     train_fn: Callable, \u001b[38;5;241m*\u001b[39margs: Any, \u001b[38;5;241m*\u001b[39m\u001b[38;5;241m*\u001b[39mkwargs: Any\n\u001b[1;32m    831\u001b[0m ) \u001b[38;5;241m-\u001b[39m\u001b[38;5;241m>\u001b[39m Generator[Tuple[\u001b[38;5;28mstr\u001b[39m, \u001b[38;5;28mstr\u001b[39m], \u001b[38;5;28;01mNone\u001b[39;00m, \u001b[38;5;28;01mNone\u001b[39;00m]:\n\u001b[1;32m    832\u001b[0m     save_dir \u001b[38;5;241m=\u001b[39m TorchDistributor\u001b[38;5;241m.\u001b[39m_create_save_dir()\n\u001b[0;32m--> 833\u001b[0m     pickle_file_path \u001b[38;5;241m=\u001b[39m \u001b[43mTorchDistributor\u001b[49m\u001b[38;5;241;43m.\u001b[39;49m\u001b[43m_save_pickled_function\u001b[49m\u001b[43m(\u001b[49m\n\u001b[1;32m    834\u001b[0m \u001b[43m        \u001b[49m\u001b[43msave_dir\u001b[49m\u001b[43m,\u001b[49m\u001b[43m \u001b[49m\u001b[43mtrain_fn\u001b[49m\u001b[43m,\u001b[49m\u001b[43m \u001b[49m\u001b[38;5;241;43m*\u001b[39;49m\u001b[43margs\u001b[49m\u001b[43m,\u001b[49m\u001b[43m \u001b[49m\u001b[38;5;241;43m*\u001b[39;49m\u001b[38;5;241;43m*\u001b[39;49m\u001b[43mkwargs\u001b[49m\n\u001b[1;32m    835\u001b[0m \u001b[43m    \u001b[49m\u001b[43m)\u001b[49m\n\u001b[1;32m    836\u001b[0m     output_file_path \u001b[38;5;241m=\u001b[39m os\u001b[38;5;241m.\u001b[39mpath\u001b[38;5;241m.\u001b[39mjoin(save_dir, TorchDistributor\u001b[38;5;241m.\u001b[39m_PICKLED_OUTPUT_FILE)\n\u001b[1;32m    837\u001b[0m     train_file_path \u001b[38;5;241m=\u001b[39m TorchDistributor\u001b[38;5;241m.\u001b[39m_create_torchrun_train_file(\n\u001b[1;32m    838\u001b[0m         save_dir, pickle_file_path, output_file_path\n\u001b[1;32m    839\u001b[0m     )\n",
      "File \u001b[0;32m/usr/local/lib/python3.10/dist-packages/pyspark/ml/torch/distributor.py:935\u001b[0m, in \u001b[0;36mTorchDistributor._save_pickled_function\u001b[0;34m(save_dir, train_fn, *args, **kwargs)\u001b[0m\n\u001b[1;32m    933\u001b[0m saved_pickle_path \u001b[38;5;241m=\u001b[39m os\u001b[38;5;241m.\u001b[39mpath\u001b[38;5;241m.\u001b[39mjoin(save_dir, TorchDistributor\u001b[38;5;241m.\u001b[39m_PICKLED_FUNC_FILE)\n\u001b[1;32m    934\u001b[0m \u001b[38;5;28;01mwith\u001b[39;00m \u001b[38;5;28mopen\u001b[39m(saved_pickle_path, \u001b[38;5;124m\"\u001b[39m\u001b[38;5;124mwb\u001b[39m\u001b[38;5;124m\"\u001b[39m) \u001b[38;5;28;01mas\u001b[39;00m f:\n\u001b[0;32m--> 935\u001b[0m     \u001b[43mcloudpickle\u001b[49m\u001b[38;5;241;43m.\u001b[39;49m\u001b[43mdump\u001b[49m\u001b[43m(\u001b[49m\u001b[43m(\u001b[49m\u001b[43mtrain_fn\u001b[49m\u001b[43m,\u001b[49m\u001b[43m \u001b[49m\u001b[43margs\u001b[49m\u001b[43m,\u001b[49m\u001b[43m \u001b[49m\u001b[43mkwargs\u001b[49m\u001b[43m)\u001b[49m\u001b[43m,\u001b[49m\u001b[43m \u001b[49m\u001b[43mf\u001b[49m\u001b[43m)\u001b[49m\n\u001b[1;32m    936\u001b[0m \u001b[38;5;28;01mreturn\u001b[39;00m saved_pickle_path\n",
      "File \u001b[0;32m/usr/local/lib/python3.10/dist-packages/pyspark/cloudpickle/cloudpickle_fast.py:57\u001b[0m, in \u001b[0;36mdump\u001b[0;34m(obj, file, protocol, buffer_callback)\u001b[0m\n\u001b[1;32m     45\u001b[0m \u001b[38;5;28;01mdef\u001b[39;00m \u001b[38;5;21mdump\u001b[39m(obj, file, protocol\u001b[38;5;241m=\u001b[39m\u001b[38;5;28;01mNone\u001b[39;00m, buffer_callback\u001b[38;5;241m=\u001b[39m\u001b[38;5;28;01mNone\u001b[39;00m):\n\u001b[1;32m     46\u001b[0m \u001b[38;5;250m    \u001b[39m\u001b[38;5;124;03m\"\"\"Serialize obj as bytes streamed into file\u001b[39;00m\n\u001b[1;32m     47\u001b[0m \n\u001b[1;32m     48\u001b[0m \u001b[38;5;124;03m    protocol defaults to cloudpickle.DEFAULT_PROTOCOL which is an alias to\u001b[39;00m\n\u001b[0;32m   (...)\u001b[0m\n\u001b[1;32m     53\u001b[0m \u001b[38;5;124;03m    compatibility with older versions of Python.\u001b[39;00m\n\u001b[1;32m     54\u001b[0m \u001b[38;5;124;03m    \"\"\"\u001b[39;00m\n\u001b[1;32m     55\u001b[0m     \u001b[43mCloudPickler\u001b[49m\u001b[43m(\u001b[49m\n\u001b[1;32m     56\u001b[0m \u001b[43m        \u001b[49m\u001b[43mfile\u001b[49m\u001b[43m,\u001b[49m\u001b[43m \u001b[49m\u001b[43mprotocol\u001b[49m\u001b[38;5;241;43m=\u001b[39;49m\u001b[43mprotocol\u001b[49m\u001b[43m,\u001b[49m\u001b[43m \u001b[49m\u001b[43mbuffer_callback\u001b[49m\u001b[38;5;241;43m=\u001b[39;49m\u001b[43mbuffer_callback\u001b[49m\n\u001b[0;32m---> 57\u001b[0m \u001b[43m    \u001b[49m\u001b[43m)\u001b[49m\u001b[38;5;241;43m.\u001b[39;49m\u001b[43mdump\u001b[49m\u001b[43m(\u001b[49m\u001b[43mobj\u001b[49m\u001b[43m)\u001b[49m\n",
      "File \u001b[0;32m/usr/local/lib/python3.10/dist-packages/pyspark/cloudpickle/cloudpickle_fast.py:632\u001b[0m, in \u001b[0;36mCloudPickler.dump\u001b[0;34m(self, obj)\u001b[0m\n\u001b[1;32m    630\u001b[0m \u001b[38;5;28;01mdef\u001b[39;00m \u001b[38;5;21mdump\u001b[39m(\u001b[38;5;28mself\u001b[39m, obj):\n\u001b[1;32m    631\u001b[0m     \u001b[38;5;28;01mtry\u001b[39;00m:\n\u001b[0;32m--> 632\u001b[0m         \u001b[38;5;28;01mreturn\u001b[39;00m \u001b[43mPickler\u001b[49m\u001b[38;5;241;43m.\u001b[39;49m\u001b[43mdump\u001b[49m\u001b[43m(\u001b[49m\u001b[38;5;28;43mself\u001b[39;49m\u001b[43m,\u001b[49m\u001b[43m \u001b[49m\u001b[43mobj\u001b[49m\u001b[43m)\u001b[49m\n\u001b[1;32m    633\u001b[0m     \u001b[38;5;28;01mexcept\u001b[39;00m \u001b[38;5;167;01mRuntimeError\u001b[39;00m \u001b[38;5;28;01mas\u001b[39;00m e:\n\u001b[1;32m    634\u001b[0m         \u001b[38;5;28;01mif\u001b[39;00m \u001b[38;5;28mlen\u001b[39m(e\u001b[38;5;241m.\u001b[39margs) \u001b[38;5;241m>\u001b[39m \u001b[38;5;241m0\u001b[39m \u001b[38;5;129;01mand\u001b[39;00m \u001b[38;5;124m\"\u001b[39m\u001b[38;5;124mrecursion\u001b[39m\u001b[38;5;124m\"\u001b[39m \u001b[38;5;129;01min\u001b[39;00m e\u001b[38;5;241m.\u001b[39margs[\u001b[38;5;241m0\u001b[39m]:\n",
      "File \u001b[0;32m/usr/local/lib/python3.10/dist-packages/pyspark/context.py:466\u001b[0m, in \u001b[0;36mSparkContext.__getnewargs__\u001b[0;34m(self)\u001b[0m\n\u001b[1;32m    464\u001b[0m \u001b[38;5;28;01mdef\u001b[39;00m \u001b[38;5;21m__getnewargs__\u001b[39m(\u001b[38;5;28mself\u001b[39m) \u001b[38;5;241m-\u001b[39m\u001b[38;5;241m>\u001b[39m NoReturn:\n\u001b[1;32m    465\u001b[0m     \u001b[38;5;66;03m# This method is called when attempting to pickle SparkContext, which is always an error:\u001b[39;00m\n\u001b[0;32m--> 466\u001b[0m     \u001b[38;5;28;01mraise\u001b[39;00m PySparkRuntimeError(\n\u001b[1;32m    467\u001b[0m         error_class\u001b[38;5;241m=\u001b[39m\u001b[38;5;124m\"\u001b[39m\u001b[38;5;124mCONTEXT_ONLY_VALID_ON_DRIVER\u001b[39m\u001b[38;5;124m\"\u001b[39m,\n\u001b[1;32m    468\u001b[0m         message_parameters\u001b[38;5;241m=\u001b[39m{},\n\u001b[1;32m    469\u001b[0m     )\n",
      "\u001b[0;31mPySparkRuntimeError\u001b[0m: [CONTEXT_ONLY_VALID_ON_DRIVER] It appears that you are attempting to reference SparkContext from a broadcast variable, action, or transformation. SparkContext can only be used on the driver, not in code that it run on workers. For more information, see SPARK-5063."
     ]
    }
   ],
   "source": [
    "from pyspark.ml.torch.distributor import TorchDistributor\n",
    "\n",
    "single_node_multi_gpu_dir = create_log_dir(exp_dir=PYTORCH_DIR)\n",
    "print(\"Data is located at: \", single_node_multi_gpu_dir)\n",
    "\n",
    "use_gpu = False if device.type == \"cpu\" else True\n",
    "output = TorchDistributor(num_processes=2, local_mode=True, use_gpu=use_gpu).run(\n",
    "    main_fn,\n",
    "    single_node_multi_gpu_dir,\n",
    "    train_df,\n",
    "    valid_df,\n",
    "    batch_size,\n",
    "    num_epochs,\n",
    "    momentum,\n",
    "    learning_rate,\n",
    ")\n",
    "test(single_node_multi_gpu_dir)"
   ]
  },
  {
   "cell_type": "code",
   "execution_count": null,
   "metadata": {},
   "outputs": [],
   "source": []
  },
  {
   "cell_type": "code",
   "execution_count": null,
   "metadata": {},
   "outputs": [],
   "source": []
  }
 ],
 "metadata": {
  "kernelspec": {
   "display_name": "Python 3",
   "language": "python",
   "name": "python3"
  },
  "language_info": {
   "codemirror_mode": {
    "name": "ipython",
    "version": 3
   },
   "file_extension": ".py",
   "mimetype": "text/x-python",
   "name": "python",
   "nbconvert_exporter": "python",
   "pygments_lexer": "ipython3",
   "version": "3.10.12"
  }
 },
 "nbformat": 4,
 "nbformat_minor": 2
}
