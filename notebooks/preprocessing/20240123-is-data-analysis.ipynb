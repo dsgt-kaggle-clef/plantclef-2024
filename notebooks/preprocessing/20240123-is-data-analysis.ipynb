{
 "cells": [
  {
   "cell_type": "code",
   "execution_count": null,
   "metadata": {},
   "outputs": [],
   "source": [
    "! mkdir -p /mnt/data/raw\n",
    "%cd /mnt/data/raw"
   ]
  },
  {
   "cell_type": "code",
   "execution_count": null,
   "metadata": {},
   "outputs": [],
   "source": [
    "! wget --no-check-certificate https://lab.plantnet.org/LifeCLEF/PlantCLEF2022/train/web/PlantCLEF2022_web_training_images_1.tar.gz\n",
    "## nee"
   ]
  },
  {
   "cell_type": "code",
   "execution_count": null,
   "metadata": {},
   "outputs": [],
   "source": [
    "! gcloud storage rsync -R /mnt/data/ gs://dsgt-clef-plantclef-2024/"
   ]
  },
  {
   "cell_type": "code",
   "execution_count": null,
   "metadata": {},
   "outputs": [],
   "source": []
  }
 ],
 "metadata": {
  "language_info": {
   "name": "python"
  }
 },
 "nbformat": 4,
 "nbformat_minor": 2
}
