{
 "cells": [
  {
   "cell_type": "markdown",
   "metadata": {},
   "source": [
    "## image paths"
   ]
  },
  {
   "cell_type": "code",
   "execution_count": 1,
   "metadata": {},
   "outputs": [],
   "source": [
    "%load_ext autoreload\n",
    "%autoreload 2"
   ]
  },
  {
   "cell_type": "markdown",
   "metadata": {},
   "source": [
    "### testing spark setup"
   ]
  },
  {
   "cell_type": "code",
   "execution_count": 2,
   "metadata": {},
   "outputs": [
    {
     "name": "stdout",
     "output_type": "stream",
     "text": [
      "gs://dsgt-clef-plantclef-2024/raw/PlantCLEF2022_web_training_images_1.tar.gz\n"
     ]
    }
   ],
   "source": [
    "# let's check that the initial data from murilo is theres\n",
    "! gcloud storage ls gs://dsgt-clef-plantclef-2024/raw/PlantCLEF2022_web_training_images_1.tar.gz | head"
   ]
  },
  {
   "cell_type": "code",
   "execution_count": 3,
   "metadata": {},
   "outputs": [
    {
     "name": "stderr",
     "output_type": "stream",
     "text": [
      "Setting default log level to \"WARN\".\n",
      "To adjust logging level use sc.setLogLevel(newLevel). For SparkR, use setLogLevel(newLevel).\n",
      "24/02/25 14:56:45 WARN NativeCodeLoader: Unable to load native-hadoop library for your platform... using builtin-java classes where applicable\n",
      "24/02/25 14:56:45 WARN SparkConf: Note that spark.local.dir will be overridden by the value set by the cluster manager (via SPARK_LOCAL_DIRS in mesos/standalone/kubernetes and LOCAL_DIRS in YARN).\n"
     ]
    },
    {
     "data": {
      "text/html": [
       "\n",
       "            <div>\n",
       "                <p><b>SparkSession - in-memory</b></p>\n",
       "                \n",
       "        <div>\n",
       "            <p><b>SparkContext</b></p>\n",
       "\n",
       "            <p><a href=\"http://plantclef-dev.us-central1-a.c.dsgt-clef-2024.internal:4040\">Spark UI</a></p>\n",
       "\n",
       "            <dl>\n",
       "              <dt>Version</dt>\n",
       "                <dd><code>v3.5.0</code></dd>\n",
       "              <dt>Master</dt>\n",
       "                <dd><code>local[*]</code></dd>\n",
       "              <dt>AppName</dt>\n",
       "                <dd><code>pyspark-shell</code></dd>\n",
       "            </dl>\n",
       "        </div>\n",
       "        \n",
       "            </div>\n",
       "        "
      ],
      "text/plain": [
       "<pyspark.sql.session.SparkSession at 0x7f5c1816cdc0>"
      ]
     },
     "metadata": {},
     "output_type": "display_data"
    }
   ],
   "source": [
    "import os\n",
    "from pathlib import Path\n",
    "from pyspark.sql.functions import regexp_replace, split, element_at\n",
    "from pyspark.sql import Row\n",
    "from plantclef.utils import get_spark\n",
    "\n",
    "spark = get_spark()\n",
    "display(spark)"
   ]
  },
  {
   "cell_type": "code",
   "execution_count": null,
   "metadata": {},
   "outputs": [],
   "source": [
    "# Base directory using pathlib\n",
    "curr_dir = Path(os.getcwd())\n",
    "base_dir = curr_dir.parents[1] / \"data\" / \"SnakeCLEF2023-small_size\"\n",
    "\n",
    "# Load all files from the base directory as binary data\n",
    "# Convert Path object to string when passing to PySpark\n",
    "image_df = (\n",
    "    spark.read.format(\"binaryFile\")\n",
    "    .option(\"pathGlobFilter\", \"*.jpg\")\n",
    "    .option(\"recursiveFileLookup\", \"true\")\n",
    "    .load(base_dir.as_posix())\n",
    ")\n",
    "\n",
    "# Construct the string to be replaced - adjust this based on your actual base path\n",
    "to_remove = \"file:\" + str(base_dir.parents[0])\n",
    "\n",
    "# Remove \"file:{base_dir.parents[0]\" from path column\n",
    "image_df = image_df.withColumn(\"path\", regexp_replace(\"path\", to_remove, \"\"))\n",
    "\n",
    "# Split the path into an array of elements\n",
    "split_path = split(image_df[\"path\"], \"/\")\n",
    "\n",
    "# Extract metadata from the file path\n",
    "image_final_df = (\n",
    "    image_df.withColumn(\"folder_name\", element_at(split_path, -4))\n",
    "    .withColumn(\"year\", element_at(split_path, -3))\n",
    "    .withColumn(\"binomial_name\", element_at(split_path, -2))\n",
    "    .withColumn(\"file_name\", element_at(split_path, -1))\n",
    ")\n",
    "\n",
    "# Select and rename columns to fit the target schema, including renaming 'content' to 'image_binary_data'\n",
    "image_final_df = image_final_df.select(\n",
    "    \"path\",\n",
    "    \"folder_name\",\n",
    "    \"year\",\n",
    "    \"binomial_name\",\n",
    "    \"file_name\",\n",
    "    image_final_df[\"content\"].alias(\"data\"),\n",
    ")\n",
    "\n",
    "# Create a new column \"image_path\" by removing \"/SnakeCLEF2023-small_size/\" from \"path\"\n",
    "image_final_df = image_final_df.withColumn(\n",
    "    \"image_path\", regexp_replace(\"path\", f\"^/{base_dir.parts[-1]}/\", \"\")\n",
    ")\n",
    "\n",
    "# Print Schema"
   ]
  },
  {
   "cell_type": "code",
   "execution_count": null,
   "metadata": {},
   "outputs": [],
   "source": []
  }
 ],
 "metadata": {
  "kernelspec": {
   "display_name": "Python 3",
   "language": "python",
   "name": "python3"
  },
  "language_info": {
   "codemirror_mode": {
    "name": "ipython",
    "version": 3
   },
   "file_extension": ".py",
   "mimetype": "text/x-python",
   "name": "python",
   "nbconvert_exporter": "python",
   "pygments_lexer": "ipython3",
   "version": "3.10.12"
  }
 },
 "nbformat": 4,
 "nbformat_minor": 2
}
