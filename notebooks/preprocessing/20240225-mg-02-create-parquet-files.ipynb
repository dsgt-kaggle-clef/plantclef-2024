{
 "cells": [
  {
   "cell_type": "markdown",
   "metadata": {},
   "source": [
    "# Create parquet files in GCS"
   ]
  },
  {
   "cell_type": "code",
   "execution_count": 1,
   "metadata": {},
   "outputs": [],
   "source": [
    "%load_ext autoreload\n",
    "%autoreload 2"
   ]
  },
  {
   "cell_type": "code",
   "execution_count": 2,
   "metadata": {},
   "outputs": [
    {
     "name": "stderr",
     "output_type": "stream",
     "text": [
      "Setting default log level to \"WARN\".\n",
      "To adjust logging level use sc.setLogLevel(newLevel). For SparkR, use setLogLevel(newLevel).\n",
      "24/02/26 01:06:45 WARN NativeCodeLoader: Unable to load native-hadoop library for your platform... using builtin-java classes where applicable\n",
      "24/02/26 01:06:45 WARN SparkConf: Note that spark.local.dir will be overridden by the value set by the cluster manager (via SPARK_LOCAL_DIRS in mesos/standalone/kubernetes and LOCAL_DIRS in YARN).\n"
     ]
    },
    {
     "data": {
      "text/html": [
       "\n",
       "            <div>\n",
       "                <p><b>SparkSession - in-memory</b></p>\n",
       "                \n",
       "        <div>\n",
       "            <p><b>SparkContext</b></p>\n",
       "\n",
       "            <p><a href=\"http://plantclef-dev.us-central1-a.c.dsgt-clef-2024.internal:4040\">Spark UI</a></p>\n",
       "\n",
       "            <dl>\n",
       "              <dt>Version</dt>\n",
       "                <dd><code>v3.5.0</code></dd>\n",
       "              <dt>Master</dt>\n",
       "                <dd><code>local[*]</code></dd>\n",
       "              <dt>AppName</dt>\n",
       "                <dd><code>pyspark-shell</code></dd>\n",
       "            </dl>\n",
       "        </div>\n",
       "        \n",
       "            </div>\n",
       "        "
      ],
      "text/plain": [
       "<pyspark.sql.session.SparkSession at 0x7f5352596140>"
      ]
     },
     "metadata": {},
     "output_type": "display_data"
    }
   ],
   "source": [
    "from plantclef.utils import get_spark\n",
    "import os\n",
    "from pathlib import Path\n",
    "\n",
    "spark = get_spark()\n",
    "display(spark)"
   ]
  },
  {
   "cell_type": "code",
   "execution_count": 3,
   "metadata": {},
   "outputs": [
    {
     "name": "stdout",
     "output_type": "stream",
     "text": [
      "gs://dsgt-clef-plantclef-2024/data/parquet_files/\n",
      "\n",
      "gs://dsgt-clef-plantclef-2024/data/parquet_files/:\n",
      "gs://dsgt-clef-plantclef-2024/data/parquet_files/\n"
     ]
    }
   ],
   "source": [
    "# Get list of stored filed in cloud bucket\n",
    "! gcloud storage ls gs://dsgt-clef-plantclef-2024/data/parquet_files/"
   ]
  },
  {
   "cell_type": "code",
   "execution_count": 4,
   "metadata": {},
   "outputs": [],
   "source": [
    "# Get current directory\n",
    "curr_dir = Path(os.getcwd())\n",
    "\n",
    "# Change to the project directory to run the scripts\n",
    "os.chdir(curr_dir.parents[1])"
   ]
  },
  {
   "cell_type": "code",
   "execution_count": 5,
   "metadata": {},
   "outputs": [],
   "source": [
    "import os\n",
    "\n",
    "\n",
    "def process_dataset(dataset_name, meta_dataset_name, delete_dataset: bool = True):\n",
    "    # Define the base directory\n",
    "    base_dir = \"/mnt/data\"\n",
    "\n",
    "    # Define the path for the script and Python script\n",
    "    script_path = \"./scripts/download_extract_dataset.sh\"\n",
    "    python_script_path = \"./plantclef/images_to_parquet.py\"\n",
    "\n",
    "    # Define the GCS paths\n",
    "    gcs_path = f\"gs://dsgt-clef-plantclef-2024/raw/{dataset_name}.tar.gz\"\n",
    "    output_path = f\"gs://dsgt-clef-plantclef-2024/data/parquet_files/{dataset_name}\"\n",
    "\n",
    "    # Adjust the dataset_name for the --dataset-name parameter\n",
    "    adjusted_dataset_name = (\n",
    "        dataset_name.replace(\"train-\", \"\")\n",
    "        .replace(\"val-\", \"\")\n",
    "        .replace(\"pubtest\", \"pubtest\")\n",
    "    )\n",
    "\n",
    "    # Download and extract the dataset\n",
    "    os.system(f\"{script_path} {gcs_path} {base_dir}\")\n",
    "\n",
    "    # Create parquet file\n",
    "    os.system(\n",
    "        f\"python {python_script_path} --output-path {output_path} --dataset-name {adjusted_dataset_name} --meta-dataset-name {meta_dataset_name}\"\n",
    "    )\n",
    "\n",
    "    if delete_dataset:\n",
    "        # Delete dataset locally before loading the next one\n",
    "        local_data_path = f\"./data/{adjusted_dataset_name}\"\n",
    "        local_tar_path = f\"./data/{dataset_name}.tar.gz\"\n",
    "        os.system(f\"rm -rf {local_data_path}\")\n",
    "        os.system(f\"rm -f {local_tar_path}\")"
   ]
  },
  {
   "cell_type": "markdown",
   "metadata": {},
   "source": [
    "### web training images 1"
   ]
  },
  {
   "cell_type": "code",
   "execution_count": 6,
   "metadata": {},
   "outputs": [
    {
     "name": "stdout",
     "output_type": "stream",
     "text": [
      "Using dataset URL: gs://dsgt-clef-plantclef-2024/raw/PlantCLEF2022_web_training_images_1.tar.gz\n",
      "Downloading dataset to: /mnt/data\n",
      "Permissions set for /mnt/data.\n",
      "Downloading dataset...\n"
     ]
    },
    {
     "name": "stderr",
     "output_type": "stream",
     "text": [
      "mount: /mnt/data: /dev/nvme0n1 already mounted on /mnt/data.\n",
      "Copying gs://dsgt-clef-plantclef-2024/raw/PlantCLEF2022_web_training_images_1.tar.gz to file:///mnt/data/PlantCLEF2022_web_training_images_1.tar.gz\n",
      "  \n",
      "........\n",
      "\n",
      "Average throughput: 496.8MiB/s\n"
     ]
    },
    {
     "name": "stdout",
     "output_type": "stream",
     "text": [
      "Extracting dataset...\n",
      "Dataset extracted to /mnt/data.\n",
      "Renaming 'images' folder to 'PlantCLEF2022_web_training_images_1'\n",
      "Final contents of /mnt/data:\n",
      "PlantCLEF2022_web_training_images_1\n",
      "PlantCLEF2022_web_training_images_1.tar.gz\n",
      "lost+found\n",
      "tmp\n",
      "Disk usage and free space:\n",
      "Filesystem      Size  Used Avail Use% Mounted on\n",
      "/dev/root        29G   25G  4.7G  84% /\n",
      "tmpfs           7.4G     0  7.4G   0% /dev/shm\n",
      "tmpfs           3.0G  1.1M  3.0G   1% /run\n",
      "tmpfs           5.0M     0  5.0M   0% /run/lock\n",
      "/dev/sda15      105M  6.1M   99M   6% /boot/efi\n",
      "/dev/nvme0n1    369G  1.5G  348G   1% /mnt/data\n",
      "tmpfs           1.5G  8.0K  1.5G   1% /run/user/1012\n",
      "Script completed successfully.\n"
     ]
    },
    {
     "name": "stderr",
     "output_type": "stream",
     "text": [
      "Setting default log level to \"WARN\".\n",
      "To adjust logging level use sc.setLogLevel(newLevel). For SparkR, use setLogLevel(newLevel).\n",
      "24/02/26 01:07:04 WARN NativeCodeLoader: Unable to load native-hadoop library for your platform... using builtin-java classes where applicable\n",
      "24/02/26 01:07:04 WARN SparkConf: Note that spark.local.dir will be overridden by the value set by the cluster manager (via SPARK_LOCAL_DIRS in mesos/standalone/kubernetes and LOCAL_DIRS in YARN).\n",
      "24/02/26 01:07:05 WARN Utils: Service 'SparkUI' could not bind on port 4040. Attempting port 4041.\n",
      "                                                                                \r"
     ]
    }
   ],
   "source": [
    "# Define dataset names\n",
    "data_name = \"PlantCLEF2022_web_training_images_1\"\n",
    "meta_name = \"PlantCLEF2022_web_training_metadata\"\n",
    "\n",
    "# Process the data\n",
    "process_dataset(dataset_name=data_name, meta_dataset_name=meta_name)"
   ]
  },
  {
   "cell_type": "markdown",
   "metadata": {},
   "source": [
    "### web training images 4"
   ]
  },
  {
   "cell_type": "code",
   "execution_count": 7,
   "metadata": {},
   "outputs": [
    {
     "name": "stdout",
     "output_type": "stream",
     "text": [
      "Using dataset URL: gs://dsgt-clef-plantclef-2024/raw/PlantCLEF2022_web_training_images_4.tar.gz\n",
      "Downloading dataset to: /mnt/data\n",
      "Permissions set for /mnt/data.\n",
      "Downloading dataset...\n"
     ]
    },
    {
     "name": "stderr",
     "output_type": "stream",
     "text": [
      "mount: /mnt/data: /dev/nvme0n1 already mounted on /mnt/data.\n",
      "Copying gs://dsgt-clef-plantclef-2024/raw/PlantCLEF2022_web_training_images_4.tar.gz to file:///mnt/data/PlantCLEF2022_web_training_images_4.tar.gz\n",
      "  \n",
      ".....................................................\n",
      "\n",
      "Average throughput: 459.2MiB/s\n"
     ]
    },
    {
     "name": "stdout",
     "output_type": "stream",
     "text": [
      "Extracting dataset...\n",
      "Dataset extracted to /mnt/data.\n",
      "Renaming 'images' folder to 'PlantCLEF2022_web_training_images_4'\n",
      "Final contents of /mnt/data:\n",
      "PlantCLEF2022_web_training_images_4\n",
      "PlantCLEF2022_web_training_images_4.tar.gz\n",
      "lost+found\n",
      "tmp\n",
      "Disk usage and free space:\n",
      "Filesystem      Size  Used Avail Use% Mounted on\n",
      "/dev/root        29G   25G  4.7G  84% /\n",
      "tmpfs           7.4G     0  7.4G   0% /dev/shm\n",
      "tmpfs           3.0G  1.1M  3.0G   1% /run\n",
      "tmpfs           5.0M     0  5.0M   0% /run/lock\n",
      "/dev/sda15      105M  6.1M   99M   6% /boot/efi\n",
      "/dev/nvme0n1    369G  9.6G  340G   3% /mnt/data\n",
      "tmpfs           1.5G  8.0K  1.5G   1% /run/user/1012\n",
      "Script completed successfully.\n"
     ]
    },
    {
     "name": "stderr",
     "output_type": "stream",
     "text": [
      "Setting default log level to \"WARN\".\n",
      "To adjust logging level use sc.setLogLevel(newLevel). For SparkR, use setLogLevel(newLevel).\n",
      "24/02/26 01:09:14 WARN NativeCodeLoader: Unable to load native-hadoop library for your platform... using builtin-java classes where applicable\n",
      "24/02/26 01:09:14 WARN SparkConf: Note that spark.local.dir will be overridden by the value set by the cluster manager (via SPARK_LOCAL_DIRS in mesos/standalone/kubernetes and LOCAL_DIRS in YARN).\n",
      "24/02/26 01:09:15 WARN Utils: Service 'SparkUI' could not bind on port 4040. Attempting port 4041.\n",
      "                                                                                \r"
     ]
    }
   ],
   "source": [
    "# Define dataset names\n",
    "data_name = \"PlantCLEF2022_web_training_images_4\"\n",
    "meta_name = \"PlantCLEF2022_web_training_metadata\"\n",
    "\n",
    "# Process the data\n",
    "process_dataset(dataset_name=data_name, meta_dataset_name=meta_name)"
   ]
  },
  {
   "cell_type": "code",
   "execution_count": null,
   "metadata": {},
   "outputs": [],
   "source": []
  }
 ],
 "metadata": {
  "kernelspec": {
   "display_name": "Python 3",
   "language": "python",
   "name": "python3"
  },
  "language_info": {
   "codemirror_mode": {
    "name": "ipython",
    "version": 3
   },
   "file_extension": ".py",
   "mimetype": "text/x-python",
   "name": "python",
   "nbconvert_exporter": "python",
   "pygments_lexer": "ipython3",
   "version": "3.10.12"
  }
 },
 "nbformat": 4,
 "nbformat_minor": 2
}
