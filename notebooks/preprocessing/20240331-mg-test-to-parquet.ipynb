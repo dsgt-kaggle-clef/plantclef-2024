{
 "cells": [
  {
   "cell_type": "markdown",
   "metadata": {},
   "source": [
    "# Test to Parquet pipeline"
   ]
  },
  {
   "cell_type": "code",
   "execution_count": 1,
   "metadata": {},
   "outputs": [],
   "source": [
    "%load_ext autoreload\n",
    "%autoreload 2"
   ]
  },
  {
   "cell_type": "markdown",
   "metadata": {},
   "source": [
    "### testing spark setup"
   ]
  },
  {
   "cell_type": "code",
   "execution_count": 2,
   "metadata": {},
   "outputs": [
    {
     "name": "stdout",
     "output_type": "stream",
     "text": [
      "gs://dsgt-clef-plantclef-2024/raw/PlantCLEF2022_web_training_images_1.tar.gz\n",
      "gs://dsgt-clef-plantclef-2024/raw/PlantCLEF2022_web_training_images_2.tar.gz\n",
      "gs://dsgt-clef-plantclef-2024/raw/PlantCLEF2022_web_training_images_3.tar.gz\n",
      "gs://dsgt-clef-plantclef-2024/raw/PlantCLEF2022_web_training_images_4.tar.gz\n",
      "gs://dsgt-clef-plantclef-2024/raw/PlantCLEF2022_web_training_metadata.csv\n",
      "gs://dsgt-clef-plantclef-2024/raw/PlantCLEF2022_web_training_metadata.tar.gz\n",
      "gs://dsgt-clef-plantclef-2024/raw/PlantCLEF2024singleplanttrainingdata.csv\n",
      "gs://dsgt-clef-plantclef-2024/raw/PlantCLEF2024singleplanttrainingdata.tar\n",
      "gs://dsgt-clef-plantclef-2024/raw/PlantCLEF2024test.tar\n",
      "gs://dsgt-clef-plantclef-2024/raw/args.yaml\n"
     ]
    }
   ],
   "source": [
    "# let's check that the initial data from murilo is theres\n",
    "! gcloud storage ls gs://dsgt-clef-plantclef-2024/raw/ | head"
   ]
  },
  {
   "cell_type": "code",
   "execution_count": 3,
   "metadata": {},
   "outputs": [
    {
     "name": "stderr",
     "output_type": "stream",
     "text": [
      "Setting default log level to \"WARN\".\n",
      "To adjust logging level use sc.setLogLevel(newLevel). For SparkR, use setLogLevel(newLevel).\n",
      "24/03/31 14:59:39 WARN NativeCodeLoader: Unable to load native-hadoop library for your platform... using builtin-java classes where applicable\n",
      "24/03/31 14:59:40 WARN SparkConf: Note that spark.local.dir will be overridden by the value set by the cluster manager (via SPARK_LOCAL_DIRS in mesos/standalone/kubernetes and LOCAL_DIRS in YARN).\n"
     ]
    },
    {
     "data": {
      "text/html": [
       "\n",
       "            <div>\n",
       "                <p><b>SparkSession - in-memory</b></p>\n",
       "                \n",
       "        <div>\n",
       "            <p><b>SparkContext</b></p>\n",
       "\n",
       "            <p><a href=\"http://plantclef-dev.us-central1-a.c.dsgt-clef-2024.internal:4040\">Spark UI</a></p>\n",
       "\n",
       "            <dl>\n",
       "              <dt>Version</dt>\n",
       "                <dd><code>v3.5.0</code></dd>\n",
       "              <dt>Master</dt>\n",
       "                <dd><code>local[*]</code></dd>\n",
       "              <dt>AppName</dt>\n",
       "                <dd><code>pyspark-shell</code></dd>\n",
       "            </dl>\n",
       "        </div>\n",
       "        \n",
       "            </div>\n",
       "        "
      ],
      "text/plain": [
       "<pyspark.sql.session.SparkSession at 0x7fed3e32a320>"
      ]
     },
     "metadata": {},
     "output_type": "display_data"
    }
   ],
   "source": [
    "import os\n",
    "from pathlib import Path\n",
    "from pyspark.sql import functions as F\n",
    "from plantclef.utils import get_spark\n",
    "\n",
    "spark = get_spark(cores=4, memory=\"12g\")\n",
    "display(spark)"
   ]
  },
  {
   "cell_type": "code",
   "execution_count": 4,
   "metadata": {},
   "outputs": [
    {
     "data": {
      "text/plain": [
       "PosixPath('/home/mgustine/plantclef-2024/data/PlantCLEF2024test')"
      ]
     },
     "execution_count": 4,
     "metadata": {},
     "output_type": "execute_result"
    }
   ],
   "source": [
    "# Base directory using pathlib\n",
    "curr_dir = Path(os.getcwd())\n",
    "base_dir = curr_dir.parents[1] / \"data\" / \"PlantCLEF2024test\"\n",
    "base_dir"
   ]
  },
  {
   "cell_type": "code",
   "execution_count": 5,
   "metadata": {},
   "outputs": [
    {
     "name": "stdout",
     "output_type": "stream",
     "text": [
      "root\n",
      " |-- path: string (nullable = true)\n",
      " |-- image_name: string (nullable = true)\n",
      " |-- data: binary (nullable = true)\n",
      "\n"
     ]
    }
   ],
   "source": [
    "# Load all files from the base directory as binary data\n",
    "# Convert Path object to string when passing to PySpark\n",
    "image_df = (\n",
    "    spark.read.format(\"binaryFile\")\n",
    "    .option(\"pathGlobFilter\", \"*.jpg\")\n",
    "    .option(\"recursiveFileLookup\", \"true\")\n",
    "    .load(base_dir.as_posix())\n",
    ")\n",
    "\n",
    "# Construct the string to be replaced - adjust this based on your actual base path\n",
    "to_remove = \"file:\" + str(base_dir.parents[0])\n",
    "\n",
    "# Remove \"file:{base_dir.parents[0]\" from path column\n",
    "image_df = image_df.withColumn(\"path\", F.regexp_replace(\"path\", to_remove, \"\"))\n",
    "\n",
    "# Split the path into an array of elements\n",
    "split_path = F.split(image_df[\"path\"], \"/\")\n",
    "\n",
    "# Select and rename columns to fit the target schema, including renaming 'content' to 'data'\n",
    "image_final_df = image_df.select(\n",
    "    \"path\",\n",
    "    F.element_at(split_path, -1).alias(\"image_name\"),\n",
    "    F.col(\"content\").alias(\"data\"),\n",
    ")\n",
    "\n",
    "# Print Schema\n",
    "image_final_df.printSchema()"
   ]
  },
  {
   "cell_type": "code",
   "execution_count": 6,
   "metadata": {},
   "outputs": [
    {
     "name": "stderr",
     "output_type": "stream",
     "text": [
      "                                                                                \r"
     ]
    },
    {
     "name": "stdout",
     "output_type": "stream",
     "text": [
      "+-------------------------------------------+------------------------+----------------------------------------------------------------------------------------------------+\n",
      "|                                       path|              image_name|                                                                                                data|\n",
      "+-------------------------------------------+------------------------+----------------------------------------------------------------------------------------------------+\n",
      "| /PlantCLEF2024test/CBN-Pla-D4-20140722.jpg| CBN-Pla-D4-20140722.jpg|[FF D8 FF E0 00 10 4A 46 49 46 00 01 01 01 00 48 00 48 00 00 FF E1 28 CE 45 78 69 66 00 00 49 49 ...|\n",
      "| /PlantCLEF2024test/CBN-Pla-E5-20130904.jpg| CBN-Pla-E5-20130904.jpg|[FF D8 FF E0 00 10 4A 46 49 46 00 01 01 01 00 48 00 48 00 00 FF E1 28 CE 45 78 69 66 00 00 49 49 ...|\n",
      "|/PlantCLEF2024test/CBN-PdlC-D2-20130903.jpg|CBN-PdlC-D2-20130903.jpg|[FF D8 FF E0 00 10 4A 46 49 46 00 01 01 01 00 48 00 48 00 00 FF E1 28 CE 45 78 69 66 00 00 49 49 ...|\n",
      "|/PlantCLEF2024test/CBN-PdlC-D1-20140901.jpg|CBN-PdlC-D1-20140901.jpg|[FF D8 FF E0 00 10 4A 46 49 46 00 01 01 01 00 48 00 48 00 00 FF E1 28 CE 45 78 69 66 00 00 49 49 ...|\n",
      "| /PlantCLEF2024test/CBN-Pla-D1-20130904.jpg| CBN-Pla-D1-20130904.jpg|[FF D8 FF E0 00 10 4A 46 49 46 00 01 01 01 00 48 00 48 00 00 FF E1 28 CE 45 78 69 66 00 00 49 49 ...|\n",
      "|/PlantCLEF2024test/CBN-PdlC-D2-20140901.jpg|CBN-PdlC-D2-20140901.jpg|[FF D8 FF E0 00 10 4A 46 49 46 00 01 01 01 00 48 00 48 00 00 FF E1 28 CE 45 78 69 66 00 00 49 49 ...|\n",
      "| /PlantCLEF2024test/CBN-Pla-D3-20140722.jpg| CBN-Pla-D3-20140722.jpg|[FF D8 FF E0 00 10 4A 46 49 46 00 01 01 01 00 48 00 48 00 00 FF E1 28 CE 45 78 69 66 00 00 49 49 ...|\n",
      "| /PlantCLEF2024test/CBN-Pla-D2-20140722.jpg| CBN-Pla-D2-20140722.jpg|[FF D8 FF E0 00 10 4A 46 49 46 00 01 01 01 00 48 00 48 00 00 FF E1 28 CE 45 78 69 66 00 00 49 49 ...|\n",
      "| /PlantCLEF2024test/CBN-Pla-B4-20130808.jpg| CBN-Pla-B4-20130808.jpg|[FF D8 FF E0 00 10 4A 46 49 46 00 01 01 01 00 48 00 48 00 00 FF E1 28 CE 45 78 69 66 00 00 49 49 ...|\n",
      "|/PlantCLEF2024test/CBN-PdlC-F4-20140630.jpg|CBN-PdlC-F4-20140630.jpg|[FF D8 FF E0 00 10 4A 46 49 46 00 01 01 01 00 48 00 48 00 00 FF E1 28 CE 45 78 69 66 00 00 49 49 ...|\n",
      "+-------------------------------------------+------------------------+----------------------------------------------------------------------------------------------------+\n",
      "only showing top 10 rows\n",
      "\n"
     ]
    }
   ],
   "source": [
    "image_final_df.show(n=10, truncate=100)"
   ]
  },
  {
   "cell_type": "markdown",
   "metadata": {},
   "source": []
  },
  {
   "cell_type": "code",
   "execution_count": null,
   "metadata": {},
   "outputs": [],
   "source": []
  }
 ],
 "metadata": {
  "kernelspec": {
   "display_name": "Python 3",
   "language": "python",
   "name": "python3"
  },
  "language_info": {
   "codemirror_mode": {
    "name": "ipython",
    "version": 3
   },
   "file_extension": ".py",
   "mimetype": "text/x-python",
   "name": "python",
   "nbconvert_exporter": "python",
   "pygments_lexer": "ipython3",
   "version": "3.10.12"
  }
 },
 "nbformat": 4,
 "nbformat_minor": 2
}
