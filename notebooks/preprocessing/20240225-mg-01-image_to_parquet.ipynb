{
 "cells": [
  {
   "cell_type": "markdown",
   "metadata": {},
   "source": [
    "## Image to Parquet"
   ]
  },
  {
   "cell_type": "code",
   "execution_count": 1,
   "metadata": {},
   "outputs": [],
   "source": [
    "%load_ext autoreload\n",
    "%autoreload 2"
   ]
  },
  {
   "cell_type": "markdown",
   "metadata": {},
   "source": [
    "### testing spark setup"
   ]
  },
  {
   "cell_type": "code",
   "execution_count": 2,
   "metadata": {},
   "outputs": [
    {
     "name": "stdout",
     "output_type": "stream",
     "text": [
      "gs://dsgt-clef-plantclef-2024/raw/PlantCLEF2022_web_training_images_1.tar.gz\n",
      "gs://dsgt-clef-plantclef-2024/raw/PlantCLEF2022_web_training_images_2.tar.gz\n",
      "gs://dsgt-clef-plantclef-2024/raw/PlantCLEF2022_web_training_images_3.tar.gz\n",
      "gs://dsgt-clef-plantclef-2024/raw/PlantCLEF2022_web_training_images_4.tar.gz\n",
      "gs://dsgt-clef-plantclef-2024/raw/PlantCLEF2022_web_training_metadata.csv\n",
      "gs://dsgt-clef-plantclef-2024/raw/PlantCLEF2022_web_training_metadata.tar.gz\n",
      "gs://dsgt-clef-plantclef-2024/raw/PlantCLEF2024singleplanttrainingdata.csv\n",
      "gs://dsgt-clef-plantclef-2024/raw/PlantCLEF2024singleplanttrainingdata.tar\n",
      "gs://dsgt-clef-plantclef-2024/raw/args.yaml\n",
      "gs://dsgt-clef-plantclef-2024/raw/class_mapping.txt\n"
     ]
    }
   ],
   "source": [
    "# let's check that the initial data from murilo is theres\n",
    "! gcloud storage ls gs://dsgt-clef-plantclef-2024/raw/ | head"
   ]
  },
  {
   "cell_type": "code",
   "execution_count": 3,
   "metadata": {},
   "outputs": [
    {
     "name": "stderr",
     "output_type": "stream",
     "text": [
      "Setting default log level to \"WARN\".\n",
      "To adjust logging level use sc.setLogLevel(newLevel). For SparkR, use setLogLevel(newLevel).\n",
      "24/03/23 16:42:14 WARN NativeCodeLoader: Unable to load native-hadoop library for your platform... using builtin-java classes where applicable\n",
      "24/03/23 16:42:14 WARN SparkConf: Note that spark.local.dir will be overridden by the value set by the cluster manager (via SPARK_LOCAL_DIRS in mesos/standalone/kubernetes and LOCAL_DIRS in YARN).\n"
     ]
    },
    {
     "data": {
      "text/html": [
       "\n",
       "            <div>\n",
       "                <p><b>SparkSession - in-memory</b></p>\n",
       "                \n",
       "        <div>\n",
       "            <p><b>SparkContext</b></p>\n",
       "\n",
       "            <p><a href=\"http://big-disk-dev.us-central1-b.c.dsgt-clef-2024.internal:4040\">Spark UI</a></p>\n",
       "\n",
       "            <dl>\n",
       "              <dt>Version</dt>\n",
       "                <dd><code>v3.5.1</code></dd>\n",
       "              <dt>Master</dt>\n",
       "                <dd><code>local[*]</code></dd>\n",
       "              <dt>AppName</dt>\n",
       "                <dd><code>pyspark-shell</code></dd>\n",
       "            </dl>\n",
       "        </div>\n",
       "        \n",
       "            </div>\n",
       "        "
      ],
      "text/plain": [
       "<pyspark.sql.session.SparkSession at 0x757b704b26e0>"
      ]
     },
     "metadata": {},
     "output_type": "display_data"
    }
   ],
   "source": [
    "import os\n",
    "from pathlib import Path\n",
    "from pyspark.sql.functions import regexp_replace, split, element_at\n",
    "from pyspark.sql import Row\n",
    "from plantclef.utils import get_spark\n",
    "\n",
    "spark = get_spark()\n",
    "display(spark)"
   ]
  },
  {
   "cell_type": "code",
   "execution_count": 4,
   "metadata": {},
   "outputs": [
    {
     "data": {
      "text/plain": [
       "PosixPath('/home/mgustine/plantclef-2024/data/PlantCLEF2024')"
      ]
     },
     "execution_count": 4,
     "metadata": {},
     "output_type": "execute_result"
    }
   ],
   "source": [
    "# Base directory using pathlib\n",
    "curr_dir = Path(os.getcwd())\n",
    "base_dir = curr_dir.parents[1] / \"data\" / \"PlantCLEF2024\"\n",
    "base_dir"
   ]
  },
  {
   "cell_type": "code",
   "execution_count": 5,
   "metadata": {},
   "outputs": [
    {
     "name": "stderr",
     "output_type": "stream",
     "text": [
      "24/03/23 16:43:37 WARN SharedInMemoryCache: Evicting cached table partition metadata from memory due to size constraints (spark.sql.hive.filesourcePartitionFileCacheSize = 262144000 bytes). This may impact query planning performance.\n"
     ]
    },
    {
     "name": "stdout",
     "output_type": "stream",
     "text": [
      "root\n",
      " |-- path: string (nullable = true)\n",
      " |-- file_name: string (nullable = true)\n",
      " |-- data: binary (nullable = true)\n",
      " |-- image_path: string (nullable = true)\n",
      "\n"
     ]
    }
   ],
   "source": [
    "# Load all files from the base directory as binary data\n",
    "# Convert Path object to string when passing to PySpark\n",
    "image_df = (\n",
    "    spark.read.format(\"binaryFile\")\n",
    "    .option(\"pathGlobFilter\", \"*.jpg\")\n",
    "    .option(\"recursiveFileLookup\", \"true\")\n",
    "    .load(base_dir.as_posix())\n",
    ")\n",
    "\n",
    "# Construct the string to be replaced - adjust this based on your actual base path\n",
    "to_remove = \"file:\" + str(base_dir.parents[0])\n",
    "\n",
    "# Remove \"file:{base_dir.parents[0]\" from path column\n",
    "image_df = image_df.withColumn(\"path\", regexp_replace(\"path\", to_remove, \"\"))\n",
    "\n",
    "# Split the path into an array of elements\n",
    "split_path = split(image_df[\"path\"], \"/\")\n",
    "\n",
    "# Extract metadata from the file path\n",
    "image_final_df = image_df.withColumn(\"file_name\", element_at(split_path, -1))\n",
    "\n",
    "# Select and rename columns to fit the target schema, including renaming 'content' to 'data'\n",
    "image_final_df = image_final_df.select(\n",
    "    \"path\",\n",
    "    \"file_name\",\n",
    "    image_final_df[\"content\"].alias(\"data\"),\n",
    ")\n",
    "\n",
    "# Create a new column \"image_path\" by removing \"/images/\" from \"path\"\n",
    "image_final_df = image_final_df.withColumn(\n",
    "    \"image_path\", regexp_replace(\"path\", f\"^/{base_dir.parts[-1]}/\", \"\")\n",
    ")\n",
    "\n",
    "# Print Schema\n",
    "image_final_df.printSchema()"
   ]
  },
  {
   "cell_type": "code",
   "execution_count": 6,
   "metadata": {},
   "outputs": [
    {
     "name": "stderr",
     "output_type": "stream",
     "text": [
      "                                                                                \r"
     ]
    },
    {
     "name": "stdout",
     "output_type": "stream",
     "text": [
      "+--------------------+--------------------+--------------------+--------------------+\n",
      "|                path|           file_name|                data|          image_path|\n",
      "+--------------------+--------------------+--------------------+--------------------+\n",
      "|/PlantCLEF2024/tr...|2a286d5d4daa2daf4...|[FF D8 FF E0 00 1...|train/1363945/2a2...|\n",
      "|/PlantCLEF2024/tr...|11ca311532b09f32e...|[FF D8 FF E0 00 1...|train/1390138/11c...|\n",
      "|/PlantCLEF2024/tr...|cf66eb2121e182743...|[FF D8 FF E0 00 1...|train/1360943/cf6...|\n",
      "+--------------------+--------------------+--------------------+--------------------+\n",
      "only showing top 3 rows\n",
      "\n"
     ]
    }
   ],
   "source": [
    "image_final_df.show(n=3)"
   ]
  },
  {
   "cell_type": "markdown",
   "metadata": {},
   "source": [
    "### join image_df with metadata from GCS"
   ]
  },
  {
   "cell_type": "code",
   "execution_count": 7,
   "metadata": {},
   "outputs": [
    {
     "name": "stdout",
     "output_type": "stream",
     "text": [
      "gs://dsgt-clef-plantclef-2024/raw/PlantCLEF2022_web_training_images_1.tar.gz\n",
      "gs://dsgt-clef-plantclef-2024/raw/PlantCLEF2022_web_training_images_2.tar.gz\n",
      "gs://dsgt-clef-plantclef-2024/raw/PlantCLEF2022_web_training_images_3.tar.gz\n",
      "gs://dsgt-clef-plantclef-2024/raw/PlantCLEF2022_web_training_images_4.tar.gz\n",
      "gs://dsgt-clef-plantclef-2024/raw/PlantCLEF2022_web_training_metadata.csv\n",
      "gs://dsgt-clef-plantclef-2024/raw/PlantCLEF2022_web_training_metadata.tar.gz\n",
      "gs://dsgt-clef-plantclef-2024/raw/PlantCLEF2024singleplanttrainingdata.csv\n",
      "gs://dsgt-clef-plantclef-2024/raw/PlantCLEF2024singleplanttrainingdata.tar\n",
      "gs://dsgt-clef-plantclef-2024/raw/args.yaml\n",
      "gs://dsgt-clef-plantclef-2024/raw/class_mapping.txt\n",
      "gs://dsgt-clef-plantclef-2024/raw/index.html\n",
      "gs://dsgt-clef-plantclef-2024/raw/model_best.pth.tar\n",
      "gs://dsgt-clef-plantclef-2024/raw/readme.txt\n",
      "gs://dsgt-clef-plantclef-2024/raw/summary.csv\n",
      "gs://dsgt-clef-plantclef-2024/raw/urls.txt\n"
     ]
    }
   ],
   "source": [
    "# Get list of stored files in cloud bucket\n",
    "! gcloud storage ls gs://dsgt-clef-plantclef-2024/raw"
   ]
  },
  {
   "cell_type": "code",
   "execution_count": 9,
   "metadata": {},
   "outputs": [
    {
     "name": "stderr",
     "output_type": "stream",
     "text": [
      "24/03/23 16:46:03 WARN CacheManager: Asked to cache already cached data.        \n"
     ]
    },
    {
     "data": {
      "text/plain": [
       "DataFrame[image_name: string, organ: string, species_id: int, obs_id: bigint, license: string, partner: string, author: string, altitude: double, latitude: double, longitude: double, gbif_species_id: string, species: string, genus: string, family: string, dataset: string, publisher: string, references: string, url: string, learn_tag: string, image_backup_url: string]"
      ]
     },
     "execution_count": 9,
     "metadata": {},
     "output_type": "execute_result"
    }
   ],
   "source": [
    "raw_root = \"gs://dsgt-clef-plantclef-2024/raw/\"\n",
    "meta_dataset_name = \"PlantCLEF2024singleplanttrainingdata.csv\"\n",
    "\n",
    "# Read the PlantCLEF 2022 metadata CSV file\n",
    "meta_df = spark.read.csv(\n",
    "    f\"{raw_root}/{meta_dataset_name}\",\n",
    "    header=True,\n",
    "    inferSchema=True,\n",
    "    sep=\";\",  # specify semicolon as delimiter\n",
    ")\n",
    "\n",
    "# Cache the DataFrame to optimize subsequent operations\n",
    "meta_df.cache()\n",
    "\n",
    "# Drop duplicate entries based on 'image_path' before the join\n",
    "meta_final_df = meta_df  # .dropDuplicates([\"image_path\"])"
   ]
  },
  {
   "cell_type": "code",
   "execution_count": 10,
   "metadata": {},
   "outputs": [
    {
     "ename": "NameError",
     "evalue": "name 'meta_final_df' is not defined",
     "output_type": "error",
     "traceback": [
      "\u001b[0;31m---------------------------------------------------------------------------\u001b[0m",
      "\u001b[0;31mNameError\u001b[0m                                 Traceback (most recent call last)",
      "Cell \u001b[0;32mIn[10], line 1\u001b[0m\n\u001b[0;32m----> 1\u001b[0m \u001b[43mmeta_final_df\u001b[49m\u001b[38;5;241m.\u001b[39mshow(n\u001b[38;5;241m=\u001b[39m\u001b[38;5;241m3\u001b[39m, truncate\u001b[38;5;241m=\u001b[39m\u001b[38;5;241m100\u001b[39m)\n",
      "\u001b[0;31mNameError\u001b[0m: name 'meta_final_df' is not defined"
     ]
    }
   ],
   "source": [
    "meta_final_df.show(n=3, truncate=100)"
   ]
  },
  {
   "cell_type": "code",
   "execution_count": null,
   "metadata": {},
   "outputs": [],
   "source": [
    "meta_final_df.count()"
   ]
  },
  {
   "cell_type": "code",
   "execution_count": null,
   "metadata": {},
   "outputs": [],
   "source": [
    "# Perform an inner join on the 'image_path' column\n",
    "final_df = image_final_df.join(meta_final_df, \"image_path\", \"inner\")\n",
    "\n",
    "# Show the result to verify the join\n",
    "final_df.show(n=3, truncate=100)"
   ]
  },
  {
   "cell_type": "code",
   "execution_count": null,
   "metadata": {},
   "outputs": [],
   "source": [
    "final_df.count()"
   ]
  },
  {
   "cell_type": "code",
   "execution_count": null,
   "metadata": {},
   "outputs": [],
   "source": [
    "# Print Schema\n",
    "final_df.printSchema()"
   ]
  },
  {
   "cell_type": "code",
   "execution_count": null,
   "metadata": {},
   "outputs": [],
   "source": []
  }
 ],
 "metadata": {
  "kernelspec": {
   "display_name": "Python 3",
   "language": "python",
   "name": "python3"
  },
  "language_info": {
   "codemirror_mode": {
    "name": "ipython",
    "version": 3
   },
   "file_extension": ".py",
   "mimetype": "text/x-python",
   "name": "python",
   "nbconvert_exporter": "python",
   "pygments_lexer": "ipython3",
   "version": "3.10.12"
  }
 },
 "nbformat": 4,
 "nbformat_minor": 2
}
