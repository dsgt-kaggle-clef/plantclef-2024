{
 "cells": [
  {
   "cell_type": "markdown",
   "metadata": {},
   "source": [
    "## Image to Parquet"
   ]
  },
  {
   "cell_type": "code",
   "execution_count": 1,
   "metadata": {},
   "outputs": [],
   "source": [
    "%load_ext autoreload\n",
    "%autoreload 2"
   ]
  },
  {
   "cell_type": "markdown",
   "metadata": {},
   "source": [
    "### testing spark setup"
   ]
  },
  {
   "cell_type": "code",
   "execution_count": 2,
   "metadata": {},
   "outputs": [
    {
     "name": "stdout",
     "output_type": "stream",
     "text": [
      "gs://dsgt-clef-plantclef-2024/raw/PlantCLEF2022_web_training_images_1.tar.gz\n",
      "gs://dsgt-clef-plantclef-2024/raw/PlantCLEF2022_web_training_images_2.tar.gz\n",
      "gs://dsgt-clef-plantclef-2024/raw/PlantCLEF2022_web_training_images_3.tar.gz\n",
      "gs://dsgt-clef-plantclef-2024/raw/PlantCLEF2022_web_training_images_4.tar.gz\n",
      "gs://dsgt-clef-plantclef-2024/raw/PlantCLEF2022_web_training_metadata.csv\n",
      "gs://dsgt-clef-plantclef-2024/raw/PlantCLEF2022_web_training_metadata.tar.gz\n",
      "gs://dsgt-clef-plantclef-2024/raw/urls.txt\n"
     ]
    }
   ],
   "source": [
    "# let's check that the initial data from murilo is theres\n",
    "! gcloud storage ls gs://dsgt-clef-plantclef-2024/raw/ | head"
   ]
  },
  {
   "cell_type": "code",
   "execution_count": 3,
   "metadata": {},
   "outputs": [
    {
     "name": "stderr",
     "output_type": "stream",
     "text": [
      "Setting default log level to \"WARN\".\n",
      "To adjust logging level use sc.setLogLevel(newLevel). For SparkR, use setLogLevel(newLevel).\n",
      "24/02/26 01:57:00 WARN NativeCodeLoader: Unable to load native-hadoop library for your platform... using builtin-java classes where applicable\n",
      "24/02/26 01:57:00 WARN SparkConf: Note that spark.local.dir will be overridden by the value set by the cluster manager (via SPARK_LOCAL_DIRS in mesos/standalone/kubernetes and LOCAL_DIRS in YARN).\n"
     ]
    },
    {
     "data": {
      "text/html": [
       "\n",
       "            <div>\n",
       "                <p><b>SparkSession - in-memory</b></p>\n",
       "                \n",
       "        <div>\n",
       "            <p><b>SparkContext</b></p>\n",
       "\n",
       "            <p><a href=\"http://plantclef-dev.us-central1-a.c.dsgt-clef-2024.internal:4040\">Spark UI</a></p>\n",
       "\n",
       "            <dl>\n",
       "              <dt>Version</dt>\n",
       "                <dd><code>v3.5.0</code></dd>\n",
       "              <dt>Master</dt>\n",
       "                <dd><code>local[*]</code></dd>\n",
       "              <dt>AppName</dt>\n",
       "                <dd><code>pyspark-shell</code></dd>\n",
       "            </dl>\n",
       "        </div>\n",
       "        \n",
       "            </div>\n",
       "        "
      ],
      "text/plain": [
       "<pyspark.sql.session.SparkSession at 0x7f900c5cd690>"
      ]
     },
     "metadata": {},
     "output_type": "display_data"
    }
   ],
   "source": [
    "import os\n",
    "from pathlib import Path\n",
    "from pyspark.sql.functions import regexp_replace, split, element_at\n",
    "from pyspark.sql import Row\n",
    "from plantclef.utils import get_spark\n",
    "\n",
    "spark = get_spark()\n",
    "display(spark)"
   ]
  },
  {
   "cell_type": "code",
   "execution_count": 4,
   "metadata": {},
   "outputs": [
    {
     "data": {
      "text/plain": [
       "PosixPath('/home/mgustine/plantclef-2024/data/PlantCLEF2022_web_training_images_1')"
      ]
     },
     "execution_count": 4,
     "metadata": {},
     "output_type": "execute_result"
    }
   ],
   "source": [
    "# Base directory using pathlib\n",
    "curr_dir = Path(os.getcwd())\n",
    "base_dir = curr_dir.parents[1] / \"data\" / \"PlantCLEF2022_web_training_images_1\"\n",
    "base_dir"
   ]
  },
  {
   "cell_type": "code",
   "execution_count": 5,
   "metadata": {},
   "outputs": [
    {
     "name": "stderr",
     "output_type": "stream",
     "text": [
      "                                                                                \r"
     ]
    },
    {
     "name": "stdout",
     "output_type": "stream",
     "text": [
      "root\n",
      " |-- path: string (nullable = true)\n",
      " |-- file_name: string (nullable = true)\n",
      " |-- data: binary (nullable = true)\n",
      " |-- image_path: string (nullable = true)\n",
      "\n"
     ]
    }
   ],
   "source": [
    "# Load all files from the base directory as binary data\n",
    "# Convert Path object to string when passing to PySpark\n",
    "image_df = (\n",
    "    spark.read.format(\"binaryFile\")\n",
    "    .option(\"pathGlobFilter\", \"*.jpg\")\n",
    "    .option(\"recursiveFileLookup\", \"true\")\n",
    "    .load(base_dir.as_posix())\n",
    ")\n",
    "\n",
    "# Construct the string to be replaced - adjust this based on your actual base path\n",
    "to_remove = \"file:\" + str(base_dir.parents[0])\n",
    "\n",
    "# Remove \"file:{base_dir.parents[0]\" from path column\n",
    "image_df = image_df.withColumn(\"path\", regexp_replace(\"path\", to_remove, \"\"))\n",
    "\n",
    "# Split the path into an array of elements\n",
    "split_path = split(image_df[\"path\"], \"/\")\n",
    "\n",
    "# Extract metadata from the file path\n",
    "image_final_df = image_df.withColumn(\"file_name\", element_at(split_path, -1))\n",
    "\n",
    "# Select and rename columns to fit the target schema, including renaming 'content' to 'data'\n",
    "image_final_df = image_final_df.select(\n",
    "    \"path\",\n",
    "    \"file_name\",\n",
    "    image_final_df[\"content\"].alias(\"data\"),\n",
    ")\n",
    "\n",
    "# Create a new column \"image_path\" by removing \"/images/\" from \"path\"\n",
    "image_final_df = image_final_df.withColumn(\n",
    "    \"image_path\", regexp_replace(\"path\", f\"^/{base_dir.parts[-1]}/\", \"\")\n",
    ")\n",
    "\n",
    "# Print Schema\n",
    "image_final_df.printSchema()"
   ]
  },
  {
   "cell_type": "code",
   "execution_count": 6,
   "metadata": {},
   "outputs": [
    {
     "name": "stderr",
     "output_type": "stream",
     "text": [
      "                                                                                \r"
     ]
    },
    {
     "name": "stdout",
     "output_type": "stream",
     "text": [
      "+--------------------+--------------------+--------------------+--------------------+\n",
      "|                path|           file_name|                data|          image_path|\n",
      "+--------------------+--------------------+--------------------+--------------------+\n",
      "|/PlantCLEF2022_we...|3d7803100f3db8326...|[FF D8 FF E0 00 1...|10757826/3d780310...|\n",
      "|/PlantCLEF2022_we...|d601bf895e7519356...|[89 50 4E 47 0D 0...|11190409/d601bf89...|\n",
      "|/PlantCLEF2022_we...|b5dbbb23698330a8c...|[89 50 4E 47 0D 0...|11201833/b5dbbb23...|\n",
      "+--------------------+--------------------+--------------------+--------------------+\n",
      "only showing top 3 rows\n",
      "\n"
     ]
    }
   ],
   "source": [
    "image_final_df.show(n=3)"
   ]
  },
  {
   "cell_type": "markdown",
   "metadata": {},
   "source": [
    "### join image_df with metadata from GCS"
   ]
  },
  {
   "cell_type": "code",
   "execution_count": 7,
   "metadata": {},
   "outputs": [
    {
     "name": "stdout",
     "output_type": "stream",
     "text": [
      "gs://dsgt-clef-plantclef-2024/raw/PlantCLEF2022_web_training_images_1.tar.gz\n",
      "gs://dsgt-clef-plantclef-2024/raw/PlantCLEF2022_web_training_images_2.tar.gz\n",
      "gs://dsgt-clef-plantclef-2024/raw/PlantCLEF2022_web_training_images_3.tar.gz\n",
      "gs://dsgt-clef-plantclef-2024/raw/PlantCLEF2022_web_training_images_4.tar.gz\n",
      "gs://dsgt-clef-plantclef-2024/raw/PlantCLEF2022_web_training_metadata.csv\n",
      "gs://dsgt-clef-plantclef-2024/raw/PlantCLEF2022_web_training_metadata.tar.gz\n",
      "gs://dsgt-clef-plantclef-2024/raw/urls.txt\n"
     ]
    }
   ],
   "source": [
    "# Get list of stored files in cloud bucket\n",
    "! gcloud storage ls gs://dsgt-clef-plantclef-2024/raw"
   ]
  },
  {
   "cell_type": "code",
   "execution_count": 8,
   "metadata": {},
   "outputs": [
    {
     "name": "stderr",
     "output_type": "stream",
     "text": [
      "                                                                                \r"
     ]
    }
   ],
   "source": [
    "raw_root = \"gs://dsgt-clef-plantclef-2024/raw/\"\n",
    "meta_dataset_name = \"PlantCLEF2022_web_training_metadata.csv\"\n",
    "\n",
    "# Read the PlantCLEF 2022 metadata CSV file\n",
    "meta_df = spark.read.csv(\n",
    "    f\"{raw_root}/{meta_dataset_name}\",\n",
    "    header=True,\n",
    "    inferSchema=True,\n",
    "    sep=\";\",  # specify semicolon as delimiter\n",
    ")\n",
    "\n",
    "# Cache the DataFrame to optimize subsequent operations\n",
    "meta_df.cache()\n",
    "\n",
    "# Drop duplicate entries based on 'image_path' before the join\n",
    "meta_final_df = meta_df.dropDuplicates([\"image_path\"])"
   ]
  },
  {
   "cell_type": "code",
   "execution_count": 9,
   "metadata": {},
   "outputs": [
    {
     "name": "stderr",
     "output_type": "stream",
     "text": [
      "[Stage 5:===============================================>           (4 + 1) / 5]\r"
     ]
    },
    {
     "name": "stdout",
     "output_type": "stream",
     "text": [
      "+--------+--------------------------------------------+-----------------------------------------------------+---------------------------+---------+----------+---------+-------------+----------+-------------+-------------------------+----------------------------------------------------------------------------------------------------+----------------------------------------------------------------------------------------------------+\n",
      "| classid|                                  image_name|                                           image_path|                    species|    genus|    family|    order|        class|manual_tag|predicted_tag|predicted_tag_probability|                                                                                        original_url|                                                                                    image_backup_url|\n",
      "+--------+--------------------------------------------+-----------------------------------------------------+---------------------------+---------+----------+---------+-------------+----------+-------------+-------------------------+----------------------------------------------------------------------------------------------------+----------------------------------------------------------------------------------------------------+\n",
      "|10000918|659f1b10a3360d5527b944f8d38c43d385981b31.jpg|10000918/659f1b10a3360d5527b944f8d38c43d385981b31.jpg|Grevillea whiteana Mc Gill.|Grevillea|Proteaceae|Proteales|Magnoliopsida|      NULL|       flower|                   0.5189|        http://4.bp.blogspot.com/-ZtA5GsepQ3o/TaNYVtiWRLI/AAAAAAAAC-M/kNIki1E7D8E/s1600/100_3254.JPG|https://lab.plantnet.org/LifeCLEF/PlantCLEF2022/train/web/images/10000918/659f1b10a3360d5527b944f...|\n",
      "|10000918|670a2ed9358fa33baf134b06494fc972f138d872.jpg|10000918/670a2ed9358fa33baf134b06494fc972f138d872.jpg|Grevillea whiteana Mc Gill.|Grevillea|Proteaceae|Proteales|Magnoliopsida|      NULL|         leaf|                    0.887|http://upload.wikimedia.org/wikipedia/commons/thumb/b/b0/Grevillea_whiteana.jpg/240px-Grevillea_w...|https://lab.plantnet.org/LifeCLEF/PlantCLEF2022/train/web/images/10000918/670a2ed9358fa33baf134b0...|\n",
      "|10000918|ac4141846a11c7bbe014041e1879386998f477cf.jpg|10000918/ac4141846a11c7bbe014041e1879386998f477cf.jpg|Grevillea whiteana Mc Gill.|Grevillea|Proteaceae|Proteales|Magnoliopsida|      NULL|        habit|                   0.8642|                      http://www.gardensonline.com.au/Uploads/Plant/2800/GrevilleaMoonlightWs700.jpg|https://lab.plantnet.org/LifeCLEF/PlantCLEF2022/train/web/images/10000918/ac4141846a11c7bbe014041...|\n",
      "+--------+--------------------------------------------+-----------------------------------------------------+---------------------------+---------+----------+---------+-------------+----------+-------------+-------------------------+----------------------------------------------------------------------------------------------------+----------------------------------------------------------------------------------------------------+\n",
      "only showing top 3 rows\n",
      "\n"
     ]
    },
    {
     "name": "stderr",
     "output_type": "stream",
     "text": [
      "                                                                                \r"
     ]
    }
   ],
   "source": [
    "meta_final_df.show(n=3, truncate=100)"
   ]
  },
  {
   "cell_type": "code",
   "execution_count": 10,
   "metadata": {},
   "outputs": [
    {
     "name": "stderr",
     "output_type": "stream",
     "text": [
      "                                                                                \r"
     ]
    },
    {
     "data": {
      "text/plain": [
       "1071627"
      ]
     },
     "execution_count": 10,
     "metadata": {},
     "output_type": "execute_result"
    }
   ],
   "source": [
    "meta_final_df.count()"
   ]
  },
  {
   "cell_type": "code",
   "execution_count": 11,
   "metadata": {},
   "outputs": [
    {
     "name": "stderr",
     "output_type": "stream",
     "text": [
      "[Stage 18:>                                                         (0 + 1) / 1]\r"
     ]
    },
    {
     "name": "stdout",
     "output_type": "stream",
     "text": [
      "+-----------------------------------------------------+------------------------------------------------------------------------------------------+--------------------------------------------+----------------------------------------------------------------------------------------------------+--------+--------------------------------------------+----------------------------+---------+----------+---------+-------------+----------+-------------+-------------------------+----------------------------------------------------------------------------------------------------+----------------------------------------------------------------------------------------------------+\n",
      "|                                           image_path|                                                                                      path|                                   file_name|                                                                                                data| classid|                                  image_name|                     species|    genus|    family|    order|        class|manual_tag|predicted_tag|predicted_tag_probability|                                                                                        original_url|                                                                                    image_backup_url|\n",
      "+-----------------------------------------------------+------------------------------------------------------------------------------------------+--------------------------------------------+----------------------------------------------------------------------------------------------------+--------+--------------------------------------------+----------------------------+---------+----------+---------+-------------+----------+-------------+-------------------------+----------------------------------------------------------------------------------------------------+----------------------------------------------------------------------------------------------------+\n",
      "|10000918/ac4141846a11c7bbe014041e1879386998f477cf.jpg|/PlantCLEF2022_web_training_images_1/10000918/ac4141846a11c7bbe014041e1879386998f477cf.jpg|ac4141846a11c7bbe014041e1879386998f477cf.jpg|[FF D8 FF E0 00 10 4A 46 49 46 00 01 01 00 00 01 00 01 00 00 FF ED 00 48 50 68 6F 74 6F 73 68 6F ...|10000918|ac4141846a11c7bbe014041e1879386998f477cf.jpg| Grevillea whiteana Mc Gill.|Grevillea|Proteaceae|Proteales|Magnoliopsida|      NULL|        habit|                   0.8642|                      http://www.gardensonline.com.au/Uploads/Plant/2800/GrevilleaMoonlightWs700.jpg|https://lab.plantnet.org/LifeCLEF/PlantCLEF2022/train/web/images/10000918/ac4141846a11c7bbe014041...|\n",
      "|10000918/e5bdd3e2baa4aa84cb7e6b0cc334cd0d61cabab5.jpg|/PlantCLEF2022_web_training_images_1/10000918/e5bdd3e2baa4aa84cb7e6b0cc334cd0d61cabab5.jpg|e5bdd3e2baa4aa84cb7e6b0cc334cd0d61cabab5.jpg|[FF D8 FF E0 00 10 4A 46 49 46 00 01 01 00 00 01 00 01 00 00 FF E2 05 58 49 43 43 5F 50 52 4F 46 ...|10000918|e5bdd3e2baa4aa84cb7e6b0cc334cd0d61cabab5.jpg| Grevillea whiteana Mc Gill.|Grevillea|Proteaceae|Proteales|Magnoliopsida|      NULL|        habit|                   0.8266|                                      http://farm4.staticflickr.com/3512/3791111283_dc99ebf18a_z.jpg|https://lab.plantnet.org/LifeCLEF/PlantCLEF2022/train/web/images/10000918/e5bdd3e2baa4aa84cb7e6b0...|\n",
      "|10009770/b37fff17bc58ede57c0579e49d75f8e1934ca38f.jpg|/PlantCLEF2022_web_training_images_1/10009770/b37fff17bc58ede57c0579e49d75f8e1934ca38f.jpg|b37fff17bc58ede57c0579e49d75f8e1934ca38f.jpg|[FF D8 FF E0 00 10 4A 46 49 46 00 01 01 01 01 2C 01 2C 00 00 FF DB 00 43 00 05 03 04 04 04 03 05 ...|10009770|b37fff17bc58ede57c0579e49d75f8e1934ca38f.jpg|Grevillea maxwellii Mc Gill.|Grevillea|Proteaceae|Proteales|Magnoliopsida|      NULL|        habit|                   0.6805|http://thumb7.shutterstock.com/display_pic_with_logo/954436/192798269/stock-photo-dainty-small-re...|https://lab.plantnet.org/LifeCLEF/PlantCLEF2022/train/web/images/10009770/b37fff17bc58ede57c0579e...|\n",
      "+-----------------------------------------------------+------------------------------------------------------------------------------------------+--------------------------------------------+----------------------------------------------------------------------------------------------------+--------+--------------------------------------------+----------------------------+---------+----------+---------+-------------+----------+-------------+-------------------------+----------------------------------------------------------------------------------------------------+----------------------------------------------------------------------------------------------------+\n",
      "only showing top 3 rows\n",
      "\n"
     ]
    },
    {
     "name": "stderr",
     "output_type": "stream",
     "text": [
      "                                                                                \r"
     ]
    }
   ],
   "source": [
    "# Perform an inner join on the 'image_path' column\n",
    "final_df = image_final_df.join(meta_final_df, \"image_path\", \"inner\")\n",
    "\n",
    "# Show the result to verify the join\n",
    "final_df.show(n=3, truncate=100)"
   ]
  },
  {
   "cell_type": "code",
   "execution_count": 12,
   "metadata": {},
   "outputs": [
    {
     "name": "stderr",
     "output_type": "stream",
     "text": [
      "                                                                                \r"
     ]
    },
    {
     "data": {
      "text/plain": [
       "8290"
      ]
     },
     "execution_count": 12,
     "metadata": {},
     "output_type": "execute_result"
    }
   ],
   "source": [
    "final_df.count()"
   ]
  },
  {
   "cell_type": "code",
   "execution_count": 13,
   "metadata": {},
   "outputs": [
    {
     "name": "stdout",
     "output_type": "stream",
     "text": [
      "root\n",
      " |-- image_path: string (nullable = true)\n",
      " |-- path: string (nullable = true)\n",
      " |-- file_name: string (nullable = true)\n",
      " |-- data: binary (nullable = true)\n",
      " |-- classid: integer (nullable = true)\n",
      " |-- image_name: string (nullable = true)\n",
      " |-- species: string (nullable = true)\n",
      " |-- genus: string (nullable = true)\n",
      " |-- family: string (nullable = true)\n",
      " |-- order: string (nullable = true)\n",
      " |-- class: string (nullable = true)\n",
      " |-- manual_tag: string (nullable = true)\n",
      " |-- predicted_tag: string (nullable = true)\n",
      " |-- predicted_tag_probability: double (nullable = true)\n",
      " |-- original_url: string (nullable = true)\n",
      " |-- image_backup_url: string (nullable = true)\n",
      "\n"
     ]
    }
   ],
   "source": [
    "# Print Schema\n",
    "final_df.printSchema()"
   ]
  },
  {
   "cell_type": "code",
   "execution_count": null,
   "metadata": {},
   "outputs": [],
   "source": []
  }
 ],
 "metadata": {
  "kernelspec": {
   "display_name": "Python 3",
   "language": "python",
   "name": "python3"
  },
  "language_info": {
   "codemirror_mode": {
    "name": "ipython",
    "version": 3
   },
   "file_extension": ".py",
   "mimetype": "text/x-python",
   "name": "python",
   "nbconvert_exporter": "python",
   "pygments_lexer": "ipython3",
   "version": "3.10.12"
  }
 },
 "nbformat": 4,
 "nbformat_minor": 2
}
