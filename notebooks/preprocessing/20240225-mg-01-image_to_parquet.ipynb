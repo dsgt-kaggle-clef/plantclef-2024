{
 "cells": [
  {
   "cell_type": "markdown",
   "metadata": {},
   "source": [
    "## Image to Parquet"
   ]
  },
  {
   "cell_type": "code",
   "execution_count": 1,
   "metadata": {},
   "outputs": [],
   "source": [
    "%load_ext autoreload\n",
    "%autoreload 2"
   ]
  },
  {
   "cell_type": "markdown",
   "metadata": {},
   "source": [
    "### testing spark setup"
   ]
  },
  {
   "cell_type": "code",
   "execution_count": 2,
   "metadata": {},
   "outputs": [
    {
     "name": "stdout",
     "output_type": "stream",
     "text": [
      "gs://dsgt-clef-plantclef-2024/raw/PlantCLEF2022_web_training_images_1.tar.gz\n",
      "gs://dsgt-clef-plantclef-2024/raw/PlantCLEF2022_web_training_images_2.tar.gz\n",
      "gs://dsgt-clef-plantclef-2024/raw/PlantCLEF2022_web_training_images_3.tar.gz\n",
      "gs://dsgt-clef-plantclef-2024/raw/PlantCLEF2022_web_training_images_4.tar.gz\n",
      "gs://dsgt-clef-plantclef-2024/raw/PlantCLEF2022_web_training_metadata.csv\n",
      "gs://dsgt-clef-plantclef-2024/raw/PlantCLEF2022_web_training_metadata.tar.gz\n",
      "gs://dsgt-clef-plantclef-2024/raw/PlantCLEF2024singleplanttrainingdata.csv\n",
      "gs://dsgt-clef-plantclef-2024/raw/PlantCLEF2024singleplanttrainingdata.tar\n",
      "gs://dsgt-clef-plantclef-2024/raw/args.yaml\n",
      "gs://dsgt-clef-plantclef-2024/raw/class_mapping.txt\n"
     ]
    }
   ],
   "source": [
    "# let's check that the initial data from murilo is theres\n",
    "! gcloud storage ls gs://dsgt-clef-plantclef-2024/raw/ | head"
   ]
  },
  {
   "cell_type": "code",
   "execution_count": 3,
   "metadata": {},
   "outputs": [
    {
     "name": "stderr",
     "output_type": "stream",
     "text": [
      "Setting default log level to \"WARN\".\n",
      "To adjust logging level use sc.setLogLevel(newLevel). For SparkR, use setLogLevel(newLevel).\n",
      "24/03/23 22:12:01 WARN NativeCodeLoader: Unable to load native-hadoop library for your platform... using builtin-java classes where applicable\n",
      "24/03/23 22:12:02 WARN SparkConf: Note that spark.local.dir will be overridden by the value set by the cluster manager (via SPARK_LOCAL_DIRS in mesos/standalone/kubernetes and LOCAL_DIRS in YARN).\n"
     ]
    },
    {
     "data": {
      "text/html": [
       "\n",
       "            <div>\n",
       "                <p><b>SparkSession - in-memory</b></p>\n",
       "                \n",
       "        <div>\n",
       "            <p><b>SparkContext</b></p>\n",
       "\n",
       "            <p><a href=\"http://big-disk-dev.us-central1-b.c.dsgt-clef-2024.internal:4040\">Spark UI</a></p>\n",
       "\n",
       "            <dl>\n",
       "              <dt>Version</dt>\n",
       "                <dd><code>v3.5.1</code></dd>\n",
       "              <dt>Master</dt>\n",
       "                <dd><code>local[*]</code></dd>\n",
       "              <dt>AppName</dt>\n",
       "                <dd><code>pyspark-shell</code></dd>\n",
       "            </dl>\n",
       "        </div>\n",
       "        \n",
       "            </div>\n",
       "        "
      ],
      "text/plain": [
       "<pyspark.sql.session.SparkSession at 0x7723e75368c0>"
      ]
     },
     "metadata": {},
     "output_type": "display_data"
    }
   ],
   "source": [
    "import os\n",
    "from pathlib import Path\n",
    "from pyspark.sql import functions as F\n",
    "from plantclef.utils import get_spark\n",
    "\n",
    "spark = get_spark(cores=8, memory=\"28g\", **{\"spark.sql.shuffle.partitions\": 500})\n",
    "display(spark)"
   ]
  },
  {
   "cell_type": "code",
   "execution_count": 4,
   "metadata": {},
   "outputs": [
    {
     "data": {
      "text/plain": [
       "PosixPath('/home/mgustine/plantclef-2024/data/PlantCLEF2024')"
      ]
     },
     "execution_count": 4,
     "metadata": {},
     "output_type": "execute_result"
    }
   ],
   "source": [
    "# Base directory using pathlib\n",
    "curr_dir = Path(os.getcwd())\n",
    "base_dir = curr_dir.parents[1] / \"data\" / \"PlantCLEF2024\"\n",
    "base_dir"
   ]
  },
  {
   "cell_type": "code",
   "execution_count": 5,
   "metadata": {},
   "outputs": [
    {
     "name": "stderr",
     "output_type": "stream",
     "text": [
      "24/03/23 22:12:50 WARN SharedInMemoryCache: Evicting cached table partition metadata from memory due to size constraints (spark.sql.hive.filesourcePartitionFileCacheSize = 262144000 bytes). This may impact query planning performance.\n"
     ]
    },
    {
     "name": "stdout",
     "output_type": "stream",
     "text": [
      "root\n",
      " |-- path: string (nullable = true)\n",
      " |-- image_name: string (nullable = true)\n",
      " |-- data: binary (nullable = true)\n",
      "\n"
     ]
    }
   ],
   "source": [
    "# Load all files from the base directory as binary data\n",
    "# Convert Path object to string when passing to PySpark\n",
    "image_df = (\n",
    "    spark.read.format(\"binaryFile\")\n",
    "    .option(\"pathGlobFilter\", \"*.jpg\")\n",
    "    .option(\"recursiveFileLookup\", \"true\")\n",
    "    .load(base_dir.as_posix())\n",
    ")\n",
    "\n",
    "# Construct the string to be replaced - adjust this based on your actual base path\n",
    "to_remove = \"file:\" + str(base_dir.parents[0])\n",
    "\n",
    "# Remove \"file:{base_dir.parents[0]\" from path column\n",
    "image_df = image_df.withColumn(\"path\", F.regexp_replace(\"path\", to_remove, \"\"))\n",
    "\n",
    "# Split the path into an array of elements\n",
    "split_path = F.split(image_df[\"path\"], \"/\")\n",
    "\n",
    "# Select and rename columns to fit the target schema, including renaming 'content' to 'data'\n",
    "image_final_df = image_df.select(\n",
    "    \"path\",\n",
    "    F.element_at(split_path, -1).alias(\"image_name\"),\n",
    "    F.col(\"content\").alias(\"data\"),\n",
    ")\n",
    "\n",
    "# Print Schema\n",
    "image_final_df.printSchema()"
   ]
  },
  {
   "cell_type": "code",
   "execution_count": 6,
   "metadata": {},
   "outputs": [
    {
     "name": "stderr",
     "output_type": "stream",
     "text": [
      "                                                                                \r"
     ]
    },
    {
     "name": "stdout",
     "output_type": "stream",
     "text": [
      "+--------------------+--------------------+--------------------+\n",
      "|                path|          image_name|                data|\n",
      "+--------------------+--------------------+--------------------+\n",
      "|/PlantCLEF2024/tr...|2a286d5d4daa2daf4...|[FF D8 FF E0 00 1...|\n",
      "|/PlantCLEF2024/tr...|11ca311532b09f32e...|[FF D8 FF E0 00 1...|\n",
      "|/PlantCLEF2024/tr...|cf66eb2121e182743...|[FF D8 FF E0 00 1...|\n",
      "+--------------------+--------------------+--------------------+\n",
      "only showing top 3 rows\n",
      "\n"
     ]
    }
   ],
   "source": [
    "image_final_df.show(n=3)"
   ]
  },
  {
   "cell_type": "markdown",
   "metadata": {},
   "source": [
    "### join image_df with metadata from GCS"
   ]
  },
  {
   "cell_type": "code",
   "execution_count": 7,
   "metadata": {},
   "outputs": [
    {
     "name": "stdout",
     "output_type": "stream",
     "text": [
      "gs://dsgt-clef-plantclef-2024/raw/PlantCLEF2022_web_training_images_1.tar.gz\n",
      "gs://dsgt-clef-plantclef-2024/raw/PlantCLEF2022_web_training_images_2.tar.gz\n",
      "gs://dsgt-clef-plantclef-2024/raw/PlantCLEF2022_web_training_images_3.tar.gz\n",
      "gs://dsgt-clef-plantclef-2024/raw/PlantCLEF2022_web_training_images_4.tar.gz\n",
      "gs://dsgt-clef-plantclef-2024/raw/PlantCLEF2022_web_training_metadata.csv\n",
      "gs://dsgt-clef-plantclef-2024/raw/PlantCLEF2022_web_training_metadata.tar.gz\n",
      "gs://dsgt-clef-plantclef-2024/raw/PlantCLEF2024singleplanttrainingdata.csv\n",
      "gs://dsgt-clef-plantclef-2024/raw/PlantCLEF2024singleplanttrainingdata.tar\n",
      "gs://dsgt-clef-plantclef-2024/raw/args.yaml\n",
      "gs://dsgt-clef-plantclef-2024/raw/class_mapping.txt\n",
      "gs://dsgt-clef-plantclef-2024/raw/index.html\n",
      "gs://dsgt-clef-plantclef-2024/raw/model_best.pth.tar\n",
      "gs://dsgt-clef-plantclef-2024/raw/readme.txt\n",
      "gs://dsgt-clef-plantclef-2024/raw/summary.csv\n",
      "gs://dsgt-clef-plantclef-2024/raw/urls.txt\n"
     ]
    }
   ],
   "source": [
    "# Get list of stored files in cloud bucket\n",
    "! gcloud storage ls gs://dsgt-clef-plantclef-2024/raw"
   ]
  },
  {
   "cell_type": "code",
   "execution_count": 8,
   "metadata": {},
   "outputs": [
    {
     "name": "stderr",
     "output_type": "stream",
     "text": [
      "                                                                                \r"
     ]
    }
   ],
   "source": [
    "raw_root = \"gs://dsgt-clef-plantclef-2024/raw/\"\n",
    "meta_dataset_name = \"PlantCLEF2024singleplanttrainingdata.csv\"\n",
    "\n",
    "# Read the PlantCLEF 2022 metadata CSV file\n",
    "meta_df = spark.read.csv(\n",
    "    f\"{raw_root}/{meta_dataset_name}\",\n",
    "    header=True,\n",
    "    inferSchema=True,\n",
    "    sep=\";\",  # specify semicolon as delimiter\n",
    ")\n",
    "\n",
    "# Drop duplicate entries based on 'image_path' before the join\n",
    "meta_final_df = meta_df.dropDuplicates([\"image_name\"])"
   ]
  },
  {
   "cell_type": "code",
   "execution_count": 9,
   "metadata": {},
   "outputs": [
    {
     "name": "stderr",
     "output_type": "stream",
     "text": [
      "24/03/23 22:13:32 WARN SparkStringUtils: Truncated the string representation of a plan since it was too large. This behavior can be adjusted by setting 'spark.sql.debug.maxToStringFields'.\n",
      "[Stage 6:======================>                                    (3 + 5) / 8]\r"
     ]
    },
    {
     "name": "stdout",
     "output_type": "stream",
     "text": [
      "+--------------------------------------------+------+----------+----------+--------+-------+-------------+--------+-----------------+------------------+---------------+-----------------------------+---------+------------+--------+---------+------------------------------------------------------------------------------+------------------------------------------------------------------------+---------+----------------------------------------------------------------------------------------------------+\n",
      "|                                  image_name| organ|species_id|    obs_id| license|partner|       author|altitude|         latitude|         longitude|gbif_species_id|                      species|    genus|      family| dataset|publisher|                                                                    references|                                                                     url|learn_tag|                                                                                    image_backup_url|\n",
      "+--------------------------------------------+------+----------+----------+--------+-------+-------------+--------+-----------------+------------------+---------------+-----------------------------+---------+------------+--------+---------+------------------------------------------------------------------------------+------------------------------------------------------------------------+---------+----------------------------------------------------------------------------------------------------+\n",
      "|00002431a327bc86b2aa2c53bb8d98b971c58a63.jpg| fruit|   1356300|1009575823|cc-by-sa|   NULL|Shehadi Ramiz|1302.299|19.52794455555556|-96.89081572222224|      2888485.0|         Argemone mexicana L.| Argemone|Papaveraceae|plantnet| plantnet|https://identify.plantnet.org/fr/k-southwestern-europe/observations/1009575823|https://bs.plantnet.org/image/o/00002431a327bc86b2aa2c53bb8d98b971c58a63|    train|https://lab.plantnet.org/LifeCLEF/PlantCLEF2024/single_plant_training_data/PlantCLEF2024singlepla...|\n",
      "|00005a2bf364d52b7ce6001d5aca421b65765d7a.jpg|  leaf|   1399392|1015640071|cc-by-sa|   NULL|     irene zm|   963.0|    37.9176316667|     -2.9300516667|      7306488.0|     Satureja cuneifolia Ten.| Satureja|   Lamiaceae|plantnet| plantnet|https://identify.plantnet.org/fr/k-southwestern-europe/observations/1015640071|https://bs.plantnet.org/image/o/00005a2bf364d52b7ce6001d5aca421b65765d7a|    train|https://lab.plantnet.org/LifeCLEF/PlantCLEF2024/single_plant_training_data/PlantCLEF2024singlepla...|\n",
      "|00005a53fa5168be2b0010342dec61739cefee99.jpg|flower|   1363068|1017507487|cc-by-sa|   NULL| Bianca Fusco|776.0443|44.65012222222222| 9.001172222222221|      9047268.0|Crataegus rhipidophylla Gand.|Crataegus|    Rosaceae|plantnet| plantnet|https://identify.plantnet.org/fr/k-southwestern-europe/observations/1017507487|https://bs.plantnet.org/image/o/00005a53fa5168be2b0010342dec61739cefee99|    train|https://lab.plantnet.org/LifeCLEF/PlantCLEF2024/single_plant_training_data/PlantCLEF2024singlepla...|\n",
      "+--------------------------------------------+------+----------+----------+--------+-------+-------------+--------+-----------------+------------------+---------------+-----------------------------+---------+------------+--------+---------+------------------------------------------------------------------------------+------------------------------------------------------------------------+---------+----------------------------------------------------------------------------------------------------+\n",
      "only showing top 3 rows\n",
      "\n"
     ]
    },
    {
     "name": "stderr",
     "output_type": "stream",
     "text": [
      "                                                                                \r"
     ]
    }
   ],
   "source": [
    "meta_final_df.show(n=3, truncate=100)"
   ]
  },
  {
   "cell_type": "code",
   "execution_count": 10,
   "metadata": {},
   "outputs": [
    {
     "name": "stderr",
     "output_type": "stream",
     "text": [
      "                                                                                \r"
     ]
    },
    {
     "data": {
      "text/plain": [
       "1408033"
      ]
     },
     "execution_count": 10,
     "metadata": {},
     "output_type": "execute_result"
    }
   ],
   "source": [
    "meta_final_df.count()"
   ]
  },
  {
   "cell_type": "code",
   "execution_count": 11,
   "metadata": {},
   "outputs": [
    {
     "name": "stderr",
     "output_type": "stream",
     "text": [
      "[Stage 23:>                                                         (0 + 1) / 1]\r"
     ]
    },
    {
     "name": "stdout",
     "output_type": "stream",
     "text": [
      "+--------------------------------------------+-------------------------------------------------------------------------+----------------------------------------------------------------------------------------------------+------+----------+----------+--------+-------+---------------------------+--------+-----------------+------------------+---------------+-------------------------+---------+-------------+--------+---------+------------------------------------------------------------------------------+------------------------------------------------------------------------+---------+----------------------------------------------------------------------------------------------------+\n",
      "|                                  image_name|                                                                     path|                                                                                                data| organ|species_id|    obs_id| license|partner|                     author|altitude|         latitude|         longitude|gbif_species_id|                  species|    genus|       family| dataset|publisher|                                                                    references|                                                                     url|learn_tag|                                                                                    image_backup_url|\n",
      "+--------------------------------------------+-------------------------------------------------------------------------+----------------------------------------------------------------------------------------------------+------+----------+----------+--------+-------+---------------------------+--------+-----------------+------------------+---------------+-------------------------+---------+-------------+--------+---------+------------------------------------------------------------------------------+------------------------------------------------------------------------+---------+----------------------------------------------------------------------------------------------------+\n",
      "|1ba2b39665c8e383f29f5fb17c88932999d3eed9.jpg|/PlantCLEF2024/train/1361373/1ba2b39665c8e383f29f5fb17c88932999d3eed9.jpg|[FF D8 FF E0 00 10 4A 46 49 46 00 01 01 00 00 01 00 01 00 00 FF DB 00 43 00 08 06 06 07 06 05 08 ...|flower|   1361373|1016386985|cc-by-sa|   NULL|          Lily Cheng Clavel| 89.1893|    43.5044208728|      3.4157142229|      2704194.0|        Poa infirma Kunth|      Poa|      Poaceae|plantnet| plantnet|https://identify.plantnet.org/fr/k-southwestern-europe/observations/1016386985|https://bs.plantnet.org/image/o/1ba2b39665c8e383f29f5fb17c88932999d3eed9|    train|https://lab.plantnet.org/LifeCLEF/PlantCLEF2024/single_plant_training_data/PlantCLEF2024singlepla...|\n",
      "|500bcfc34cf1099de26c124c319d8128d75158c1.jpg|/PlantCLEF2024/train/1396015/500bcfc34cf1099de26c124c319d8128d75158c1.jpg|[FF D8 FF E0 00 10 4A 46 49 46 00 01 01 00 00 01 00 01 00 00 FF DB 00 43 00 08 06 06 07 06 05 08 ...|flower|   1396015|1014239997|cc-by-sa|   NULL|            Fabien Anthelme|  2579.0|42.80429444444445|0.1337222222222222|      7339580.0|Saxifraga moschata Wulfen|Saxifraga|Saxifragaceae|plantnet| plantnet|https://identify.plantnet.org/fr/k-southwestern-europe/observations/1014239997|https://bs.plantnet.org/image/o/500bcfc34cf1099de26c124c319d8128d75158c1|    train|https://lab.plantnet.org/LifeCLEF/PlantCLEF2024/single_plant_training_data/PlantCLEF2024singlepla...|\n",
      "|6f885025a8a00b2be9c3427dad51588f045e7951.jpg|/PlantCLEF2024/train/1393370/6f885025a8a00b2be9c3427dad51588f045e7951.jpg|[FF D8 FF E0 00 10 4A 46 49 46 00 01 01 00 00 01 00 01 00 00 FF DB 00 43 00 08 06 06 07 06 05 08 ...|branch|   1393370|1000675595|cc-by-sa|   tela|Tela Botanica − Yoan MARTIN|    NULL|             NULL|              NULL|      2684391.0|  Juniperus virginiana L.|Juniperus| Cupressaceae|plantnet| plantnet|https://identify.plantnet.org/fr/k-southwestern-europe/observations/1000675595|https://bs.plantnet.org/image/o/6f885025a8a00b2be9c3427dad51588f045e7951|    train|https://lab.plantnet.org/LifeCLEF/PlantCLEF2024/single_plant_training_data/PlantCLEF2024singlepla...|\n",
      "+--------------------------------------------+-------------------------------------------------------------------------+----------------------------------------------------------------------------------------------------+------+----------+----------+--------+-------+---------------------------+--------+-----------------+------------------+---------------+-------------------------+---------+-------------+--------+---------+------------------------------------------------------------------------------+------------------------------------------------------------------------+---------+----------------------------------------------------------------------------------------------------+\n",
      "only showing top 3 rows\n",
      "\n"
     ]
    },
    {
     "name": "stderr",
     "output_type": "stream",
     "text": [
      "                                                                                \r"
     ]
    }
   ],
   "source": [
    "# Perform an inner join on the 'image_path' column\n",
    "final_df = image_final_df.join(meta_final_df, \"image_name\", \"inner\").repartition(\n",
    "    500, \"species_id\"\n",
    ")\n",
    "\n",
    "# Show the result to verify the join\n",
    "final_df.show(n=3, truncate=100)"
   ]
  },
  {
   "cell_type": "code",
   "execution_count": 12,
   "metadata": {},
   "outputs": [
    {
     "name": "stderr",
     "output_type": "stream",
     "text": [
      "                                                                                \r"
     ]
    },
    {
     "data": {
      "text/plain": [
       "1408033"
      ]
     },
     "execution_count": 12,
     "metadata": {},
     "output_type": "execute_result"
    }
   ],
   "source": [
    "final_df.count()"
   ]
  },
  {
   "cell_type": "code",
   "execution_count": 13,
   "metadata": {},
   "outputs": [
    {
     "name": "stdout",
     "output_type": "stream",
     "text": [
      "root\n",
      " |-- image_name: string (nullable = true)\n",
      " |-- path: string (nullable = true)\n",
      " |-- data: binary (nullable = true)\n",
      " |-- organ: string (nullable = true)\n",
      " |-- species_id: integer (nullable = true)\n",
      " |-- obs_id: long (nullable = true)\n",
      " |-- license: string (nullable = true)\n",
      " |-- partner: string (nullable = true)\n",
      " |-- author: string (nullable = true)\n",
      " |-- altitude: double (nullable = true)\n",
      " |-- latitude: double (nullable = true)\n",
      " |-- longitude: double (nullable = true)\n",
      " |-- gbif_species_id: string (nullable = true)\n",
      " |-- species: string (nullable = true)\n",
      " |-- genus: string (nullable = true)\n",
      " |-- family: string (nullable = true)\n",
      " |-- dataset: string (nullable = true)\n",
      " |-- publisher: string (nullable = true)\n",
      " |-- references: string (nullable = true)\n",
      " |-- url: string (nullable = true)\n",
      " |-- learn_tag: string (nullable = true)\n",
      " |-- image_backup_url: string (nullable = true)\n",
      "\n"
     ]
    }
   ],
   "source": [
    "# Print Schema\n",
    "final_df.printSchema()"
   ]
  },
  {
   "cell_type": "code",
   "execution_count": 14,
   "metadata": {},
   "outputs": [],
   "source": [
    "spark.stop()"
   ]
  },
  {
   "cell_type": "code",
   "execution_count": null,
   "metadata": {},
   "outputs": [],
   "source": []
  }
 ],
 "metadata": {
  "kernelspec": {
   "display_name": "Python 3",
   "language": "python",
   "name": "python3"
  },
  "language_info": {
   "codemirror_mode": {
    "name": "ipython",
    "version": 3
   },
   "file_extension": ".py",
   "mimetype": "text/x-python",
   "name": "python",
   "nbconvert_exporter": "python",
   "pygments_lexer": "ipython3",
   "version": "3.10.12"
  }
 },
 "nbformat": 4,
 "nbformat_minor": 2
}
