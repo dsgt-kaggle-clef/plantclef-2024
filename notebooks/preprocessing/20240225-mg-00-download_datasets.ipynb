{
 "cells": [
  {
   "cell_type": "markdown",
   "metadata": {},
   "source": [
    "# Download PlantCLEF 2022 datasets\n",
    "\n",
    "**NOTE:** This notebook is using Anthony's code to download `tar` in the VM and load them into GCS.\n",
    "- Datasets URL: https://lab.plantnet.org/LifeCLEF/PlantCLEF2022/train/web/"
   ]
  },
  {
   "cell_type": "code",
   "execution_count": 1,
   "metadata": {},
   "outputs": [
    {
     "name": "stdout",
     "output_type": "stream",
     "text": [
      "/mnt/data/raw\n"
     ]
    }
   ],
   "source": [
    "! mkdir -p /mnt/data/raw\n",
    "%cd /mnt/data/raw"
   ]
  },
  {
   "cell_type": "markdown",
   "metadata": {},
   "source": [
    "## 2022 data"
   ]
  },
  {
   "cell_type": "markdown",
   "metadata": {},
   "source": [
    "Let's use aria2 to download the files, so we can take advantage of the multi-threading."
   ]
  },
  {
   "cell_type": "code",
   "execution_count": null,
   "metadata": {},
   "outputs": [],
   "source": [
    "urls = \"\"\"\n",
    "https://lab.plantnet.org/LifeCLEF/PlantCLEF2022/train/web/PlantCLEF2022_web_training_images_1.tar.gz\n",
    "https://lab.plantnet.org/LifeCLEF/PlantCLEF2022/train/web/PlantCLEF2022_web_training_images_2.tar.gz\n",
    "https://lab.plantnet.org/LifeCLEF/PlantCLEF2022/train/web/PlantCLEF2022_web_training_images_3.tar.gz\n",
    "https://lab.plantnet.org/LifeCLEF/PlantCLEF2022/train/web/PlantCLEF2022_web_training_images_4.tar.gz\n",
    "https://lab.plantnet.org/LifeCLEF/PlantCLEF2022/train/web/PlantCLEF2022_web_training_metadata.csv\n",
    "https://lab.plantnet.org/LifeCLEF/PlantCLEF2022/train/web/PlantCLEF2022_web_training_metadata.tar.gz\n",
    "\"\"\"\n",
    "with open(\"/mnt/data/raw/urls.txt\", \"w\") as f:\n",
    "    f.write(urls.strip())\n",
    "\n",
    "! cat /mnt/data/raw/urls.txt"
   ]
  },
  {
   "cell_type": "code",
   "execution_count": null,
   "metadata": {},
   "outputs": [],
   "source": [
    "! aria2c --check-certificate=false -c -i /mnt/data/raw/urls.txt -d /mnt/data/raw"
   ]
  },
  {
   "cell_type": "code",
   "execution_count": null,
   "metadata": {},
   "outputs": [],
   "source": [
    "! gcloud storage rsync -R /mnt/data/ gs://dsgt-clef-plantclef-2024/"
   ]
  },
  {
   "cell_type": "markdown",
   "metadata": {},
   "source": [
    "## 2024 data"
   ]
  },
  {
   "cell_type": "code",
   "execution_count": null,
   "metadata": {},
   "outputs": [],
   "source": [
    "urls = \"\"\"\n",
    "https://lab.plantnet.org/LifeCLEF/PlantCLEF2024/single_plant_training_data/PlantCLEF2024singleplanttrainingdata.tar\n",
    "https://lab.plantnet.org/LifeCLEF/PlantCLEF2024/single_plant_training_data/PlantCLEF2024singleplanttrainingdata.csv\n",
    "https://lab.plantnet.org/LifeCLEF/PlantCLEF2024/pretrained_models/vit_base_patch14_reg4_dinov2_lvd142m_pc24_onlyclassifier/\n",
    "https://lab.plantnet.org/LifeCLEF/PlantCLEF2024/pretrained_models/vit_base_patch14_reg4_dinov2_lvd142m_pc24_onlyclassifier/args.yaml\n",
    "https://lab.plantnet.org/LifeCLEF/PlantCLEF2024/pretrained_models/vit_base_patch14_reg4_dinov2_lvd142m_pc24_onlyclassifier/class_mapping.txt\n",
    "https://lab.plantnet.org/LifeCLEF/PlantCLEF2024/pretrained_models/vit_base_patch14_reg4_dinov2_lvd142m_pc24_onlyclassifier/model_best.pth.tar\n",
    "https://lab.plantnet.org/LifeCLEF/PlantCLEF2024/pretrained_models/vit_base_patch14_reg4_dinov2_lvd142m_pc24_onlyclassifier/readme.txt\n",
    "https://lab.plantnet.org/LifeCLEF/PlantCLEF2024/pretrained_models/vit_base_patch14_reg4_dinov2_lvd142m_pc24_onlyclassifier/summary.csv\n",
    "\"\"\"\n",
    "\n",
    "with open(\"/mnt/data/raw/urls.txt\", \"w\") as f:\n",
    "    f.write(urls.strip())\n",
    "\n",
    "! cat /mnt/data/raw/urls.txt"
   ]
  },
  {
   "cell_type": "code",
   "execution_count": null,
   "metadata": {},
   "outputs": [],
   "source": [
    "! aria2c --check-certificate=false -c -i /mnt/data/raw/urls.txt -d /mnt/data/data/models"
   ]
  },
  {
   "cell_type": "code",
   "execution_count": null,
   "metadata": {},
   "outputs": [],
   "source": [
    "! gcloud storage rsync -R /mnt/data/ gs://dsgt-clef-plantclef-2024/"
   ]
  },
  {
   "cell_type": "markdown",
   "metadata": {},
   "source": [
    "### 2024 models"
   ]
  },
  {
   "cell_type": "code",
   "execution_count": 2,
   "metadata": {},
   "outputs": [
    {
     "name": "stdout",
     "output_type": "stream",
     "text": [
      "/mnt/data/models\n"
     ]
    }
   ],
   "source": [
    "! mkdir -p /mnt/data/models\n",
    "%cd /mnt/data/models"
   ]
  },
  {
   "cell_type": "code",
   "execution_count": 3,
   "metadata": {},
   "outputs": [
    {
     "name": "stdout",
     "output_type": "stream",
     "text": [
      "https://zenodo.org/records/10848263/files/PlantNet_PlantCLEF2024_pretrained_models_on_the_flora_of_south-western_europe.tar?download=1"
     ]
    }
   ],
   "source": [
    "urls = \"\"\"\n",
    "https://zenodo.org/records/10848263/files/PlantNet_PlantCLEF2024_pretrained_models_on_the_flora_of_south-western_europe.tar?download=1\n",
    "\"\"\"\n",
    "\n",
    "with open(\"/mnt/data/models/urls.txt\", \"w\") as f:\n",
    "    f.write(urls.strip())\n",
    "\n",
    "! cat /mnt/data/models/urls.txt"
   ]
  },
  {
   "cell_type": "code",
   "execution_count": 4,
   "metadata": {},
   "outputs": [
    {
     "name": "stdout",
     "output_type": "stream",
     "text": [
      "\n",
      "03/24 16:36:24 [\u001b[1;32mNOTICE\u001b[0m] Downloading 1 item(s)\n",
      " *** Download Progress Summary as of Sun Mar 24 16:37:25 2024 ***              2s\u001b[0m\u001b[35m]\u001b[0m\u001b[0mmmm[0m\n",
      "===============================================================================\n",
      "[#87db8d 1.6GiB/2.1GiB(75%) CN:1 DL:22MiB ETA:22s]\n",
      "FILE: /mnt/data/models/PlantNet_PlantCLEF2024_pretrained_models_on_the_flora_of_south-western_europe.tar\n",
      "-------------------------------------------------------------------------------\n",
      "\n",
      "\u001b[35m[\u001b[0m#87db8d 2.1GiB/2.1GiB\u001b[36m(99%)\u001b[0m CN:1 DL:\u001b[32m23MiB\u001b[0m\u001b[35m]\u001b[0m\u001b[0m0m\u001b[35m]\u001b[0m\u001b[0mm\n",
      "03/24 16:37:47 [\u001b[1;32mNOTICE\u001b[0m] Download complete: /mnt/data/models/PlantNet_PlantCLEF2024_pretrained_models_on_the_flora_of_south-western_europe.tar\n",
      "\n",
      "Download Results:\n",
      "gid   |stat|avg speed  |path/URI\n",
      "======+====+===========+=======================================================\n",
      "87db8d|\u001b[1;32mOK\u001b[0m  |    23MiB/s|/mnt/data/models/PlantNet_PlantCLEF2024_pretrained_models_on_the_flora_of_south-western_europe.tar\n",
      "\n",
      "Status Legend:\n",
      "(OK):download completed.\n"
     ]
    }
   ],
   "source": [
    "! aria2c --check-certificate=false -c -i /mnt/data/raw/urls.txt -d /mnt/data/models"
   ]
  },
  {
   "cell_type": "code",
   "execution_count": 6,
   "metadata": {},
   "outputs": [
    {
     "name": "stdout",
     "output_type": "stream",
     "text": [
      "At file:///mnt/data/**, worker process 7568 thread 134386194429760 listed 2...\n",
      "At gs://dsgt-clef-plantclef-2024/data/**, worker process 7568 thread 134386194429760 listed 621...\n",
      "\u001b[1;33mWARNING:\u001b[0m Parallel composite upload was turned ON to get the best performance on\n",
      "uploading large objects. If you would like to opt-out and instead\n",
      "perform a normal upload, run: `gcloud config set\n",
      "storage/parallel_composite_upload_enabled False` If you would like to\n",
      "disable this warning, run: `gcloud config set\n",
      "storage/parallel_composite_upload_enabled True` Note that with\n",
      "parallel composite uploads, your object might be uploaded as a\n",
      "composite object (https://cloud.google.com/storage/docs/composite-\n",
      "objects), which means that any user who downloads your object will\n",
      "need to use crc32c checksums to verify data integrity. gcloud storage\n",
      "is capable of computing crc32c checksums, but this might pose a\n",
      "problem for other clients.\n",
      "\n",
      "Copying file:///mnt/data/models/PlantNet_PlantCLEF2024_pretrained_models_on_the_flora_of_south-western_europe.tar to gs://dsgt-clef-plantclef-2024/data/models/PlantNet_PlantCLEF2024_pretrained_models_on_the_flora_of_south-western_europe.tar\n",
      "Copying file:///mnt/data/models/urls.txt to gs://dsgt-clef-plantclef-2024/data/models/urls.txt\n",
      "  Completed files 33/2 | 2.1GiB/2.1GiB | 699.6MiB/s                            \n",
      "\n",
      "Average throughput: 688.9MiB/s\n"
     ]
    }
   ],
   "source": [
    "! gcloud storage rsync -R /mnt/data/ gs://dsgt-clef-plantclef-2024/data"
   ]
  },
  {
   "cell_type": "code",
   "execution_count": null,
   "metadata": {},
   "outputs": [],
   "source": []
  }
 ],
 "metadata": {
  "kernelspec": {
   "display_name": "Python 3",
   "language": "python",
   "name": "python3"
  },
  "language_info": {
   "codemirror_mode": {
    "name": "ipython",
    "version": 3
   },
   "file_extension": ".py",
   "mimetype": "text/x-python",
   "name": "python",
   "nbconvert_exporter": "python",
   "pygments_lexer": "ipython3",
   "version": "3.10.12"
  }
 },
 "nbformat": 4,
 "nbformat_minor": 2
}
