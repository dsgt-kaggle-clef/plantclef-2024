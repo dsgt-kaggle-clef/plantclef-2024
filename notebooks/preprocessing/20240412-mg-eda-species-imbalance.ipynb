{
 "cells": [
  {
   "cell_type": "markdown",
   "metadata": {},
   "source": [
    "# EDA species imbalance"
   ]
  },
  {
   "cell_type": "code",
   "execution_count": 1,
   "metadata": {},
   "outputs": [],
   "source": [
    "%load_ext autoreload\n",
    "%autoreload 2"
   ]
  },
  {
   "cell_type": "code",
   "execution_count": 2,
   "metadata": {},
   "outputs": [
    {
     "name": "stderr",
     "output_type": "stream",
     "text": [
      "Setting default log level to \"WARN\".\n",
      "To adjust logging level use sc.setLogLevel(newLevel). For SparkR, use setLogLevel(newLevel).\n",
      "24/04/12 20:58:34 WARN NativeCodeLoader: Unable to load native-hadoop library for your platform... using builtin-java classes where applicable\n",
      "24/04/12 20:58:34 WARN SparkConf: Note that spark.local.dir will be overridden by the value set by the cluster manager (via SPARK_LOCAL_DIRS in mesos/standalone/kubernetes and LOCAL_DIRS in YARN).\n",
      "24/04/12 20:58:35 WARN Utils: Service 'SparkUI' could not bind on port 4040. Attempting port 4041.\n"
     ]
    },
    {
     "data": {
      "text/html": [
       "\n",
       "            <div>\n",
       "                <p><b>SparkSession - in-memory</b></p>\n",
       "                \n",
       "        <div>\n",
       "            <p><b>SparkContext</b></p>\n",
       "\n",
       "            <p><a href=\"http://plantclef-dev.us-central1-a.c.dsgt-clef-2024.internal:4041\">Spark UI</a></p>\n",
       "\n",
       "            <dl>\n",
       "              <dt>Version</dt>\n",
       "                <dd><code>v3.5.0</code></dd>\n",
       "              <dt>Master</dt>\n",
       "                <dd><code>local[*]</code></dd>\n",
       "              <dt>AppName</dt>\n",
       "                <dd><code>plantclef</code></dd>\n",
       "            </dl>\n",
       "        </div>\n",
       "        \n",
       "            </div>\n",
       "        "
      ],
      "text/plain": [
       "<pyspark.sql.session.SparkSession at 0x7332240967d0>"
      ]
     },
     "metadata": {},
     "output_type": "display_data"
    }
   ],
   "source": [
    "from plantclef.utils import get_spark\n",
    "\n",
    "spark = get_spark()\n",
    "display(spark)"
   ]
  },
  {
   "cell_type": "code",
   "execution_count": 3,
   "metadata": {},
   "outputs": [
    {
     "name": "stderr",
     "output_type": "stream",
     "text": [
      "                                                                                \r"
     ]
    },
    {
     "name": "stdout",
     "output_type": "stream",
     "text": [
      "+--------------------------------------------+----------+--------------------------------------------------+\n",
      "|                                  image_name|species_id|                                     dct_embedding|\n",
      "+--------------------------------------------+----------+--------------------------------------------------+\n",
      "|170e88ca9af457daa1038092479b251c61c64f7d.jpg|   1742956|[-20648.51, 2133.689, -2555.3125, 14820.57, 685...|\n",
      "|c24a2d8646f5bc7112a39908bd2f6c45bf066a71.jpg|   1356834|[-25395.82, -12564.387, 24736.02, 20483.8, 2115...|\n",
      "|e1f68e5f05618921969aee2575de20e537e6d66b.jpg|   1563754|[-26178.633, -7670.404, -22552.29, -6563.006, 8...|\n",
      "|b0433cd6968b57d52e5c25dc45a28e674a25e61e.jpg|   1367432|[-23662.764, -6773.8213, -8283.518, 3769.6064, ...|\n",
      "|96478a0fe20a41e755b0c8d798690f2c2b7c115f.jpg|   1389010|[-22182.172, -19444.006, 23355.23, 7042.8604, -...|\n",
      "+--------------------------------------------+----------+--------------------------------------------------+\n",
      "only showing top 5 rows\n",
      "\n"
     ]
    },
    {
     "name": "stderr",
     "output_type": "stream",
     "text": [
      "[Stage 3:>                                                          (0 + 1) / 1]\r"
     ]
    },
    {
     "name": "stdout",
     "output_type": "stream",
     "text": [
      "+--------------------+--------------------+------+----------+----------+--------------------+-------+--------------------+--------+-------------+-------------+---------------+--------------------+----------+-------------+--------+-----------+--------------------+--------------------+---------+--------------------+--------------------+\n",
      "|          image_name|                path| organ|species_id|    obs_id|             license|partner|              author|altitude|     latitude|    longitude|gbif_species_id|             species|     genus|       family| dataset|  publisher|          references|                 url|learn_tag|    image_backup_url|                data|\n",
      "+--------------------+--------------------+------+----------+----------+--------------------+-------+--------------------+--------+-------------+-------------+---------------+--------------------+----------+-------------+--------+-----------+--------------------+--------------------+---------+--------------------+--------------------+\n",
      "|2fb34c40832bffad3...|/PlantCLEF2024/tr...|  bark|   1361703|4116028543|http://creativeco...|   NULL|              Tony H|    NULL|         NULL|         NULL|      5328663.0|Posidonia oceanic...| Posidonia|Posidoniaceae|    gbif|iNaturalist|https://www.inatu...|https://inaturali...|    train|https://lab.plant...|[FF D8 FF E0 00 1...|\n",
      "|38da078be8660b772...|/PlantCLEF2024/tr...| habit|   1355927|1003213237|            cc-by-sa|   tela|Tela Botanica − J...|   219.0|     43.59753|     -8.12915|      3114986.0|Arctotheca calend...|Arctotheca|   Asteraceae|plantnet|   plantnet|https://identify....|https://bs.plantn...|    train|https://lab.plant...|[FF D8 FF E0 00 1...|\n",
      "|4fe98ed9eff6eed40...|/PlantCLEF2024/tr...|flower|   1388692|1009573842|            cc-by-sa|   NULL|   Monteiro Henrique|   124.0|38.6945228605|-9.2953275237|      3172592.0|Podranea ricasoli...|  Podranea| Bignoniaceae|plantnet|   plantnet|https://identify....|https://bs.plantn...|    train|https://lab.plant...|[FF D8 FF E0 00 1...|\n",
      "+--------------------+--------------------+------+----------+----------+--------------------+-------+--------------------+--------+-------------+-------------+---------------+--------------------+----------+-------------+--------+-----------+--------------------+--------------------+---------+--------------------+--------------------+\n",
      "only showing top 3 rows\n",
      "\n"
     ]
    },
    {
     "name": "stderr",
     "output_type": "stream",
     "text": [
      "                                                                                \r"
     ]
    }
   ],
   "source": [
    "# Path and dataset names\n",
    "gcs_path = \"gs://dsgt-clef-plantclef-2024/data\"\n",
    "dct_emb_train = \"process/training_cropped_resized_v2/dino_dct/data\"\n",
    "train = \"parquet_files/PlantCLEF2024_training_cropped_resized_v2\"\n",
    "\n",
    "# Define the GCS path to the embedding files\n",
    "dct_gcs_path = f\"{gcs_path}/{dct_emb_train}\"\n",
    "train_gcs_path = f\"{gcs_path}/{train}\"\n",
    "\n",
    "# Read the Parquet file into a DataFrame\n",
    "dct_df = spark.read.parquet(dct_gcs_path)\n",
    "train_df = spark.read.parquet(train_gcs_path)\n",
    "\n",
    "# Show the data\n",
    "dct_df.show(n=5, truncate=50)\n",
    "train_df.show(n=3)"
   ]
  },
  {
   "cell_type": "code",
   "execution_count": 4,
   "metadata": {},
   "outputs": [
    {
     "name": "stderr",
     "output_type": "stream",
     "text": [
      "[Stage 4:======================================================>(165 + 1) / 166]\r"
     ]
    },
    {
     "name": "stdout",
     "output_type": "stream",
     "text": [
      "+--------------------+----------+---+\n",
      "|             species|species_id|  n|\n",
      "+--------------------+----------+---+\n",
      "|Styphnolobium jap...|   1369068|823|\n",
      "|Frangula alnus Mill.|   1360257|793|\n",
      "|Aria edulis (Will...|   1737559|770|\n",
      "|Lathyrus oleraceu...|   1741625|700|\n",
      "|  Bromus sterilis L.|   1414366|674|\n",
      "|   Lotus hirsutus L.|   1743246|668|\n",
      "|Scandosorbus inte...|   1737669|662|\n",
      "|     Hedera helix L.|   1363575|653|\n",
      "|Oxalis dillenii J...|   1394359|653|\n",
      "|Calicotome spinos...|   1359160|642|\n",
      "|Castanea sativa M...|   1358610|638|\n",
      "|Buxus semperviren...|   1356729|636|\n",
      "|    Arbutus unedo L.|   1358500|634|\n",
      "|Pistacia lentiscu...|   1356290|632|\n",
      "|   Ulmus minor Mill.|   1360607|630|\n",
      "|Tecomaria capensi...|   1400151|627|\n",
      "|     Quercus ilex L.|   1357416|626|\n",
      "|Calamagrostis are...|   1722433|625|\n",
      "|Pittosporum tobir...|   1394624|625|\n",
      "|Cercis siliquastr...|   1359162|624|\n",
      "+--------------------+----------+---+\n",
      "only showing top 20 rows\n",
      "\n"
     ]
    },
    {
     "name": "stderr",
     "output_type": "stream",
     "text": [
      "                                                                                \r"
     ]
    }
   ],
   "source": [
    "from pyspark.sql import functions as F\n",
    "\n",
    "# Transformation\n",
    "grouped_train_df = (\n",
    "    train_df.groupBy([\"species\", \"species_id\"])\n",
    "    .agg(F.count(\"species_id\").alias(\"n\"))\n",
    "    .orderBy(F.col(\"n\").desc())\n",
    ")\n",
    "\n",
    "# Action\n",
    "grouped_train_df.show()"
   ]
  },
  {
   "cell_type": "code",
   "execution_count": 5,
   "metadata": {},
   "outputs": [
    {
     "name": "stderr",
     "output_type": "stream",
     "text": [
      "                                                                                \r"
     ]
    },
    {
     "data": {
      "text/plain": [
       "4797"
      ]
     },
     "execution_count": 5,
     "metadata": {},
     "output_type": "execute_result"
    }
   ],
   "source": [
    "grouped_train_df.filter(\"n >= 100\").count()"
   ]
  },
  {
   "cell_type": "code",
   "execution_count": 6,
   "metadata": {},
   "outputs": [],
   "source": [
    "import matplotlib.pyplot as plt\n",
    "\n",
    "\n",
    "def plot_species_histogram(df, species_count: int):\n",
    "    # Plotting\n",
    "    plt.figure(figsize=(10, 6), dpi=100)\n",
    "\n",
    "    # Plot all species\n",
    "    df = df.filter(f\"n >= {species_count}\").toPandas()\n",
    "    plt.bar(df[\"species\"], df[\"n\"], color=\"tab:blue\")\n",
    "    plt.xlabel(\"Species\")\n",
    "    plt.ylabel(\"Count\")\n",
    "    plt.title(\n",
    "        f\"PlantCLEF 2024 Histogram of Plant Species\",\n",
    "        weight=\"bold\",\n",
    "        fontsize=14,\n",
    "    )\n",
    "    plt.xticks([])\n",
    "    plt.tight_layout()\n",
    "    plt.show()"
   ]
  },
  {
   "cell_type": "code",
   "execution_count": 7,
   "metadata": {},
   "outputs": [
    {
     "name": "stderr",
     "output_type": "stream",
     "text": [
      "                                                                                \r"
     ]
    },
    {
     "data": {
      "image/png": "[encoded data removed]",
      "text/plain": [
       "<Figure size 1000x600 with 1 Axes>"
      ]
     },
     "metadata": {},
     "output_type": "display_data"
    }
   ],
   "source": [
    "# Plot species\n",
    "plot_species_histogram(grouped_train_df, species_count=1)"
   ]
  },
  {
   "cell_type": "code",
   "execution_count": 8,
   "metadata": {},
   "outputs": [
    {
     "name": "stderr",
     "output_type": "stream",
     "text": [
      "[Stage 21:=====================================================>(165 + 1) / 166]\r"
     ]
    },
    {
     "name": "stdout",
     "output_type": "stream",
     "text": [
      "+---------------------------------------------+----------+---+\n",
      "|                                      species|species_id|  n|\n",
      "+---------------------------------------------+----------+---+\n",
      "|Trisetaria aurea (Ten.) Pignatti ex Kerguélen|   1743231|  1|\n",
      "|                          Centaurea pinae Pau|   1502791|  1|\n",
      "|                 Saxifraga × capitata Lapeyr.|   1687898|  1|\n",
      "|                          Crocus clusii J.Gay|   1743927|  1|\n",
      "|                       Anchusa puechii Valdés|   1477204|  1|\n",
      "|                                        Inula|   1397412|  1|\n",
      "|            Alyssum rhodanense Jord. & Fourr.|   1743639|  1|\n",
      "|                    Myosotis soleirolii Godr.|   1478565|  1|\n",
      "|                                      Lactuca|   1364172|  1|\n",
      "|        Delphinium bolosii C.Blanché & Molero|   1663927|  1|\n",
      "|                                     Dianthus|   1397368|  1|\n",
      "|                                    Heracleum|   1360744|  1|\n",
      "|                  Taraxacum lojoense H.Lindb.|   1523597|  1|\n",
      "|                Helianthemum papillare Boiss.|   1357151|  1|\n",
      "|                        Festuca inops De Not.|   1399589|  1|\n",
      "|        Trisetaria macrochaeta (Boiss.) Maire|   1361444|  1|\n",
      "|                        Papaver confine Jord.|   1741758|  1|\n",
      "|                                    Cardamine|   1363885|  1|\n",
      "|                      Galium valentinum Lange|   1673405|  1|\n",
      "|      Festuca liviensis (Verg.) Markgr.-Dann.|   1392317|  1|\n",
      "+---------------------------------------------+----------+---+\n",
      "only showing top 20 rows\n",
      "\n"
     ]
    },
    {
     "name": "stderr",
     "output_type": "stream",
     "text": [
      "                                                                                \r"
     ]
    }
   ],
   "source": [
    "grouped_train_df.filter(\"n == 1\").show(20, truncate=50)"
   ]
  },
  {
   "cell_type": "code",
   "execution_count": null,
   "metadata": {},
   "outputs": [],
   "source": []
  }
 ],
 "metadata": {
  "kernelspec": {
   "display_name": "Python 3",
   "language": "python",
   "name": "python3"
  },
  "language_info": {
   "codemirror_mode": {
    "name": "ipython",
    "version": 3
   },
   "file_extension": ".py",
   "mimetype": "text/x-python",
   "name": "python",
   "nbconvert_exporter": "python",
   "pygments_lexer": "ipython3",
   "version": "3.10.12"
  }
 },
 "nbformat": 4,
 "nbformat_minor": 2
}
