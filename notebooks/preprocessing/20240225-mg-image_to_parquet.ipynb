{
 "cells": [
  {
   "cell_type": "markdown",
   "metadata": {},
   "source": [
    "## Image to Parquet"
   ]
  },
  {
   "cell_type": "code",
   "execution_count": 1,
   "metadata": {},
   "outputs": [],
   "source": [
    "%load_ext autoreload\n",
    "%autoreload 2"
   ]
  },
  {
   "cell_type": "markdown",
   "metadata": {},
   "source": [
    "### testing spark setup"
   ]
  },
  {
   "cell_type": "code",
   "execution_count": 2,
   "metadata": {},
   "outputs": [
    {
     "name": "stdout",
     "output_type": "stream",
     "text": [
      "gs://dsgt-clef-plantclef-2024/raw/PlantCLEF2022_web_training_images_1.tar.gz\n",
      "gs://dsgt-clef-plantclef-2024/raw/PlantCLEF2022_web_training_images_2.tar.gz\n",
      "gs://dsgt-clef-plantclef-2024/raw/PlantCLEF2022_web_training_images_3.tar.gz\n",
      "gs://dsgt-clef-plantclef-2024/raw/PlantCLEF2022_web_training_images_4.tar.gz\n",
      "gs://dsgt-clef-plantclef-2024/raw/PlantCLEF2022_web_training_metadata.csv\n",
      "gs://dsgt-clef-plantclef-2024/raw/PlantCLEF2022_web_training_metadata.tar.gz\n",
      "gs://dsgt-clef-plantclef-2024/raw/urls.txt\n"
     ]
    }
   ],
   "source": [
    "# let's check that the initial data from murilo is theres\n",
    "! gcloud storage ls gs://dsgt-clef-plantclef-2024/raw/ | head"
   ]
  },
  {
   "cell_type": "code",
   "execution_count": 3,
   "metadata": {},
   "outputs": [
    {
     "name": "stderr",
     "output_type": "stream",
     "text": [
      "Setting default log level to \"WARN\".\n",
      "To adjust logging level use sc.setLogLevel(newLevel). For SparkR, use setLogLevel(newLevel).\n",
      "24/02/25 18:20:03 WARN NativeCodeLoader: Unable to load native-hadoop library for your platform... using builtin-java classes where applicable\n",
      "24/02/25 18:20:03 WARN SparkConf: Note that spark.local.dir will be overridden by the value set by the cluster manager (via SPARK_LOCAL_DIRS in mesos/standalone/kubernetes and LOCAL_DIRS in YARN).\n"
     ]
    },
    {
     "data": {
      "text/html": [
       "\n",
       "            <div>\n",
       "                <p><b>SparkSession - in-memory</b></p>\n",
       "                \n",
       "        <div>\n",
       "            <p><b>SparkContext</b></p>\n",
       "\n",
       "            <p><a href=\"http://plantclef-dev.us-central1-a.c.dsgt-clef-2024.internal:4040\">Spark UI</a></p>\n",
       "\n",
       "            <dl>\n",
       "              <dt>Version</dt>\n",
       "                <dd><code>v3.5.0</code></dd>\n",
       "              <dt>Master</dt>\n",
       "                <dd><code>local[*]</code></dd>\n",
       "              <dt>AppName</dt>\n",
       "                <dd><code>pyspark-shell</code></dd>\n",
       "            </dl>\n",
       "        </div>\n",
       "        \n",
       "            </div>\n",
       "        "
      ],
      "text/plain": [
       "<pyspark.sql.session.SparkSession at 0x7f9618149930>"
      ]
     },
     "metadata": {},
     "output_type": "display_data"
    }
   ],
   "source": [
    "import os\n",
    "from pathlib import Path\n",
    "from pyspark.sql.functions import regexp_replace, split, element_at\n",
    "from pyspark.sql import Row\n",
    "from plantclef.utils import get_spark\n",
    "\n",
    "spark = get_spark()\n",
    "display(spark)"
   ]
  },
  {
   "cell_type": "code",
   "execution_count": 10,
   "metadata": {},
   "outputs": [
    {
     "data": {
      "text/plain": [
       "PosixPath('/home/mgustine/plantclef-2024/data/images')"
      ]
     },
     "execution_count": 10,
     "metadata": {},
     "output_type": "execute_result"
    }
   ],
   "source": [
    "# Base directory using pathlib\n",
    "curr_dir = Path(os.getcwd())\n",
    "base_dir = curr_dir.parents[1] / \"data\" / \"images\"\n",
    "base_dir"
   ]
  },
  {
   "cell_type": "code",
   "execution_count": 14,
   "metadata": {},
   "outputs": [
    {
     "name": "stderr",
     "output_type": "stream",
     "text": [
      "                                                                                \r"
     ]
    },
    {
     "name": "stdout",
     "output_type": "stream",
     "text": [
      "root\n",
      " |-- path: string (nullable = true)\n",
      " |-- file_name: string (nullable = true)\n",
      " |-- data: binary (nullable = true)\n",
      " |-- image_path: string (nullable = true)\n",
      "\n"
     ]
    }
   ],
   "source": [
    "# Load all files from the base directory as binary data\n",
    "# Convert Path object to string when passing to PySpark\n",
    "image_df = (\n",
    "    spark.read.format(\"binaryFile\")\n",
    "    .option(\"pathGlobFilter\", \"*.jpg\")\n",
    "    .option(\"recursiveFileLookup\", \"true\")\n",
    "    .load(base_dir.as_posix())\n",
    ")\n",
    "\n",
    "# Construct the string to be replaced - adjust this based on your actual base path\n",
    "to_remove = \"file:\" + str(base_dir.parents[0])\n",
    "\n",
    "# Remove \"file:{base_dir.parents[0]\" from path column\n",
    "image_df = image_df.withColumn(\"path\", regexp_replace(\"path\", to_remove, \"\"))\n",
    "\n",
    "# Split the path into an array of elements\n",
    "split_path = split(image_df[\"path\"], \"/\")\n",
    "\n",
    "# Extract metadata from the file path\n",
    "image_final_df = image_df.withColumn(\"file_name\", element_at(split_path, -1))\n",
    "\n",
    "# Select and rename columns to fit the target schema, including renaming 'content' to 'image_binary_data'\n",
    "image_final_df = image_final_df.select(\n",
    "    \"path\",\n",
    "    \"file_name\",\n",
    "    image_final_df[\"content\"].alias(\"data\"),\n",
    ")\n",
    "\n",
    "# Create a new column \"image_path\" by removing \"/SnakeCLEF2023-small_size/\" from \"path\"\n",
    "image_final_df = image_final_df.withColumn(\n",
    "    \"image_path\", regexp_replace(\"path\", f\"^/{base_dir.parts[-1]}/\", \"\")\n",
    ")\n",
    "\n",
    "# Print Schema\n",
    "image_final_df.printSchema()"
   ]
  },
  {
   "cell_type": "code",
   "execution_count": 15,
   "metadata": {},
   "outputs": [
    {
     "name": "stderr",
     "output_type": "stream",
     "text": [
      "                                                                                \r"
     ]
    },
    {
     "name": "stdout",
     "output_type": "stream",
     "text": [
      "+--------------------+--------------------+--------------------+--------------------+\n",
      "|                path|           file_name|                data|          image_path|\n",
      "+--------------------+--------------------+--------------------+--------------------+\n",
      "|/images/4135963/7...|7c53869c1b5fc1c00...|[89 50 4E 47 0D 0...|4135963/7c53869c1...|\n",
      "|/images/10757826/...|3d7803100f3db8326...|[FF D8 FF E0 00 1...|10757826/3d780310...|\n",
      "|/images/4180681/f...|f00d257eea20c0b2b...|[42 4D 56 6B 17 0...|4180681/f00d257ee...|\n",
      "+--------------------+--------------------+--------------------+--------------------+\n",
      "only showing top 3 rows\n",
      "\n"
     ]
    }
   ],
   "source": [
    "image_final_df.show(n=3)"
   ]
  },
  {
   "cell_type": "markdown",
   "metadata": {},
   "source": [
    "### join image_df with metadata from GCS"
   ]
  },
  {
   "cell_type": "code",
   "execution_count": 17,
   "metadata": {},
   "outputs": [
    {
     "name": "stdout",
     "output_type": "stream",
     "text": [
      "gs://dsgt-clef-plantclef-2024/raw/PlantCLEF2022_web_training_images_1.tar.gz\n",
      "gs://dsgt-clef-plantclef-2024/raw/PlantCLEF2022_web_training_images_2.tar.gz\n",
      "gs://dsgt-clef-plantclef-2024/raw/PlantCLEF2022_web_training_images_3.tar.gz\n",
      "gs://dsgt-clef-plantclef-2024/raw/PlantCLEF2022_web_training_images_4.tar.gz\n",
      "gs://dsgt-clef-plantclef-2024/raw/PlantCLEF2022_web_training_metadata.csv\n",
      "gs://dsgt-clef-plantclef-2024/raw/PlantCLEF2022_web_training_metadata.tar.gz\n",
      "gs://dsgt-clef-plantclef-2024/raw/urls.txt\n"
     ]
    }
   ],
   "source": [
    "# Get list of stored files in cloud bucket\n",
    "! gcloud storage ls gs://dsgt-clef-plantclef-2024/raw"
   ]
  },
  {
   "cell_type": "code",
   "execution_count": 29,
   "metadata": {},
   "outputs": [
    {
     "name": "stderr",
     "output_type": "stream",
     "text": [
      "24/02/25 19:00:27 WARN CacheManager: Asked to cache already cached data.        \n"
     ]
    }
   ],
   "source": [
    "raw_root = \"gs://dsgt-clef-plantclef-2024/raw/\"\n",
    "meta_dataset_name = \"PlantCLEF2022_web_training_metadata.csv\"\n",
    "\n",
    "# Read the PlantCLEF 2022 metadata CSV file\n",
    "meta_df = spark.read.csv(\n",
    "    f\"{raw_root}/{meta_dataset_name}\",\n",
    "    header=True,\n",
    "    inferSchema=True,\n",
    "    sep=\";\",  # specify semicolon as delimiter\n",
    ")\n",
    "\n",
    "# Cache the DataFrame to optimize subsequent operations\n",
    "meta_df.cache()\n",
    "\n",
    "# Drop duplicate entries based on 'image_path' before the join\n",
    "meta_final_df = meta_df.dropDuplicates([\"image_path\"])"
   ]
  },
  {
   "cell_type": "code",
   "execution_count": 30,
   "metadata": {},
   "outputs": [
    {
     "name": "stderr",
     "output_type": "stream",
     "text": [
      "[Stage 32:==============================================>           (4 + 1) / 5]\r"
     ]
    },
    {
     "name": "stdout",
     "output_type": "stream",
     "text": [
      "+--------+--------------------------------------------+-----------------------------------------------------+---------------------------+---------+----------+---------+-------------+----------+-------------+-------------------------+----------------------------------------------------------------------------------------------------+----------------------------------------------------------------------------------------------------+\n",
      "| classid|                                  image_name|                                           image_path|                    species|    genus|    family|    order|        class|manual_tag|predicted_tag|predicted_tag_probability|                                                                                        original_url|                                                                                    image_backup_url|\n",
      "+--------+--------------------------------------------+-----------------------------------------------------+---------------------------+---------+----------+---------+-------------+----------+-------------+-------------------------+----------------------------------------------------------------------------------------------------+----------------------------------------------------------------------------------------------------+\n",
      "|10000918|659f1b10a3360d5527b944f8d38c43d385981b31.jpg|10000918/659f1b10a3360d5527b944f8d38c43d385981b31.jpg|Grevillea whiteana Mc Gill.|Grevillea|Proteaceae|Proteales|Magnoliopsida|      NULL|       flower|                   0.5189|        http://4.bp.blogspot.com/-ZtA5GsepQ3o/TaNYVtiWRLI/AAAAAAAAC-M/kNIki1E7D8E/s1600/100_3254.JPG|https://lab.plantnet.org/LifeCLEF/PlantCLEF2022/train/web/images/10000918/659f1b10a3360d5527b944f...|\n",
      "|10000918|670a2ed9358fa33baf134b06494fc972f138d872.jpg|10000918/670a2ed9358fa33baf134b06494fc972f138d872.jpg|Grevillea whiteana Mc Gill.|Grevillea|Proteaceae|Proteales|Magnoliopsida|      NULL|         leaf|                    0.887|http://upload.wikimedia.org/wikipedia/commons/thumb/b/b0/Grevillea_whiteana.jpg/240px-Grevillea_w...|https://lab.plantnet.org/LifeCLEF/PlantCLEF2022/train/web/images/10000918/670a2ed9358fa33baf134b0...|\n",
      "|10000918|ac4141846a11c7bbe014041e1879386998f477cf.jpg|10000918/ac4141846a11c7bbe014041e1879386998f477cf.jpg|Grevillea whiteana Mc Gill.|Grevillea|Proteaceae|Proteales|Magnoliopsida|      NULL|        habit|                   0.8642|                      http://www.gardensonline.com.au/Uploads/Plant/2800/GrevilleaMoonlightWs700.jpg|https://lab.plantnet.org/LifeCLEF/PlantCLEF2022/train/web/images/10000918/ac4141846a11c7bbe014041...|\n",
      "+--------+--------------------------------------------+-----------------------------------------------------+---------------------------+---------+----------+---------+-------------+----------+-------------+-------------------------+----------------------------------------------------------------------------------------------------+----------------------------------------------------------------------------------------------------+\n",
      "only showing top 3 rows\n",
      "\n"
     ]
    },
    {
     "name": "stderr",
     "output_type": "stream",
     "text": [
      "                                                                                \r"
     ]
    }
   ],
   "source": [
    "meta_final_df.show(n=3, truncate=100)"
   ]
  },
  {
   "cell_type": "code",
   "execution_count": 31,
   "metadata": {},
   "outputs": [
    {
     "name": "stderr",
     "output_type": "stream",
     "text": [
      "                                                                                \r"
     ]
    },
    {
     "data": {
      "text/plain": [
       "1071627"
      ]
     },
     "execution_count": 31,
     "metadata": {},
     "output_type": "execute_result"
    }
   ],
   "source": [
    "meta_final_df.count()"
   ]
  },
  {
   "cell_type": "code",
   "execution_count": 32,
   "metadata": {},
   "outputs": [
    {
     "name": "stderr",
     "output_type": "stream",
     "text": [
      "[Stage 45:>                                                         (0 + 1) / 1]\r"
     ]
    },
    {
     "name": "stdout",
     "output_type": "stream",
     "text": [
      "+-----------------------------------------------------+-------------------------------------------------------------+--------------------------------------------+----------------------------------------------------------------------------------------------------+--------+--------------------------------------------+-----------------------------------------------------------------------------------+---------------+----------+--------------+-------------+----------+-------------+-------------------------+----------------------------------------------------------------------------------------------------+----------------------------------------------------------------------------------------------------+\n",
      "|                                           image_path|                                                         path|                                   file_name|                                                                                                data| classid|                                  image_name|                                                                            species|          genus|    family|         order|        class|manual_tag|predicted_tag|predicted_tag_probability|                                                                                        original_url|                                                                                    image_backup_url|\n",
      "+-----------------------------------------------------+-------------------------------------------------------------+--------------------------------------------+----------------------------------------------------------------------------------------------------+--------+--------------------------------------------+-----------------------------------------------------------------------------------+---------------+----------+--------------+-------------+----------+-------------+-------------------------+----------------------------------------------------------------------------------------------------+----------------------------------------------------------------------------------------------------+\n",
      "|10071055/a602a47a18c67bbb56e5505fabe593095ddd2052.jpg|/images/10071055/a602a47a18c67bbb56e5505fabe593095ddd2052.jpg|a602a47a18c67bbb56e5505fabe593095ddd2052.jpg|[FF D8 FF E0 00 10 4A 46 49 46 00 01 01 01 00 B4 00 B4 00 00 FF ED 24 10 50 68 6F 74 6F 73 68 6F ...|10071055|a602a47a18c67bbb56e5505fabe593095ddd2052.jpg|                                           Scandosorbus intermedia Sennikov (Ehrh.)|   Scandosorbus|  Rosaceae|       Rosales|Magnoliopsida|      NULL|       flower|                   0.5306|http://www.bing.com/cr?IG=E2BE9B7D9A3045BAB94747888BB89DD5&CID=2EFA73DD27D2639B00627A3826356297&r...|https://lab.plantnet.org/LifeCLEF/PlantCLEF2022/train/web/images/10071055/a602a47a18c67bbb56e5505...|\n",
      "|10141067/322f8cfcedecafe16afa558c4e2162d35f8fc9fe.jpg|/images/10141067/322f8cfcedecafe16afa558c4e2162d35f8fc9fe.jpg|322f8cfcedecafe16afa558c4e2162d35f8fc9fe.jpg|[FF D8 FF E0 00 10 4A 46 49 46 00 01 01 01 01 2C 01 2C 00 00 FF E1 88 45 45 78 69 66 00 00 49 49 ...|10141067|322f8cfcedecafe16afa558c4e2162d35f8fc9fe.jpg|                                        Drosanthemopsis diversifolia Klak (L.Bolus)|Drosanthemopsis| Aizoaceae|Caryophyllales|Magnoliopsida|      NULL|        habit|                   0.9437|http://www.southernafricanplants.net/photocollection/batch004/medium/D/Drosanthemum_diversifolium...|https://lab.plantnet.org/LifeCLEF/PlantCLEF2022/train/web/images/10141067/322f8cfcedecafe16afa558...|\n",
      "|10152758/a8754fa9b2cc3a9ce384d00d08f0858cf73186fa.jpg|/images/10152758/a8754fa9b2cc3a9ce384d00d08f0858cf73186fa.jpg|a8754fa9b2cc3a9ce384d00d08f0858cf73186fa.jpg|[FF D8 FF E0 00 10 4A 46 49 46 00 01 01 01 00 60 00 60 00 00 FF DB 00 43 00 0A 07 07 09 07 06 0A ...|10152758|a8754fa9b2cc3a9ce384d00d08f0858cf73186fa.jpg|Pentanema bifrons D.Gut.Larr., Santos-Vicente, Anderb., E.Rico & M.M.Mart.Ort. (L.)|      Pentanema|Asteraceae|     Asterales|Magnoliopsida|      NULL|        habit|                   0.6422|                      https://tse4.mm.bing.net/th?id=OIP.Mef36f6cf0a860a69fca7cffb55077d1bo0&pid=Api|https://lab.plantnet.org/LifeCLEF/PlantCLEF2022/train/web/images/10152758/a8754fa9b2cc3a9ce384d00...|\n",
      "+-----------------------------------------------------+-------------------------------------------------------------+--------------------------------------------+----------------------------------------------------------------------------------------------------+--------+--------------------------------------------+-----------------------------------------------------------------------------------+---------------+----------+--------------+-------------+----------+-------------+-------------------------+----------------------------------------------------------------------------------------------------+----------------------------------------------------------------------------------------------------+\n",
      "only showing top 3 rows\n",
      "\n"
     ]
    },
    {
     "name": "stderr",
     "output_type": "stream",
     "text": [
      "                                                                                \r"
     ]
    }
   ],
   "source": [
    "# Perform an inner join on the 'image_path' column\n",
    "final_df = image_final_df.join(meta_final_df, \"image_path\", \"inner\")\n",
    "\n",
    "# Show the result to verify the join\n",
    "final_df.show(n=3, truncate=100)"
   ]
  },
  {
   "cell_type": "code",
   "execution_count": 33,
   "metadata": {},
   "outputs": [
    {
     "name": "stderr",
     "output_type": "stream",
     "text": [
      "                                                                                \r"
     ]
    },
    {
     "data": {
      "text/plain": [
       "59986"
      ]
     },
     "execution_count": 33,
     "metadata": {},
     "output_type": "execute_result"
    }
   ],
   "source": [
    "final_df.count()"
   ]
  },
  {
   "cell_type": "code",
   "execution_count": null,
   "metadata": {},
   "outputs": [],
   "source": []
  }
 ],
 "metadata": {
  "kernelspec": {
   "display_name": "Python 3",
   "language": "python",
   "name": "python3"
  },
  "language_info": {
   "codemirror_mode": {
    "name": "ipython",
    "version": 3
   },
   "file_extension": ".py",
   "mimetype": "text/x-python",
   "name": "python",
   "nbconvert_exporter": "python",
   "pygments_lexer": "ipython3",
   "version": "3.10.12"
  }
 },
 "nbformat": 4,
 "nbformat_minor": 2
}
